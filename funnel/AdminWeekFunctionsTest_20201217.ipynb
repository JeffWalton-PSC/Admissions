{
 "cells": [
  {
   "cell_type": "code",
   "execution_count": null,
   "metadata": {},
   "outputs": [],
   "source": []
  },
  {
   "cell_type": "code",
   "execution_count": 1,
   "metadata": {},
   "outputs": [],
   "source": [
    "import math as m\n",
    "import numpy as np\n",
    "import pandas as pd\n",
    "import datetime as dt\n",
    "from datetime import date\n",
    "from pathlib import Path"
   ]
  },
  {
   "cell_type": "code",
   "execution_count": 2,
   "metadata": {},
   "outputs": [
    {
     "name": "stdout",
     "output_type": "stream",
     "text": [
      "20201217\n"
     ]
    }
   ],
   "source": [
    "today = dt.date.today()\n",
    "today_str = today.strftime(\"%Y%m%d\")\n",
    "print(today_str)\n"
   ]
  },
  {
   "cell_type": "code",
   "execution_count": 3,
   "metadata": {},
   "outputs": [
    {
     "name": "stdout",
     "output_type": "stream",
     "text": [
      "acad_yr=2021\n"
     ]
    }
   ],
   "source": [
    "if today<(dt.date(today.year, 9, 1)):\n",
    "    acad_yr = today.year\n",
    "else:\n",
    "    acad_yr = today.year + 1\n",
    "\n",
    "print(f\"acad_yr={acad_yr:d}\")"
   ]
  },
  {
   "cell_type": "code",
   "execution_count": 4,
   "metadata": {},
   "outputs": [
    {
     "name": "stdout",
     "output_type": "stream",
     "text": [
      "test_year: 2021\n"
     ]
    }
   ],
   "source": [
    "test_year = 2021\n",
    "print(f\"test_year: {test_year}\")"
   ]
  },
  {
   "cell_type": "code",
   "execution_count": null,
   "metadata": {},
   "outputs": [],
   "source": []
  },
  {
   "cell_type": "code",
   "execution_count": 5,
   "metadata": {},
   "outputs": [
    {
     "name": "stdout",
     "output_type": "stream",
     "text": [
      "(2020, 53, 4)\n",
      "(2020, 53, 5)\n",
      "(2020, 53, 6)\n",
      "(2020, 53, 7)\n",
      "(2021, 1, 1)\n"
     ]
    }
   ],
   "source": [
    "print(date(2020, 12, 31).isocalendar())\n",
    "print(date(2021, 1, 1).isocalendar())\n",
    "print(date(2021, 1, 2).isocalendar())\n",
    "print(date(2021, 1, 3).isocalendar())\n",
    "print(date(2021, 1, 4).isocalendar())"
   ]
  },
  {
   "cell_type": "code",
   "execution_count": 9,
   "metadata": {},
   "outputs": [
    {
     "name": "stdout",
     "output_type": "stream",
     "text": [
      "(51, 15)\n"
     ]
    }
   ],
   "source": [
    "def date_diff_weeks(start, end):\n",
    "    diff = (pd.to_datetime(end) - pd.to_datetime(start))\n",
    "    return int( diff / np.timedelta64(1,'W'))\n",
    "\n",
    "\n",
    "def adm_week(d):\n",
    "    \"\"\"\n",
    "    returns calendar week number and Admissions Week Number for a given date, d\n",
    "    \"\"\"\n",
    "    year = d.year\n",
    "    week_number = d.isocalendar()[1]\n",
    "\n",
    "    if d >= date(year, 9, 1):\n",
    "        adm_start = date(year, 9, 1)\n",
    "    else:\n",
    "        adm_start = date(year - 1, 9, 1)\n",
    "\n",
    "    adm_week_number = min(date_diff_weeks(adm_start, d), 53)\n",
    "\n",
    "    return week_number, adm_week_number\n",
    "\n",
    "print(adm_week(today))\n"
   ]
  },
  {
   "cell_type": "code",
   "execution_count": null,
   "metadata": {},
   "outputs": [],
   "source": []
  },
  {
   "cell_type": "raw",
   "metadata": {},
   "source": [
    "def adm_week(d):\n",
    "    \"\"\"\n",
    "    returns calendar week number and Admissions Week Number for a given date, d\n",
    "    \"\"\"\n",
    "    year = d.year\n",
    "    week_number = d.isocalendar()[1]\n",
    "\n",
    "    if d >= date(year, 9, 1):\n",
    "        adm_start = date(year, 9, 1)\n",
    "        adm_end = date(year + 1, 8, 31)\n",
    "    else:\n",
    "        adm_start = date(year - 1, 9, 1)\n",
    "        adm_end = date(year + 1, 8, 31)\n",
    "    #print(f\"admissions year: {adm_start} to {adm_end}\")\n",
    "\n",
    "    adm_start_week = adm_start.isocalendar()[1]\n",
    "    if d >= date(year, 9, 1):\n",
    "        adm_week_number = (week_number - adm_start_week)\n",
    "    else:\n",
    "        adm_week_number = (date(year-1, 12, 31).isocalendar()[1] - adm_start_week) + week_number\n",
    "\n",
    "    #print(f\"adm_week| date: {d} week_number: {week_number} adm_start: {adm_start} adm_start.year: {adm_start.year} adm_start_week: {adm_start_week} adm_end: {adm_end}\")\n",
    "\n",
    "    return (week_number, adm_week_number)\n",
    "\n",
    "\n",
    "week_number, adm_week_number = adm_week(today)\n",
    "print(f\"today: {today}\", f\"week_number: {week_number}\", f\"adm_week_number: {adm_week_number}\")\n"
   ]
  },
  {
   "cell_type": "code",
   "execution_count": 7,
   "metadata": {},
   "outputs": [
    {
     "name": "stdout",
     "output_type": "stream",
     "text": [
      "date: 2020-08-31 week_number: 36 adm_week_number: 52\n",
      "date: 2020-09-01 week_number: 36 adm_week_number: 0\n",
      "date: 2020-12-31 week_number: 53 adm_week_number: 17\n",
      "date: 2021-01-01 week_number: 53 adm_week_number: 17\n"
     ]
    }
   ],
   "source": [
    "\n",
    "date1 = date(today.year, 8, 31)\n",
    "week_number, adm_week_number = adm_week(date1)\n",
    "print(f\"date: {date1}\", f\"week_number: {week_number}\", f\"adm_week_number: {adm_week_number}\")\n",
    "\n",
    "date1 = date(today.year, 9, 1)\n",
    "week_number, adm_week_number = adm_week(date1)\n",
    "print(f\"date: {date1}\", f\"week_number: {week_number}\", f\"adm_week_number: {adm_week_number}\")\n",
    "\n",
    "date1 = date(today.year, 12, 31)\n",
    "week_number, adm_week_number = adm_week(date1)\n",
    "print(f\"date: {date1}\", f\"week_number: {week_number}\", f\"adm_week_number: {adm_week_number}\")\n",
    "\n",
    "date1 = date(today.year+1, 1, 1)\n",
    "week_number, adm_week_number = adm_week(date1)\n",
    "print(f\"date: {date1}\", f\"week_number: {week_number}\", f\"adm_week_number: {adm_week_number}\")\n"
   ]
  },
  {
   "cell_type": "code",
   "execution_count": 8,
   "metadata": {},
   "outputs": [
    {
     "name": "stdout",
     "output_type": "stream",
     "text": [
      "date: 2020-08-30 week_number: 35 adm_week_number: 52\n",
      "date: 2020-08-31 week_number: 36 adm_week_number: 52\n",
      "date: 2020-09-01 week_number: 36 adm_week_number: 0\n"
     ]
    }
   ],
   "source": [
    "date1 = date(today.year, 8, 30)\n",
    "week_number, adm_week_number = adm_week(date1)\n",
    "print(f\"date: {date1}\", f\"week_number: {week_number}\", f\"adm_week_number: {adm_week_number}\")\n",
    "\n",
    "date1 = date(today.year, 8, 31)\n",
    "week_number, adm_week_number = adm_week(date1)\n",
    "print(f\"date: {date1}\", f\"week_number: {week_number}\", f\"adm_week_number: {adm_week_number}\")\n",
    "\n",
    "date1 = date(today.year, 9, 1)\n",
    "week_number, adm_week_number = adm_week(date1)\n",
    "print(f\"date: {date1}\", f\"week_number: {week_number}\", f\"adm_week_number: {adm_week_number}\")\n"
   ]
  },
  {
   "cell_type": "code",
   "execution_count": 22,
   "metadata": {},
   "outputs": [
    {
     "data": {
      "text/plain": [
       "datetime.datetime(2020, 12, 20, 0, 0)"
      ]
     },
     "execution_count": 22,
     "metadata": {},
     "output_type": "execute_result"
    }
   ],
   "source": [
    "dt.datetime.strptime(f'{2020}-{50}-0', \"%Y-%W-%w\")"
   ]
  },
  {
   "cell_type": "code",
   "execution_count": 24,
   "metadata": {},
   "outputs": [
    {
     "data": {
      "text/plain": [
       "3"
      ]
     },
     "execution_count": 24,
     "metadata": {},
     "output_type": "execute_result"
    }
   ],
   "source": [
    "today.weekday()"
   ]
  },
  {
   "cell_type": "code",
   "execution_count": 25,
   "metadata": {},
   "outputs": [
    {
     "data": {
      "text/plain": [
       "datetime.date(2020, 12, 19)"
      ]
     },
     "execution_count": 25,
     "metadata": {},
     "output_type": "execute_result"
    }
   ],
   "source": [
    "today + dt.timedelta(days=5 - today.weekday())"
   ]
  },
  {
   "cell_type": "code",
   "execution_count": 28,
   "metadata": {},
   "outputs": [
    {
     "name": "stdout",
     "output_type": "stream",
     "text": [
      "today: 2020-12-17 adm_week_number: 15 acad_yr: 2021 week end: 2020-12-19\n"
     ]
    }
   ],
   "source": [
    "def adm_week_end_date(awn, adm_yr):\n",
    "    \"\"\"\n",
    "    returns calendar date for the Friday of the given Admissions Week Number, awn\n",
    "        and academic year, adm_yr\n",
    "    \"\"\"\n",
    "    \n",
    "    adm_start_date = dt.date((adm_yr-1), 9, 1)\n",
    "    \n",
    "    d = adm_start_date + dt.timedelta(weeks = awn)\n",
    "    \n",
    "    year = d.year\n",
    "    wn = d.isocalendar()[1]\n",
    "\n",
    "    #week_end = dt.datetime.strptime(f'{year}-{wn}-0', \"%Y-%W-%w\").date() - dt.timedelta(weeks=1)\n",
    "    week_end = d + dt.timedelta(days=5 - d.weekday())\n",
    "    #print(awn, adm_yr, d, year, wn, week_end)\n",
    "    \n",
    "    return(week_end)\n",
    "\n",
    "adm_week_number=15\n",
    "adm_yr=2021\n",
    "print(f\"today: {today}\", f\"adm_week_number: {adm_week_number}\", f\"acad_yr: {adm_yr}\", \"week end:\", adm_week_end_date(adm_week_number, adm_yr))"
   ]
  },
  {
   "cell_type": "raw",
   "metadata": {},
   "source": [
    "def adm_week_end_date(awn, acad_yr):\n",
    "    \"\"\"\n",
    "    returns calendar date for the Friday of the given Admissions Week Number, awn\n",
    "        and academic year, acad_yr\n",
    "    \"\"\"\n",
    "    \n",
    "    adm_start_date = dt.date((acad_yr-1), 9, 1)\n",
    "    adm_start_week = adm_start_date.isocalendar()[1]\n",
    "    \n",
    "    if awn <= (53 - adm_start_week):\n",
    "        wn = adm_start_week + awn - 1\n",
    "        year = acad_yr - 1\n",
    "    else:\n",
    "        wn = awn - (53 - adm_start_week) - 1\n",
    "        year = acad_yr\n",
    "\n",
    "    week_end = dt.datetime.strptime(f'{year}-{wn}-1', \"%Y-%W-%w\").date() + dt.timedelta(days=6.9)\n",
    "    \n",
    "    return(week_end)\n",
    "\n",
    "print(f\"today: {today}\", f\"adm_week_number: {adm_week_number}\", f\"acad_yr: {acad_yr}\", \"week end:\", adm_week_end_date(adm_week_number, acad_yr))"
   ]
  },
  {
   "cell_type": "code",
   "execution_count": 29,
   "metadata": {},
   "outputs": [
    {
     "name": "stdout",
     "output_type": "stream",
     "text": [
      "0 2020-09-05\n",
      "1 2020-09-12\n",
      "16 2020-12-26\n",
      "17 2021-01-02\n",
      "18 2021-01-09\n",
      "19 2021-01-16\n",
      "52 2021-09-04\n",
      "53 2021-09-11\n"
     ]
    }
   ],
   "source": [
    "print(0, adm_week_end_date(0, test_year))\n",
    "print(1, adm_week_end_date(1, test_year))\n",
    "print(16, adm_week_end_date(16, test_year))\n",
    "print(17, adm_week_end_date(17, test_year))\n",
    "print(18, adm_week_end_date(18, test_year))\n",
    "print(19, adm_week_end_date(19, test_year))\n",
    "print(52, adm_week_end_date(52, test_year))\n",
    "print(53, adm_week_end_date(53, test_year))"
   ]
  },
  {
   "cell_type": "code",
   "execution_count": 31,
   "metadata": {},
   "outputs": [
    {
     "name": "stdout",
     "output_type": "stream",
     "text": [
      "test_year: 2021\n",
      "2020-08-01 wn: 31 awn: 47 end: 2021-07-31\n",
      "2020-08-02 wn: 31 awn: 48 end: 2021-08-07\n",
      "2020-08-03 wn: 32 awn: 48 end: 2021-08-07\n",
      "2020-08-04 wn: 32 awn: 48 end: 2021-08-07\n",
      "2020-08-05 wn: 32 awn: 48 end: 2021-08-07\n",
      "2020-08-06 wn: 32 awn: 48 end: 2021-08-07\n",
      "2020-08-07 wn: 32 awn: 48 end: 2021-08-07\n",
      "2020-08-08 wn: 32 awn: 48 end: 2021-08-07\n",
      "2020-08-09 wn: 32 awn: 49 end: 2021-08-14\n",
      "2020-08-10 wn: 33 awn: 49 end: 2021-08-14\n",
      "2020-08-11 wn: 33 awn: 49 end: 2021-08-14\n",
      "2020-08-12 wn: 33 awn: 49 end: 2021-08-14\n",
      "2020-08-13 wn: 33 awn: 49 end: 2021-08-14\n",
      "2020-08-14 wn: 33 awn: 49 end: 2021-08-14\n",
      "2020-08-15 wn: 33 awn: 49 end: 2021-08-14\n",
      "2020-08-16 wn: 33 awn: 50 end: 2021-08-21\n",
      "2020-08-17 wn: 34 awn: 50 end: 2021-08-21\n",
      "2020-08-18 wn: 34 awn: 50 end: 2021-08-21\n",
      "2020-08-19 wn: 34 awn: 50 end: 2021-08-21\n",
      "2020-08-20 wn: 34 awn: 50 end: 2021-08-21\n",
      "2020-08-21 wn: 34 awn: 50 end: 2021-08-21\n",
      "2020-08-22 wn: 34 awn: 50 end: 2021-08-21\n",
      "2020-08-23 wn: 34 awn: 51 end: 2021-08-28\n",
      "2020-08-24 wn: 35 awn: 51 end: 2021-08-28\n",
      "2020-08-25 wn: 35 awn: 51 end: 2021-08-28\n",
      "2020-08-26 wn: 35 awn: 51 end: 2021-08-28\n",
      "2020-08-27 wn: 35 awn: 51 end: 2021-08-28\n",
      "2020-08-28 wn: 35 awn: 51 end: 2021-08-28\n",
      "2020-08-29 wn: 35 awn: 51 end: 2021-08-28\n",
      "2020-08-30 wn: 35 awn: 52 end: 2021-09-04\n",
      "2020-08-31 wn: 36 awn: 52 end: 2021-09-04\n",
      "2020-09-01 wn: 36 awn: 0 end: 2020-09-05\n",
      "2020-09-02 wn: 36 awn: 0 end: 2020-09-05\n",
      "2020-09-03 wn: 36 awn: 0 end: 2020-09-05\n",
      "2020-09-04 wn: 36 awn: 0 end: 2020-09-05\n",
      "2020-09-05 wn: 36 awn: 0 end: 2020-09-05\n",
      "2020-09-06 wn: 36 awn: 0 end: 2020-09-05\n",
      "2020-09-07 wn: 37 awn: 0 end: 2020-09-05\n",
      "2020-09-08 wn: 37 awn: 1 end: 2020-09-12\n",
      "2020-09-09 wn: 37 awn: 1 end: 2020-09-12\n",
      "2020-09-10 wn: 37 awn: 1 end: 2020-09-12\n",
      "2020-09-11 wn: 37 awn: 1 end: 2020-09-12\n",
      "2020-09-12 wn: 37 awn: 1 end: 2020-09-12\n",
      "2020-09-13 wn: 37 awn: 1 end: 2020-09-12\n",
      "2020-09-14 wn: 38 awn: 1 end: 2020-09-12\n",
      "2020-09-15 wn: 38 awn: 2 end: 2020-09-19\n",
      "2020-09-16 wn: 38 awn: 2 end: 2020-09-19\n",
      "2020-09-17 wn: 38 awn: 2 end: 2020-09-19\n",
      "2020-09-18 wn: 38 awn: 2 end: 2020-09-19\n",
      "2020-09-19 wn: 38 awn: 2 end: 2020-09-19\n",
      "2020-09-20 wn: 38 awn: 2 end: 2020-09-19\n",
      "2020-09-21 wn: 39 awn: 2 end: 2020-09-19\n",
      "2020-09-22 wn: 39 awn: 3 end: 2020-09-26\n",
      "2020-09-23 wn: 39 awn: 3 end: 2020-09-26\n",
      "2020-09-24 wn: 39 awn: 3 end: 2020-09-26\n",
      "2020-09-25 wn: 39 awn: 3 end: 2020-09-26\n",
      "2020-09-26 wn: 39 awn: 3 end: 2020-09-26\n",
      "2020-09-27 wn: 39 awn: 3 end: 2020-09-26\n",
      "2020-09-28 wn: 40 awn: 3 end: 2020-09-26\n",
      "2020-09-29 wn: 40 awn: 4 end: 2020-10-03\n",
      "2020-09-30 wn: 40 awn: 4 end: 2020-10-03\n",
      "2020-10-01 wn: 40 awn: 4 end: 2020-10-03\n",
      "2020-10-02 wn: 40 awn: 4 end: 2020-10-03\n",
      "2020-10-03 wn: 40 awn: 4 end: 2020-10-03\n",
      "2020-10-04 wn: 40 awn: 4 end: 2020-10-03\n",
      "2020-10-05 wn: 41 awn: 4 end: 2020-10-03\n",
      "2020-10-06 wn: 41 awn: 5 end: 2020-10-10\n",
      "2020-10-07 wn: 41 awn: 5 end: 2020-10-10\n",
      "2020-10-08 wn: 41 awn: 5 end: 2020-10-10\n",
      "2020-10-09 wn: 41 awn: 5 end: 2020-10-10\n",
      "2020-10-10 wn: 41 awn: 5 end: 2020-10-10\n",
      "2020-10-11 wn: 41 awn: 5 end: 2020-10-10\n",
      "2020-10-12 wn: 42 awn: 5 end: 2020-10-10\n",
      "2020-10-13 wn: 42 awn: 6 end: 2020-10-17\n",
      "2020-10-14 wn: 42 awn: 6 end: 2020-10-17\n",
      "2020-10-15 wn: 42 awn: 6 end: 2020-10-17\n",
      "2020-10-16 wn: 42 awn: 6 end: 2020-10-17\n",
      "2020-10-17 wn: 42 awn: 6 end: 2020-10-17\n",
      "2020-10-18 wn: 42 awn: 6 end: 2020-10-17\n",
      "2020-10-19 wn: 43 awn: 6 end: 2020-10-17\n",
      "2020-10-20 wn: 43 awn: 7 end: 2020-10-24\n",
      "2020-10-21 wn: 43 awn: 7 end: 2020-10-24\n",
      "2020-10-22 wn: 43 awn: 7 end: 2020-10-24\n",
      "2020-10-23 wn: 43 awn: 7 end: 2020-10-24\n",
      "2020-10-24 wn: 43 awn: 7 end: 2020-10-24\n",
      "2020-10-25 wn: 43 awn: 7 end: 2020-10-24\n",
      "2020-10-26 wn: 44 awn: 7 end: 2020-10-24\n",
      "2020-10-27 wn: 44 awn: 8 end: 2020-10-31\n",
      "2020-10-28 wn: 44 awn: 8 end: 2020-10-31\n",
      "2020-10-29 wn: 44 awn: 8 end: 2020-10-31\n"
     ]
    }
   ],
   "source": [
    "print(f\"test_year: {test_year}\")\n",
    "base = dt.date(test_year-1, 8, 1)\n",
    "#date_list = [str(base + dt.timedelta(days=x)) for x in range(0, 21)]\n",
    "date_list = [base + dt.timedelta(days=x) for x in range(0, 90)]\n",
    "#print(date_list)\n",
    "for d in date_list:\n",
    "    wn, awn = adm_week(d)\n",
    "    end = adm_week_end_date(awn, test_year) \n",
    "    print(d, f\"wn: {wn}\", f\"awn: {awn}\", f\"end: {end}\" )\n",
    "    #print(d, f\"wn: {wn}\", f\"awn: {awn}\" )"
   ]
  },
  {
   "cell_type": "code",
   "execution_count": 32,
   "metadata": {},
   "outputs": [
    {
     "name": "stdout",
     "output_type": "stream",
     "text": [
      "2020-12-01 49 13 2020-12-05\n",
      "2020-12-02 49 13 2020-12-05\n",
      "2020-12-03 49 13 2020-12-05\n",
      "2020-12-04 49 13 2020-12-05\n",
      "2020-12-05 49 13 2020-12-05\n",
      "2020-12-06 49 13 2020-12-05\n",
      "2020-12-07 50 13 2020-12-05\n",
      "2020-12-08 50 14 2020-12-12\n",
      "2020-12-09 50 14 2020-12-12\n",
      "2020-12-10 50 14 2020-12-12\n",
      "2020-12-11 50 14 2020-12-12\n",
      "2020-12-12 50 14 2020-12-12\n",
      "2020-12-13 50 14 2020-12-12\n",
      "2020-12-14 51 14 2020-12-12\n",
      "2020-12-15 51 15 2020-12-19\n",
      "2020-12-16 51 15 2020-12-19\n",
      "2020-12-17 51 15 2020-12-19\n",
      "2020-12-18 51 15 2020-12-19\n",
      "2020-12-19 51 15 2020-12-19\n",
      "2020-12-20 51 15 2020-12-19\n",
      "2020-12-21 52 15 2020-12-19\n",
      "2020-12-22 52 16 2020-12-26\n",
      "2020-12-23 52 16 2020-12-26\n",
      "2020-12-24 52 16 2020-12-26\n",
      "2020-12-25 52 16 2020-12-26\n",
      "2020-12-26 52 16 2020-12-26\n",
      "2020-12-27 52 16 2020-12-26\n",
      "2020-12-28 53 16 2020-12-26\n",
      "2020-12-29 53 17 2021-01-02\n",
      "2020-12-30 53 17 2021-01-02\n",
      "2020-12-31 53 17 2021-01-02\n",
      "2021-01-01 53 17 2021-01-02\n",
      "2021-01-02 53 17 2021-01-02\n",
      "2021-01-03 53 17 2021-01-02\n",
      "2021-01-04 1 17 2021-01-02\n",
      "2021-01-05 1 18 2021-01-09\n",
      "2021-01-06 1 18 2021-01-09\n",
      "2021-01-07 1 18 2021-01-09\n",
      "2021-01-08 1 18 2021-01-09\n",
      "2021-01-09 1 18 2021-01-09\n",
      "2021-01-10 1 18 2021-01-09\n",
      "2021-01-11 2 18 2021-01-09\n",
      "2021-01-12 2 19 2021-01-16\n",
      "2021-01-13 2 19 2021-01-16\n",
      "2021-01-14 2 19 2021-01-16\n",
      "2021-01-15 2 19 2021-01-16\n",
      "2021-01-16 2 19 2021-01-16\n",
      "2021-01-17 2 19 2021-01-16\n",
      "2021-01-18 3 19 2021-01-16\n",
      "2021-01-19 3 20 2021-01-23\n",
      "2021-01-20 3 20 2021-01-23\n",
      "2021-01-21 3 20 2021-01-23\n",
      "2021-01-22 3 20 2021-01-23\n",
      "2021-01-23 3 20 2021-01-23\n",
      "2021-01-24 3 20 2021-01-23\n",
      "2021-01-25 4 20 2021-01-23\n",
      "2021-01-26 4 21 2021-01-30\n",
      "2021-01-27 4 21 2021-01-30\n",
      "2021-01-28 4 21 2021-01-30\n",
      "2021-01-29 4 21 2021-01-30\n",
      "2021-01-30 4 21 2021-01-30\n",
      "2021-01-31 4 21 2021-01-30\n",
      "2021-02-01 5 21 2021-01-30\n",
      "2021-02-02 5 22 2021-02-06\n",
      "2021-02-03 5 22 2021-02-06\n",
      "2021-02-04 5 22 2021-02-06\n",
      "2021-02-05 5 22 2021-02-06\n",
      "2021-02-06 5 22 2021-02-06\n",
      "2021-02-07 5 22 2021-02-06\n",
      "2021-02-08 6 22 2021-02-06\n",
      "2021-02-09 6 23 2021-02-13\n",
      "2021-02-10 6 23 2021-02-13\n",
      "2021-02-11 6 23 2021-02-13\n",
      "2021-02-12 6 23 2021-02-13\n",
      "2021-02-13 6 23 2021-02-13\n",
      "2021-02-14 6 23 2021-02-13\n",
      "2021-02-15 7 23 2021-02-13\n",
      "2021-02-16 7 24 2021-02-20\n",
      "2021-02-17 7 24 2021-02-20\n",
      "2021-02-18 7 24 2021-02-20\n",
      "2021-02-19 7 24 2021-02-20\n",
      "2021-02-20 7 24 2021-02-20\n",
      "2021-02-21 7 24 2021-02-20\n",
      "2021-02-22 8 24 2021-02-20\n",
      "2021-02-23 8 25 2021-02-27\n",
      "2021-02-24 8 25 2021-02-27\n",
      "2021-02-25 8 25 2021-02-27\n",
      "2021-02-26 8 25 2021-02-27\n",
      "2021-02-27 8 25 2021-02-27\n",
      "2021-02-28 8 25 2021-02-27\n"
     ]
    }
   ],
   "source": [
    "base = dt.date(test_year-1, 12, 1)\n",
    "#date_list = [str(base + dt.timedelta(days=x)) for x in range(0, 21)]\n",
    "date_list = [base + dt.timedelta(days=x) for x in range(0, 90)]\n",
    "#print(date_list)\n",
    "for d in date_list:\n",
    "    wn, awn = adm_week(d)\n",
    "    end = adm_week_end_date(awn, test_year) \n",
    "    print(d, wn, awn, end )"
   ]
  },
  {
   "cell_type": "code",
   "execution_count": 33,
   "metadata": {},
   "outputs": [
    {
     "name": "stdout",
     "output_type": "stream",
     "text": [
      "2021\n",
      "0 2020-09-05 0\n",
      "1 2020-09-12 1\n",
      "2 2020-09-19 2\n",
      "3 2020-09-26 3\n",
      "4 2020-10-03 4\n",
      "5 2020-10-10 5\n",
      "6 2020-10-17 6\n",
      "7 2020-10-24 7\n",
      "8 2020-10-31 8\n",
      "9 2020-11-07 9\n",
      "10 2020-11-14 10\n",
      "11 2020-11-21 11\n",
      "12 2020-11-28 12\n",
      "13 2020-12-05 13\n",
      "14 2020-12-12 14\n",
      "15 2020-12-19 15\n",
      "16 2020-12-26 16\n",
      "17 2021-01-02 17\n",
      "18 2021-01-09 18\n",
      "19 2021-01-16 19\n",
      "20 2021-01-23 20\n",
      "21 2021-01-30 21\n",
      "22 2021-02-06 22\n",
      "23 2021-02-13 23\n",
      "24 2021-02-20 24\n",
      "25 2021-02-27 25\n",
      "26 2021-03-06 26\n",
      "27 2021-03-13 27\n",
      "28 2021-03-20 28\n",
      "29 2021-03-27 29\n",
      "30 2021-04-03 30\n",
      "31 2021-04-10 31\n",
      "32 2021-04-17 32\n",
      "33 2021-04-24 33\n",
      "34 2021-05-01 34\n",
      "35 2021-05-08 35\n",
      "36 2021-05-15 36\n",
      "37 2021-05-22 37\n",
      "38 2021-05-29 38\n",
      "39 2021-06-05 39\n",
      "40 2021-06-12 40\n",
      "41 2021-06-19 41\n",
      "42 2021-06-26 42\n",
      "43 2021-07-03 43\n",
      "44 2021-07-10 44\n",
      "45 2021-07-17 45\n",
      "46 2021-07-24 46\n",
      "47 2021-07-31 47\n",
      "48 2021-08-07 48\n",
      "49 2021-08-14 49\n",
      "50 2021-08-21 50\n",
      "51 2021-08-28 51\n",
      "52 2021-09-04 0\n",
      "53 2021-09-11 1\n"
     ]
    }
   ],
   "source": [
    "print(test_year)\n",
    "for w in range(0,54):\n",
    "    end = adm_week_end_date(w, test_year) \n",
    "    print(w, end, adm_week(end)[1])"
   ]
  },
  {
   "cell_type": "code",
   "execution_count": null,
   "metadata": {},
   "outputs": [],
   "source": []
  },
  {
   "cell_type": "code",
   "execution_count": null,
   "metadata": {},
   "outputs": [],
   "source": []
  },
  {
   "cell_type": "code",
   "execution_count": null,
   "metadata": {},
   "outputs": [],
   "source": []
  },
  {
   "cell_type": "code",
   "execution_count": null,
   "metadata": {},
   "outputs": [],
   "source": []
  }
 ],
 "metadata": {
  "kernelspec": {
   "display_name": "Python 3",
   "language": "python",
   "name": "python3"
  },
  "language_info": {
   "codemirror_mode": {
    "name": "ipython",
    "version": 3
   },
   "file_extension": ".py",
   "mimetype": "text/x-python",
   "name": "python",
   "nbconvert_exporter": "python",
   "pygments_lexer": "ipython3",
   "version": "3.8.1"
  }
 },
 "nbformat": 4,
 "nbformat_minor": 4
}
