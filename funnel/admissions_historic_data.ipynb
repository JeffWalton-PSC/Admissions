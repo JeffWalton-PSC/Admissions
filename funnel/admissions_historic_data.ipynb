{
 "cells": [
  {
   "cell_type": "code",
   "execution_count": 1,
   "metadata": {
    "collapsed": false,
    "deletable": true,
    "editable": true
   },
   "outputs": [
    {
     "name": "stdout",
     "output_type": "stream",
     "text": [
      "IPython - 6.1.0\n",
      "Pandas - 0.22.0\n",
      "Bokeh - 0.12.14\n"
     ]
    }
   ],
   "source": [
    "from IPython import __version__ as ipython_version\n",
    "from pandas import __version__ as pandas_version\n",
    "from bokeh import __version__ as bokeh_version\n",
    "print(f'IPython - {ipython_version}')\n",
    "print(f'Pandas - {pandas_version}')\n",
    "print(f'Bokeh - {bokeh_version}')"
   ]
  },
  {
   "cell_type": "code",
   "execution_count": 2,
   "metadata": {
    "collapsed": true,
    "deletable": true,
    "editable": true
   },
   "outputs": [],
   "source": [
    "import pandas as pd\n",
    "import numpy as np\n",
    "from datetime import datetime, date"
   ]
  },
  {
   "cell_type": "markdown",
   "metadata": {
    "deletable": true,
    "editable": true
   },
   "source": [
    "<H2>Stage Ranking codes</H2>"
   ]
  },
  {
   "cell_type": "code",
   "execution_count": 3,
   "metadata": {
    "collapsed": true,
    "deletable": true,
    "editable": true
   },
   "outputs": [],
   "source": [
    "# read VWSTAGERANKING.csv and drop unused fields\n",
    "stgrnk = pd.read_csv('VWSTAGERANKING.csv')\n",
    "stgrnk.drop(['code_table', 'MEDIUM_DESC',\n",
    "             'Converted/Confirmed/Accepted/Require SepDate'],\n",
    "            inplace=True, axis=1)"
   ]
  },
  {
   "cell_type": "code",
   "execution_count": null,
   "metadata": {
    "collapsed": false
   },
   "outputs": [],
   "source": [
    "print('stgrnk', stgrnk.shape)"
   ]
  },
  {
   "cell_type": "code",
   "execution_count": null,
   "metadata": {
    "collapsed": false,
    "deletable": true,
    "editable": true
   },
   "outputs": [],
   "source": [
    "print('stgrnk\\n', stgrnk.dtypes)"
   ]
  },
  {
   "cell_type": "code",
   "execution_count": null,
   "metadata": {
    "collapsed": false,
    "deletable": true,
    "editable": true
   },
   "outputs": [],
   "source": [
    "print(stgrnk.columns)"
   ]
  },
  {
   "cell_type": "code",
   "execution_count": null,
   "metadata": {
    "collapsed": false,
    "deletable": true,
    "editable": true,
    "scrolled": true
   },
   "outputs": [],
   "source": [
    "stgrnk"
   ]
  },
  {
   "cell_type": "markdown",
   "metadata": {
    "deletable": true,
    "editable": true
   },
   "source": [
    "<H2>Stage History data</H2>"
   ]
  },
  {
   "cell_type": "code",
   "execution_count": 4,
   "metadata": {
    "collapsed": false,
    "deletable": true,
    "editable": true
   },
   "outputs": [],
   "source": [
    "# read STAGEHISTORY.csv\n",
    "stg_hist_dtype = {'PEOPLE_CODE_ID': str, 'ACADEMIC_YEAR': str,\n",
    "                  'ACADEMIC_TERM': str, 'ACADEMIC_SESSION': str,\n",
    "                  'FIELD_ID': np.int64}\n",
    "date_cols = ['FIELD_DATE']\n",
    "stg_hist = pd.read_csv('STAGEHISTORY.csv', dtype=stg_hist_dtype,\n",
    "                       parse_dates=date_cols,\n",
    "                       usecols=['PEOPLE_CODE_ID', 'ACADEMIC_YEAR',\n",
    "                                'ACADEMIC_TERM', 'ACADEMIC_SESSION',\n",
    "                                'FIELD_ID', 'FIELD_DATE'])"
   ]
  },
  {
   "cell_type": "code",
   "execution_count": null,
   "metadata": {
    "collapsed": false
   },
   "outputs": [],
   "source": [
    "print('stg_hist', stg_hist.shape)"
   ]
  },
  {
   "cell_type": "code",
   "execution_count": null,
   "metadata": {
    "collapsed": false,
    "deletable": true,
    "editable": true
   },
   "outputs": [],
   "source": [
    "print('stg_hist')\n",
    "print(stg_hist.dtypes)"
   ]
  },
  {
   "cell_type": "code",
   "execution_count": 5,
   "metadata": {
    "collapsed": true,
    "deletable": true,
    "editable": true
   },
   "outputs": [],
   "source": [
    "stg_hist['create_date'] = stg_hist['FIELD_DATE']"
   ]
  },
  {
   "cell_type": "code",
   "execution_count": 6,
   "metadata": {
    "collapsed": true,
    "deletable": true,
    "editable": true
   },
   "outputs": [],
   "source": [
    "stage_data = pd.merge(stg_hist, stgrnk, left_on=['FIELD_ID'],\n",
    "                      right_on=['STAGERANKING_ID'], how='left')"
   ]
  },
  {
   "cell_type": "code",
   "execution_count": 7,
   "metadata": {
    "collapsed": true
   },
   "outputs": [],
   "source": [
    "keep_fields = ['PEOPLE_CODE_ID', 'ACADEMIC_YEAR', 'ACADEMIC_TERM',\n",
    "               'ACADEMIC_SESSION', 'field_name', 'field_value', 'create_date']\n",
    "stage_data = stage_data.loc[~stage_data['create_date'].isnull(), keep_fields]"
   ]
  },
  {
   "cell_type": "code",
   "execution_count": null,
   "metadata": {
    "collapsed": false
   },
   "outputs": [],
   "source": [
    "print('stage_data', stage_data.shape)"
   ]
  },
  {
   "cell_type": "code",
   "execution_count": null,
   "metadata": {
    "collapsed": false,
    "deletable": true,
    "editable": true
   },
   "outputs": [],
   "source": [
    "print('stage_data')\n",
    "print(stage_data.dtypes)\n",
    "stage_data.head()"
   ]
  },
  {
   "cell_type": "markdown",
   "metadata": {
    "deletable": true,
    "editable": true
   },
   "source": [
    "<H2>Academic Data</H2>"
   ]
  },
  {
   "cell_type": "code",
   "execution_count": 8,
   "metadata": {
    "collapsed": true
   },
   "outputs": [],
   "source": [
    "academic_dtype = {'PEOPLE_CODE_ID': str, 'ACADEMIC_YEAR': str,\n",
    "                  'ACADEMIC_TERM': str, 'ACADEMIC_SESSION': str,\n",
    "                  'APPLICATION_FLAG': str, 'APP_STATUS': str}\n",
    "date_cols = ['APPLICATION_DATE', 'APP_STATUS_DATE', 'APP_DECISION_DATE']\n",
    "academic = pd.read_csv('ACADEMIC.csv', dtype=academic_dtype,\n",
    "                       parse_dates=date_cols,\n",
    "                       usecols=['PEOPLE_CODE_ID',\n",
    "                                'ACADEMIC_YEAR', 'ACADEMIC_TERM',\n",
    "                                'ACADEMIC_SESSION', 'POPULATION',\n",
    "                                'INQUIRY_FLAG',\n",
    "                                'APPLICATION_FLAG', 'APPLICATION_DATE',\n",
    "                                'APP_STATUS', 'APP_STATUS_DATE',\n",
    "                                'APP_DECISION', 'APP_DECISION_DATE'])"
   ]
  },
  {
   "cell_type": "code",
   "execution_count": null,
   "metadata": {
    "collapsed": false,
    "deletable": true,
    "editable": true,
    "scrolled": true
   },
   "outputs": [],
   "source": [
    "print('academic', academic.shape)\n",
    "print('academic')\n",
    "print(academic.dtypes)\n",
    "academic.info()"
   ]
  },
  {
   "cell_type": "code",
   "execution_count": null,
   "metadata": {
    "collapsed": false,
    "deletable": true,
    "editable": true
   },
   "outputs": [],
   "source": [
    "print(academic['POPULATION'].value_counts().sort_index())\n",
    "print(academic['POPULATION'].value_counts().sum())"
   ]
  },
  {
   "cell_type": "code",
   "execution_count": 9,
   "metadata": {
    "collapsed": false
   },
   "outputs": [
    {
     "name": "stdout",
     "output_type": "stream",
     "text": [
      "app_data (42151, 12)\n",
      "app_data\n",
      "PEOPLE_CODE_ID               object\n",
      "ACADEMIC_YEAR                object\n",
      "ACADEMIC_TERM                object\n",
      "ACADEMIC_SESSION             object\n",
      "POPULATION                   object\n",
      "APPLICATION_FLAG             object\n",
      "APP_STATUS                   object\n",
      "APP_STATUS_DATE      datetime64[ns]\n",
      "APP_DECISION                 object\n",
      "APP_DECISION_DATE    datetime64[ns]\n",
      "INQUIRY_FLAG                 object\n",
      "APPLICATION_DATE     datetime64[ns]\n",
      "dtype: object\n"
     ]
    }
   ],
   "source": [
    "app_data = (academic.loc[~(academic['POPULATION'].isin(['ADVSTU', 'NOND'])) &\n",
    "                         ((academic['INQUIRY_FLAG'] == 'Y') |\n",
    "                          (academic['APPLICATION_FLAG'] == 'Y'))]\n",
    "            )\n",
    "\n",
    "print('app_data', app_data.shape)\n",
    "print('app_data')\n",
    "print(app_data.dtypes)"
   ]
  },
  {
   "cell_type": "code",
   "execution_count": null,
   "metadata": {
    "collapsed": false
   },
   "outputs": [],
   "source": [
    "app_data.info()"
   ]
  },
  {
   "cell_type": "code",
   "execution_count": 10,
   "metadata": {
    "collapsed": false
   },
   "outputs": [
    {
     "name": "stdout",
     "output_type": "stream",
     "text": [
      "applied (14387, 7)\n",
      "applied\n",
      "PEOPLE_CODE_ID              object\n",
      "ACADEMIC_YEAR               object\n",
      "ACADEMIC_TERM               object\n",
      "ACADEMIC_SESSION            object\n",
      "field_name                  object\n",
      "field_value                 object\n",
      "create_date         datetime64[ns]\n",
      "dtype: object\n"
     ]
    }
   ],
   "source": [
    "applied = (app_data[app_data['APP_STATUS'].notnull()]\n",
    "           .rename(columns={'APP_STATUS': 'field_value'})\n",
    "           .rename(columns={'APP_STATUS_DATE': 'create_date'})\n",
    "           )\n",
    "applied.loc[:, 'field_name'] = 'Application Status'\n",
    "applied = applied.loc[~applied['create_date'].isnull(), keep_fields]\n",
    "\n",
    "print('applied', applied.shape)\n",
    "print('applied')\n",
    "print(applied.dtypes)"
   ]
  },
  {
   "cell_type": "code",
   "execution_count": null,
   "metadata": {
    "collapsed": false
   },
   "outputs": [],
   "source": [
    "applied.info()"
   ]
  },
  {
   "cell_type": "code",
   "execution_count": 11,
   "metadata": {
    "collapsed": false,
    "deletable": true,
    "editable": true
   },
   "outputs": [
    {
     "name": "stdout",
     "output_type": "stream",
     "text": [
      "accepted (14290, 7)\n",
      "accepted\n",
      "PEOPLE_CODE_ID              object\n",
      "ACADEMIC_YEAR               object\n",
      "ACADEMIC_TERM               object\n",
      "ACADEMIC_SESSION            object\n",
      "field_name                  object\n",
      "field_value                 object\n",
      "create_date         datetime64[ns]\n",
      "dtype: object\n"
     ]
    }
   ],
   "source": [
    "accepted = (app_data[app_data['APP_DECISION'].notnull()]\n",
    "            .rename(columns={'APP_DECISION': 'field_value'})\n",
    "            .rename(columns={'APP_DECISION_DATE': 'create_date'})\n",
    "            )\n",
    "accepted.loc[:, 'field_name'] = 'Application Decision'\n",
    "accepted = accepted.loc[~accepted['create_date'].isnull(), keep_fields]\n",
    "\n",
    "\n",
    "print('accepted', accepted.shape)\n",
    "print('accepted')\n",
    "print(accepted.dtypes)"
   ]
  },
  {
   "cell_type": "code",
   "execution_count": null,
   "metadata": {
    "collapsed": false
   },
   "outputs": [],
   "source": [
    "accepted.info()"
   ]
  },
  {
   "cell_type": "code",
   "execution_count": 12,
   "metadata": {
    "collapsed": false
   },
   "outputs": [
    {
     "name": "stdout",
     "output_type": "stream",
     "text": [
      "adm_df (308512, 7)\n",
      "adm_df\n",
      "PEOPLE_CODE_ID              object\n",
      "ACADEMIC_YEAR               object\n",
      "ACADEMIC_TERM               object\n",
      "ACADEMIC_SESSION            object\n",
      "field_name                  object\n",
      "field_value                 object\n",
      "create_date         datetime64[ns]\n",
      "dtype: object\n"
     ]
    }
   ],
   "source": [
    "# stack Stage History, Academic Applied and Academic Accepted\n",
    "adm_df = stage_data.append(applied).append(accepted)\n",
    "\n",
    "print('adm_df', adm_df.shape)\n",
    "print('adm_df')\n",
    "print(adm_df.dtypes)"
   ]
  },
  {
   "cell_type": "code",
   "execution_count": null,
   "metadata": {
    "collapsed": false,
    "deletable": true,
    "editable": true
   },
   "outputs": [],
   "source": [
    "adm_df.head()"
   ]
  },
  {
   "cell_type": "code",
   "execution_count": null,
   "metadata": {
    "collapsed": false,
    "deletable": true,
    "editable": true
   },
   "outputs": [],
   "source": [
    "adm_df.info()"
   ]
  },
  {
   "cell_type": "code",
   "execution_count": 13,
   "metadata": {
    "collapsed": false,
    "deletable": true,
    "editable": true
   },
   "outputs": [
    {
     "name": "stdout",
     "output_type": "stream",
     "text": [
      "adm_df (169029, 7)\n",
      "adm_df\n",
      "PEOPLE_CODE_ID              object\n",
      "ACADEMIC_YEAR               object\n",
      "ACADEMIC_TERM               object\n",
      "ACADEMIC_SESSION            object\n",
      "field_name                  object\n",
      "field_value                 object\n",
      "create_date         datetime64[ns]\n",
      "dtype: object\n"
     ]
    }
   ],
   "source": [
    "adm_df = (adm_df.loc[(adm_df['ACADEMIC_TERM'].isin(['FALL', 'SPRING'])) &\n",
    "                     (adm_df['ACADEMIC_SESSION'] == 'MAIN')]\n",
    "         )\n",
    "\n",
    "print('adm_df', adm_df.shape)\n",
    "print('adm_df')\n",
    "print(adm_df.dtypes)"
   ]
  },
  {
   "cell_type": "code",
   "execution_count": 14,
   "metadata": {
    "collapsed": true,
    "deletable": true,
    "editable": true
   },
   "outputs": [],
   "source": [
    "# create new fields\n",
    "adm_df['year_term'] = (adm_df['ACADEMIC_YEAR'] + '.' +\n",
    "                       adm_df['ACADEMIC_TERM'].str.title())\n",
    "adm_df['Week_Number'] = adm_df['create_date'].dt.week"
   ]
  },
  {
   "cell_type": "code",
   "execution_count": 15,
   "metadata": {
    "collapsed": false,
    "deletable": true,
    "editable": true
   },
   "outputs": [],
   "source": [
    "# convert ACADEMIC_YEAR to numeric keep numeric-valued records\n",
    "adm_df['ACADEMIC_YEAR'] = pd.to_numeric(adm_df['ACADEMIC_YEAR'],\n",
    "                                        errors='coerce', downcast='integer')\n",
    "adm_df = adm_df.loc[adm_df['ACADEMIC_YEAR'].notnull()]"
   ]
  },
  {
   "cell_type": "code",
   "execution_count": 16,
   "metadata": {
    "collapsed": false
   },
   "outputs": [],
   "source": [
    "adm_week_number = (lambda r: (r['Week_Number'] -\n",
    "                              (date(int(r['ACADEMIC_YEAR']), 9, 1)\n",
    "                              .isocalendar()[1])\n",
    "                              )\n",
    "                   if (r['Week_Number'] > (date(int(r['ACADEMIC_YEAR']), 9, 1)\n",
    "                                           .isocalendar()[1]))\n",
    "                   else (53 + r['Week_Number'] -\n",
    "                         (date(int(r['ACADEMIC_YEAR']), 9, 1)\n",
    "                         .isocalendar()[1])\n",
    "                         )\n",
    "                   )\n"
   ]
  },
  {
   "cell_type": "code",
   "execution_count": 17,
   "metadata": {
    "collapsed": false,
    "deletable": true,
    "editable": true
   },
   "outputs": [
    {
     "name": "stdout",
     "output_type": "stream",
     "text": [
      "adm_df (169029, 10)\n",
      "adm_df\n",
      "PEOPLE_CODE_ID              object\n",
      "ACADEMIC_YEAR                int16\n",
      "ACADEMIC_TERM               object\n",
      "ACADEMIC_SESSION            object\n",
      "field_name                  object\n",
      "field_value                 object\n",
      "create_date         datetime64[ns]\n",
      "year_term                   object\n",
      "Week_Number                  int64\n",
      "Admissions_Week              int64\n",
      "dtype: object\n"
     ]
    }
   ],
   "source": [
    "adm_df['Admissions_Week'] = adm_df.apply(adm_week_number, axis=1)\n",
    "\n",
    "print('adm_df', adm_df.shape)\n",
    "print('adm_df')\n",
    "print(adm_df.dtypes)"
   ]
  },
  {
   "cell_type": "code",
   "execution_count": null,
   "metadata": {
    "collapsed": false
   },
   "outputs": [],
   "source": [
    "adm_df.info()"
   ]
  },
  {
   "cell_type": "code",
   "execution_count": null,
   "metadata": {
    "collapsed": false,
    "deletable": true,
    "editable": true
   },
   "outputs": [],
   "source": [
    "adm_df.head()"
   ]
  },
  {
   "cell_type": "code",
   "execution_count": null,
   "metadata": {
    "collapsed": false,
    "deletable": true,
    "editable": true
   },
   "outputs": [],
   "source": [
    "adm_df.columns"
   ]
  },
  {
   "cell_type": "code",
   "execution_count": null,
   "metadata": {
    "collapsed": false,
    "deletable": true,
    "editable": true
   },
   "outputs": [],
   "source": [
    "adm_df[(adm_df['year_term']=='2014.Fall') & (adm_df['PEOPLE_CODE_ID']=='P000026232')].head(30)"
   ]
  },
  {
   "cell_type": "code",
   "execution_count": null,
   "metadata": {
    "collapsed": false,
    "deletable": true,
    "editable": true,
    "scrolled": true
   },
   "outputs": [],
   "source": [
    "print(adm_df['field_value'].value_counts().sort_index())\n",
    "print(adm_df['field_value'].value_counts().sum())"
   ]
  },
  {
   "cell_type": "code",
   "execution_count": 18,
   "metadata": {
    "collapsed": false,
    "deletable": true,
    "editable": true
   },
   "outputs": [
    {
     "name": "stdout",
     "output_type": "stream",
     "text": [
      "adm_df (42973, 4)\n",
      "adm_df\n",
      "PEOPLE_CODE_ID     object\n",
      "year_term          object\n",
      "Admissions_Week     int64\n",
      "field_value        object\n",
      "dtype: object\n"
     ]
    }
   ],
   "source": [
    "adm_keep_values = ['300', 'ACC', 'ACXL', 'CANC', 'DEF', 'DEFR', 'DENY', 'DPAC',\n",
    "                   'TRDP', 'TRPD', 'TRNS', 'WAIT']\n",
    "adm_keep_cols = ['PEOPLE_CODE_ID', 'year_term', 'Admissions_Week',\n",
    "                 'field_value']\n",
    "adm_df = adm_df.loc[(adm_df['field_value'].isin(adm_keep_values)),\n",
    "                    adm_keep_cols]\n",
    "\n",
    "print('adm_df', adm_df.shape)\n",
    "print('adm_df')\n",
    "print(adm_df.dtypes)"
   ]
  },
  {
   "cell_type": "code",
   "execution_count": null,
   "metadata": {
    "collapsed": false,
    "deletable": true,
    "editable": true
   },
   "outputs": [],
   "source": [
    "adm_df.head()"
   ]
  },
  {
   "cell_type": "code",
   "execution_count": null,
   "metadata": {
    "collapsed": false,
    "deletable": true,
    "editable": true
   },
   "outputs": [],
   "source": [
    "adm_df[(adm_df['year_term']=='2014.Fall') & (adm_df['PEOPLE_CODE_ID']=='P000026232')].head(30)"
   ]
  },
  {
   "cell_type": "code",
   "execution_count": 19,
   "metadata": {
    "collapsed": true
   },
   "outputs": [],
   "source": [
    "# admissions status table\n",
    "admission_status = {'300': 'Applied', 'ACC': 'Accepted', 'ACXL': 'Canceled',\n",
    "                    'CANC': 'Canceled', 'DEF': 'Canceled', 'DEFR': 'Canceled',\n",
    "                    'DENY': 'Canceled', 'DPAC': 'Deposited',\n",
    "                    'TRDP': 'Deposited', 'TRPD': 'Deposited',\n",
    "                    'TRNS': 'Accepted', 'WAIT': 'Accepted'}\n",
    "adm_stat = pd.DataFrame(list(admission_status.items()),\n",
    "                        columns=['field_value', 'admission_status'])"
   ]
  },
  {
   "cell_type": "code",
   "execution_count": 20,
   "metadata": {
    "collapsed": false,
    "deletable": true,
    "editable": true
   },
   "outputs": [
    {
     "name": "stdout",
     "output_type": "stream",
     "text": [
      "adm_df1 (28178, 4)\n",
      "adm_df1\n",
      "PEOPLE_CODE_ID      object\n",
      "year_term           object\n",
      "Admissions_Week      int64\n",
      "admission_status    object\n",
      "dtype: object\n"
     ]
    }
   ],
   "source": [
    "adm_df1 = (pd.merge(adm_df, adm_stat, on=['field_value'], how='left')\n",
    "           .drop(['field_value'], axis=1)\n",
    "           .drop_duplicates(['PEOPLE_CODE_ID', 'year_term', 'Admissions_Week',\n",
    "                             'admission_status'])\n",
    "           )\n",
    "\n",
    "print('adm_df1', adm_df1.shape)\n",
    "print('adm_df1')\n",
    "print(adm_df1.dtypes)"
   ]
  },
  {
   "cell_type": "code",
   "execution_count": null,
   "metadata": {
    "collapsed": false,
    "deletable": true,
    "editable": true,
    "scrolled": true
   },
   "outputs": [],
   "source": [
    "adm_df1.head()"
   ]
  },
  {
   "cell_type": "code",
   "execution_count": 21,
   "metadata": {
    "collapsed": false,
    "deletable": true,
    "editable": true,
    "scrolled": true
   },
   "outputs": [
    {
     "data": {
      "text/html": [
       "<div>\n",
       "<style scoped>\n",
       "    .dataframe tbody tr th:only-of-type {\n",
       "        vertical-align: middle;\n",
       "    }\n",
       "\n",
       "    .dataframe tbody tr th {\n",
       "        vertical-align: top;\n",
       "    }\n",
       "\n",
       "    .dataframe thead th {\n",
       "        text-align: right;\n",
       "    }\n",
       "</style>\n",
       "<table border=\"1\" class=\"dataframe\">\n",
       "  <thead>\n",
       "    <tr style=\"text-align: right;\">\n",
       "      <th></th>\n",
       "      <th>PEOPLE_CODE_ID</th>\n",
       "      <th>year_term</th>\n",
       "      <th>Admissions_Week</th>\n",
       "      <th>admission_status</th>\n",
       "    </tr>\n",
       "  </thead>\n",
       "  <tbody>\n",
       "    <tr>\n",
       "      <th>2728</th>\n",
       "      <td>P000013143</td>\n",
       "      <td>2014.Fall</td>\n",
       "      <td>49</td>\n",
       "      <td>Deposited</td>\n",
       "    </tr>\n",
       "    <tr>\n",
       "      <th>2730</th>\n",
       "      <td>P000013143</td>\n",
       "      <td>2014.Fall</td>\n",
       "      <td>53</td>\n",
       "      <td>Deposited</td>\n",
       "    </tr>\n",
       "    <tr>\n",
       "      <th>8256</th>\n",
       "      <td>P000026232</td>\n",
       "      <td>2014.Fall</td>\n",
       "      <td>36</td>\n",
       "      <td>Deposited</td>\n",
       "    </tr>\n",
       "    <tr>\n",
       "      <th>8559</th>\n",
       "      <td>P000026411</td>\n",
       "      <td>2014.Fall</td>\n",
       "      <td>39</td>\n",
       "      <td>Deposited</td>\n",
       "    </tr>\n",
       "    <tr>\n",
       "      <th>9819</th>\n",
       "      <td>P000027147</td>\n",
       "      <td>2014.Fall</td>\n",
       "      <td>34</td>\n",
       "      <td>Deposited</td>\n",
       "    </tr>\n",
       "    <tr>\n",
       "      <th>9872</th>\n",
       "      <td>P000027224</td>\n",
       "      <td>2014.Fall</td>\n",
       "      <td>40</td>\n",
       "      <td>Deposited</td>\n",
       "    </tr>\n",
       "    <tr>\n",
       "      <th>9899</th>\n",
       "      <td>P000027290</td>\n",
       "      <td>2014.Fall</td>\n",
       "      <td>42</td>\n",
       "      <td>Deposited</td>\n",
       "    </tr>\n",
       "    <tr>\n",
       "      <th>9900</th>\n",
       "      <td>P000027290</td>\n",
       "      <td>2014.Fall</td>\n",
       "      <td>23</td>\n",
       "      <td>Deposited</td>\n",
       "    </tr>\n",
       "    <tr>\n",
       "      <th>10205</th>\n",
       "      <td>P000027843</td>\n",
       "      <td>2014.Fall</td>\n",
       "      <td>8</td>\n",
       "      <td>Deposited</td>\n",
       "    </tr>\n",
       "    <tr>\n",
       "      <th>10309</th>\n",
       "      <td>P000028043</td>\n",
       "      <td>2014.Fall</td>\n",
       "      <td>37</td>\n",
       "      <td>Deposited</td>\n",
       "    </tr>\n",
       "    <tr>\n",
       "      <th>10312</th>\n",
       "      <td>P000028044</td>\n",
       "      <td>2014.Fall</td>\n",
       "      <td>30</td>\n",
       "      <td>Deposited</td>\n",
       "    </tr>\n",
       "    <tr>\n",
       "      <th>10317</th>\n",
       "      <td>P000028047</td>\n",
       "      <td>2014.Fall</td>\n",
       "      <td>32</td>\n",
       "      <td>Deposited</td>\n",
       "    </tr>\n",
       "    <tr>\n",
       "      <th>10439</th>\n",
       "      <td>P000028272</td>\n",
       "      <td>2014.Fall</td>\n",
       "      <td>32</td>\n",
       "      <td>Deposited</td>\n",
       "    </tr>\n",
       "    <tr>\n",
       "      <th>10510</th>\n",
       "      <td>P000028411</td>\n",
       "      <td>2014.Fall</td>\n",
       "      <td>44</td>\n",
       "      <td>Deposited</td>\n",
       "    </tr>\n",
       "    <tr>\n",
       "      <th>10524</th>\n",
       "      <td>P000028449</td>\n",
       "      <td>2014.Fall</td>\n",
       "      <td>26</td>\n",
       "      <td>Deposited</td>\n",
       "    </tr>\n",
       "    <tr>\n",
       "      <th>10596</th>\n",
       "      <td>P000028609</td>\n",
       "      <td>2014.Fall</td>\n",
       "      <td>13</td>\n",
       "      <td>Deposited</td>\n",
       "    </tr>\n",
       "    <tr>\n",
       "      <th>10811</th>\n",
       "      <td>P000028887</td>\n",
       "      <td>2014.Fall</td>\n",
       "      <td>33</td>\n",
       "      <td>Deposited</td>\n",
       "    </tr>\n",
       "    <tr>\n",
       "      <th>10843</th>\n",
       "      <td>P000028946</td>\n",
       "      <td>2014.Fall</td>\n",
       "      <td>33</td>\n",
       "      <td>Deposited</td>\n",
       "    </tr>\n",
       "    <tr>\n",
       "      <th>11129</th>\n",
       "      <td>P000029224</td>\n",
       "      <td>2014.Fall</td>\n",
       "      <td>38</td>\n",
       "      <td>Deposited</td>\n",
       "    </tr>\n",
       "    <tr>\n",
       "      <th>11146</th>\n",
       "      <td>P000029245</td>\n",
       "      <td>2014.Fall</td>\n",
       "      <td>42</td>\n",
       "      <td>Deposited</td>\n",
       "    </tr>\n",
       "    <tr>\n",
       "      <th>11155</th>\n",
       "      <td>P000029251</td>\n",
       "      <td>2014.Fall</td>\n",
       "      <td>32</td>\n",
       "      <td>Deposited</td>\n",
       "    </tr>\n",
       "    <tr>\n",
       "      <th>11378</th>\n",
       "      <td>P000029426</td>\n",
       "      <td>2014.Fall</td>\n",
       "      <td>18</td>\n",
       "      <td>Deposited</td>\n",
       "    </tr>\n",
       "    <tr>\n",
       "      <th>11406</th>\n",
       "      <td>P000029458</td>\n",
       "      <td>2014.Fall</td>\n",
       "      <td>34</td>\n",
       "      <td>Deposited</td>\n",
       "    </tr>\n",
       "    <tr>\n",
       "      <th>11427</th>\n",
       "      <td>P000029473</td>\n",
       "      <td>2014.Fall</td>\n",
       "      <td>23</td>\n",
       "      <td>Deposited</td>\n",
       "    </tr>\n",
       "    <tr>\n",
       "      <th>11613</th>\n",
       "      <td>P000029573</td>\n",
       "      <td>2014.Fall</td>\n",
       "      <td>35</td>\n",
       "      <td>Deposited</td>\n",
       "    </tr>\n",
       "    <tr>\n",
       "      <th>11650</th>\n",
       "      <td>P000029585</td>\n",
       "      <td>2014.Fall</td>\n",
       "      <td>42</td>\n",
       "      <td>Deposited</td>\n",
       "    </tr>\n",
       "    <tr>\n",
       "      <th>11678</th>\n",
       "      <td>P000029596</td>\n",
       "      <td>2014.Fall</td>\n",
       "      <td>31</td>\n",
       "      <td>Deposited</td>\n",
       "    </tr>\n",
       "    <tr>\n",
       "      <th>11707</th>\n",
       "      <td>P000029606</td>\n",
       "      <td>2014.Fall</td>\n",
       "      <td>37</td>\n",
       "      <td>Deposited</td>\n",
       "    </tr>\n",
       "    <tr>\n",
       "      <th>11710</th>\n",
       "      <td>P000029609</td>\n",
       "      <td>2014.Fall</td>\n",
       "      <td>37</td>\n",
       "      <td>Deposited</td>\n",
       "    </tr>\n",
       "    <tr>\n",
       "      <th>11713</th>\n",
       "      <td>P000029611</td>\n",
       "      <td>2014.Fall</td>\n",
       "      <td>22</td>\n",
       "      <td>Deposited</td>\n",
       "    </tr>\n",
       "  </tbody>\n",
       "</table>\n",
       "</div>"
      ],
      "text/plain": [
       "      PEOPLE_CODE_ID  year_term  Admissions_Week admission_status\n",
       "2728      P000013143  2014.Fall               49        Deposited\n",
       "2730      P000013143  2014.Fall               53        Deposited\n",
       "8256      P000026232  2014.Fall               36        Deposited\n",
       "8559      P000026411  2014.Fall               39        Deposited\n",
       "9819      P000027147  2014.Fall               34        Deposited\n",
       "9872      P000027224  2014.Fall               40        Deposited\n",
       "9899      P000027290  2014.Fall               42        Deposited\n",
       "9900      P000027290  2014.Fall               23        Deposited\n",
       "10205     P000027843  2014.Fall                8        Deposited\n",
       "10309     P000028043  2014.Fall               37        Deposited\n",
       "10312     P000028044  2014.Fall               30        Deposited\n",
       "10317     P000028047  2014.Fall               32        Deposited\n",
       "10439     P000028272  2014.Fall               32        Deposited\n",
       "10510     P000028411  2014.Fall               44        Deposited\n",
       "10524     P000028449  2014.Fall               26        Deposited\n",
       "10596     P000028609  2014.Fall               13        Deposited\n",
       "10811     P000028887  2014.Fall               33        Deposited\n",
       "10843     P000028946  2014.Fall               33        Deposited\n",
       "11129     P000029224  2014.Fall               38        Deposited\n",
       "11146     P000029245  2014.Fall               42        Deposited\n",
       "11155     P000029251  2014.Fall               32        Deposited\n",
       "11378     P000029426  2014.Fall               18        Deposited\n",
       "11406     P000029458  2014.Fall               34        Deposited\n",
       "11427     P000029473  2014.Fall               23        Deposited\n",
       "11613     P000029573  2014.Fall               35        Deposited\n",
       "11650     P000029585  2014.Fall               42        Deposited\n",
       "11678     P000029596  2014.Fall               31        Deposited\n",
       "11707     P000029606  2014.Fall               37        Deposited\n",
       "11710     P000029609  2014.Fall               37        Deposited\n",
       "11713     P000029611  2014.Fall               22        Deposited"
      ]
     },
     "execution_count": 21,
     "metadata": {},
     "output_type": "execute_result"
    }
   ],
   "source": [
    "adm_df1[(adm_df1['year_term']=='2014.Fall') & (adm_df1['admission_status']=='Deposited')].head(30)"
   ]
  },
  {
   "cell_type": "code",
   "execution_count": 22,
   "metadata": {
    "collapsed": false,
    "deletable": true,
    "editable": true
   },
   "outputs": [
    {
     "data": {
      "text/html": [
       "<div>\n",
       "<style scoped>\n",
       "    .dataframe tbody tr th:only-of-type {\n",
       "        vertical-align: middle;\n",
       "    }\n",
       "\n",
       "    .dataframe tbody tr th {\n",
       "        vertical-align: top;\n",
       "    }\n",
       "\n",
       "    .dataframe thead th {\n",
       "        text-align: right;\n",
       "    }\n",
       "</style>\n",
       "<table border=\"1\" class=\"dataframe\">\n",
       "  <thead>\n",
       "    <tr style=\"text-align: right;\">\n",
       "      <th></th>\n",
       "      <th>PEOPLE_CODE_ID</th>\n",
       "      <th>year_term</th>\n",
       "      <th>Admissions_Week</th>\n",
       "      <th>admission_status</th>\n",
       "    </tr>\n",
       "  </thead>\n",
       "  <tbody>\n",
       "    <tr>\n",
       "      <th>8254</th>\n",
       "      <td>P000026232</td>\n",
       "      <td>2014.Fall</td>\n",
       "      <td>21</td>\n",
       "      <td>Applied</td>\n",
       "    </tr>\n",
       "    <tr>\n",
       "      <th>8255</th>\n",
       "      <td>P000026232</td>\n",
       "      <td>2014.Fall</td>\n",
       "      <td>22</td>\n",
       "      <td>Accepted</td>\n",
       "    </tr>\n",
       "    <tr>\n",
       "      <th>8256</th>\n",
       "      <td>P000026232</td>\n",
       "      <td>2014.Fall</td>\n",
       "      <td>36</td>\n",
       "      <td>Deposited</td>\n",
       "    </tr>\n",
       "  </tbody>\n",
       "</table>\n",
       "</div>"
      ],
      "text/plain": [
       "     PEOPLE_CODE_ID  year_term  Admissions_Week admission_status\n",
       "8254     P000026232  2014.Fall               21          Applied\n",
       "8255     P000026232  2014.Fall               22         Accepted\n",
       "8256     P000026232  2014.Fall               36        Deposited"
      ]
     },
     "execution_count": 22,
     "metadata": {},
     "output_type": "execute_result"
    }
   ],
   "source": [
    "adm_df1[(adm_df1['year_term']=='2014.Fall') & (adm_df1['PEOPLE_CODE_ID']=='P000026232')].head(30)"
   ]
  },
  {
   "cell_type": "code",
   "execution_count": 24,
   "metadata": {
    "collapsed": true
   },
   "outputs": [],
   "source": [
    "adm_df1 = (adm_df1.sort_values(['year_term', 'PEOPLE_CODE_ID',\n",
    "                                'Admissions_Week'])\n",
    "           .drop_duplicates(['year_term', 'PEOPLE_CODE_ID',\n",
    "                             'admission_status'],\n",
    "                            keep='first')\n",
    "           )"
   ]
  },
  {
   "cell_type": "code",
   "execution_count": 25,
   "metadata": {
    "collapsed": false,
    "scrolled": true
   },
   "outputs": [
    {
     "data": {
      "text/html": [
       "<div>\n",
       "<style scoped>\n",
       "    .dataframe tbody tr th:only-of-type {\n",
       "        vertical-align: middle;\n",
       "    }\n",
       "\n",
       "    .dataframe tbody tr th {\n",
       "        vertical-align: top;\n",
       "    }\n",
       "\n",
       "    .dataframe thead th {\n",
       "        text-align: right;\n",
       "    }\n",
       "</style>\n",
       "<table border=\"1\" class=\"dataframe\">\n",
       "  <thead>\n",
       "    <tr style=\"text-align: right;\">\n",
       "      <th></th>\n",
       "      <th>PEOPLE_CODE_ID</th>\n",
       "      <th>year_term</th>\n",
       "      <th>Admissions_Week</th>\n",
       "      <th>admission_status</th>\n",
       "    </tr>\n",
       "  </thead>\n",
       "  <tbody>\n",
       "    <tr>\n",
       "      <th>2728</th>\n",
       "      <td>P000013143</td>\n",
       "      <td>2014.Fall</td>\n",
       "      <td>49</td>\n",
       "      <td>Deposited</td>\n",
       "    </tr>\n",
       "    <tr>\n",
       "      <th>8256</th>\n",
       "      <td>P000026232</td>\n",
       "      <td>2014.Fall</td>\n",
       "      <td>36</td>\n",
       "      <td>Deposited</td>\n",
       "    </tr>\n",
       "    <tr>\n",
       "      <th>8559</th>\n",
       "      <td>P000026411</td>\n",
       "      <td>2014.Fall</td>\n",
       "      <td>39</td>\n",
       "      <td>Deposited</td>\n",
       "    </tr>\n",
       "    <tr>\n",
       "      <th>9819</th>\n",
       "      <td>P000027147</td>\n",
       "      <td>2014.Fall</td>\n",
       "      <td>34</td>\n",
       "      <td>Deposited</td>\n",
       "    </tr>\n",
       "    <tr>\n",
       "      <th>9872</th>\n",
       "      <td>P000027224</td>\n",
       "      <td>2014.Fall</td>\n",
       "      <td>40</td>\n",
       "      <td>Deposited</td>\n",
       "    </tr>\n",
       "    <tr>\n",
       "      <th>9900</th>\n",
       "      <td>P000027290</td>\n",
       "      <td>2014.Fall</td>\n",
       "      <td>23</td>\n",
       "      <td>Deposited</td>\n",
       "    </tr>\n",
       "    <tr>\n",
       "      <th>10205</th>\n",
       "      <td>P000027843</td>\n",
       "      <td>2014.Fall</td>\n",
       "      <td>8</td>\n",
       "      <td>Deposited</td>\n",
       "    </tr>\n",
       "    <tr>\n",
       "      <th>10309</th>\n",
       "      <td>P000028043</td>\n",
       "      <td>2014.Fall</td>\n",
       "      <td>37</td>\n",
       "      <td>Deposited</td>\n",
       "    </tr>\n",
       "    <tr>\n",
       "      <th>10312</th>\n",
       "      <td>P000028044</td>\n",
       "      <td>2014.Fall</td>\n",
       "      <td>30</td>\n",
       "      <td>Deposited</td>\n",
       "    </tr>\n",
       "    <tr>\n",
       "      <th>10317</th>\n",
       "      <td>P000028047</td>\n",
       "      <td>2014.Fall</td>\n",
       "      <td>32</td>\n",
       "      <td>Deposited</td>\n",
       "    </tr>\n",
       "    <tr>\n",
       "      <th>10439</th>\n",
       "      <td>P000028272</td>\n",
       "      <td>2014.Fall</td>\n",
       "      <td>32</td>\n",
       "      <td>Deposited</td>\n",
       "    </tr>\n",
       "    <tr>\n",
       "      <th>10510</th>\n",
       "      <td>P000028411</td>\n",
       "      <td>2014.Fall</td>\n",
       "      <td>44</td>\n",
       "      <td>Deposited</td>\n",
       "    </tr>\n",
       "    <tr>\n",
       "      <th>10524</th>\n",
       "      <td>P000028449</td>\n",
       "      <td>2014.Fall</td>\n",
       "      <td>26</td>\n",
       "      <td>Deposited</td>\n",
       "    </tr>\n",
       "    <tr>\n",
       "      <th>10596</th>\n",
       "      <td>P000028609</td>\n",
       "      <td>2014.Fall</td>\n",
       "      <td>13</td>\n",
       "      <td>Deposited</td>\n",
       "    </tr>\n",
       "    <tr>\n",
       "      <th>10811</th>\n",
       "      <td>P000028887</td>\n",
       "      <td>2014.Fall</td>\n",
       "      <td>33</td>\n",
       "      <td>Deposited</td>\n",
       "    </tr>\n",
       "    <tr>\n",
       "      <th>10843</th>\n",
       "      <td>P000028946</td>\n",
       "      <td>2014.Fall</td>\n",
       "      <td>33</td>\n",
       "      <td>Deposited</td>\n",
       "    </tr>\n",
       "    <tr>\n",
       "      <th>11129</th>\n",
       "      <td>P000029224</td>\n",
       "      <td>2014.Fall</td>\n",
       "      <td>38</td>\n",
       "      <td>Deposited</td>\n",
       "    </tr>\n",
       "    <tr>\n",
       "      <th>11146</th>\n",
       "      <td>P000029245</td>\n",
       "      <td>2014.Fall</td>\n",
       "      <td>42</td>\n",
       "      <td>Deposited</td>\n",
       "    </tr>\n",
       "    <tr>\n",
       "      <th>11155</th>\n",
       "      <td>P000029251</td>\n",
       "      <td>2014.Fall</td>\n",
       "      <td>32</td>\n",
       "      <td>Deposited</td>\n",
       "    </tr>\n",
       "    <tr>\n",
       "      <th>11378</th>\n",
       "      <td>P000029426</td>\n",
       "      <td>2014.Fall</td>\n",
       "      <td>18</td>\n",
       "      <td>Deposited</td>\n",
       "    </tr>\n",
       "    <tr>\n",
       "      <th>11406</th>\n",
       "      <td>P000029458</td>\n",
       "      <td>2014.Fall</td>\n",
       "      <td>34</td>\n",
       "      <td>Deposited</td>\n",
       "    </tr>\n",
       "    <tr>\n",
       "      <th>11427</th>\n",
       "      <td>P000029473</td>\n",
       "      <td>2014.Fall</td>\n",
       "      <td>23</td>\n",
       "      <td>Deposited</td>\n",
       "    </tr>\n",
       "    <tr>\n",
       "      <th>11613</th>\n",
       "      <td>P000029573</td>\n",
       "      <td>2014.Fall</td>\n",
       "      <td>35</td>\n",
       "      <td>Deposited</td>\n",
       "    </tr>\n",
       "    <tr>\n",
       "      <th>11650</th>\n",
       "      <td>P000029585</td>\n",
       "      <td>2014.Fall</td>\n",
       "      <td>42</td>\n",
       "      <td>Deposited</td>\n",
       "    </tr>\n",
       "    <tr>\n",
       "      <th>11678</th>\n",
       "      <td>P000029596</td>\n",
       "      <td>2014.Fall</td>\n",
       "      <td>31</td>\n",
       "      <td>Deposited</td>\n",
       "    </tr>\n",
       "    <tr>\n",
       "      <th>11707</th>\n",
       "      <td>P000029606</td>\n",
       "      <td>2014.Fall</td>\n",
       "      <td>37</td>\n",
       "      <td>Deposited</td>\n",
       "    </tr>\n",
       "    <tr>\n",
       "      <th>11710</th>\n",
       "      <td>P000029609</td>\n",
       "      <td>2014.Fall</td>\n",
       "      <td>37</td>\n",
       "      <td>Deposited</td>\n",
       "    </tr>\n",
       "    <tr>\n",
       "      <th>11713</th>\n",
       "      <td>P000029611</td>\n",
       "      <td>2014.Fall</td>\n",
       "      <td>22</td>\n",
       "      <td>Deposited</td>\n",
       "    </tr>\n",
       "    <tr>\n",
       "      <th>11726</th>\n",
       "      <td>P000029617</td>\n",
       "      <td>2014.Fall</td>\n",
       "      <td>40</td>\n",
       "      <td>Deposited</td>\n",
       "    </tr>\n",
       "    <tr>\n",
       "      <th>11843</th>\n",
       "      <td>P000029738</td>\n",
       "      <td>2014.Fall</td>\n",
       "      <td>33</td>\n",
       "      <td>Deposited</td>\n",
       "    </tr>\n",
       "  </tbody>\n",
       "</table>\n",
       "</div>"
      ],
      "text/plain": [
       "      PEOPLE_CODE_ID  year_term  Admissions_Week admission_status\n",
       "2728      P000013143  2014.Fall               49        Deposited\n",
       "8256      P000026232  2014.Fall               36        Deposited\n",
       "8559      P000026411  2014.Fall               39        Deposited\n",
       "9819      P000027147  2014.Fall               34        Deposited\n",
       "9872      P000027224  2014.Fall               40        Deposited\n",
       "9900      P000027290  2014.Fall               23        Deposited\n",
       "10205     P000027843  2014.Fall                8        Deposited\n",
       "10309     P000028043  2014.Fall               37        Deposited\n",
       "10312     P000028044  2014.Fall               30        Deposited\n",
       "10317     P000028047  2014.Fall               32        Deposited\n",
       "10439     P000028272  2014.Fall               32        Deposited\n",
       "10510     P000028411  2014.Fall               44        Deposited\n",
       "10524     P000028449  2014.Fall               26        Deposited\n",
       "10596     P000028609  2014.Fall               13        Deposited\n",
       "10811     P000028887  2014.Fall               33        Deposited\n",
       "10843     P000028946  2014.Fall               33        Deposited\n",
       "11129     P000029224  2014.Fall               38        Deposited\n",
       "11146     P000029245  2014.Fall               42        Deposited\n",
       "11155     P000029251  2014.Fall               32        Deposited\n",
       "11378     P000029426  2014.Fall               18        Deposited\n",
       "11406     P000029458  2014.Fall               34        Deposited\n",
       "11427     P000029473  2014.Fall               23        Deposited\n",
       "11613     P000029573  2014.Fall               35        Deposited\n",
       "11650     P000029585  2014.Fall               42        Deposited\n",
       "11678     P000029596  2014.Fall               31        Deposited\n",
       "11707     P000029606  2014.Fall               37        Deposited\n",
       "11710     P000029609  2014.Fall               37        Deposited\n",
       "11713     P000029611  2014.Fall               22        Deposited\n",
       "11726     P000029617  2014.Fall               40        Deposited\n",
       "11843     P000029738  2014.Fall               33        Deposited"
      ]
     },
     "execution_count": 25,
     "metadata": {},
     "output_type": "execute_result"
    }
   ],
   "source": [
    "adm_df1[(adm_df1['year_term']=='2014.Fall') & (adm_df1['admission_status']=='Deposited')].head(30)"
   ]
  },
  {
   "cell_type": "code",
   "execution_count": 26,
   "metadata": {
    "collapsed": false
   },
   "outputs": [
    {
     "data": {
      "text/html": [
       "<div>\n",
       "<style scoped>\n",
       "    .dataframe tbody tr th:only-of-type {\n",
       "        vertical-align: middle;\n",
       "    }\n",
       "\n",
       "    .dataframe tbody tr th {\n",
       "        vertical-align: top;\n",
       "    }\n",
       "\n",
       "    .dataframe thead th {\n",
       "        text-align: right;\n",
       "    }\n",
       "</style>\n",
       "<table border=\"1\" class=\"dataframe\">\n",
       "  <thead>\n",
       "    <tr style=\"text-align: right;\">\n",
       "      <th></th>\n",
       "      <th>PEOPLE_CODE_ID</th>\n",
       "      <th>year_term</th>\n",
       "      <th>Admissions_Week</th>\n",
       "      <th>admission_status</th>\n",
       "    </tr>\n",
       "  </thead>\n",
       "  <tbody>\n",
       "    <tr>\n",
       "      <th>8254</th>\n",
       "      <td>P000026232</td>\n",
       "      <td>2014.Fall</td>\n",
       "      <td>21</td>\n",
       "      <td>Applied</td>\n",
       "    </tr>\n",
       "    <tr>\n",
       "      <th>8255</th>\n",
       "      <td>P000026232</td>\n",
       "      <td>2014.Fall</td>\n",
       "      <td>22</td>\n",
       "      <td>Accepted</td>\n",
       "    </tr>\n",
       "    <tr>\n",
       "      <th>8256</th>\n",
       "      <td>P000026232</td>\n",
       "      <td>2014.Fall</td>\n",
       "      <td>36</td>\n",
       "      <td>Deposited</td>\n",
       "    </tr>\n",
       "  </tbody>\n",
       "</table>\n",
       "</div>"
      ],
      "text/plain": [
       "     PEOPLE_CODE_ID  year_term  Admissions_Week admission_status\n",
       "8254     P000026232  2014.Fall               21          Applied\n",
       "8255     P000026232  2014.Fall               22         Accepted\n",
       "8256     P000026232  2014.Fall               36        Deposited"
      ]
     },
     "execution_count": 26,
     "metadata": {},
     "output_type": "execute_result"
    }
   ],
   "source": [
    "adm_df1[(adm_df1['year_term']=='2014.Fall') & (adm_df1['PEOPLE_CODE_ID']=='P000026232')].head(30)"
   ]
  },
  {
   "cell_type": "code",
   "execution_count": 27,
   "metadata": {
    "collapsed": false,
    "deletable": true,
    "editable": true
   },
   "outputs": [
    {
     "name": "stdout",
     "output_type": "stream",
     "text": [
      "adm_df2 (3851, 4)\n",
      "adm_df2\n",
      "                 admission_status\n",
      "Admissions_Week  Accepted            float64\n",
      "                 Applied             float64\n",
      "                 Canceled            float64\n",
      "                 Deposited           float64\n",
      "dtype: object\n"
     ]
    }
   ],
   "source": [
    "adm_df2 = (adm_df1.loc[(adm_df1['year_term'].isin(['2014.Fall', '2015.Fall']))]\n",
    "           .reset_index()\n",
    "           .set_index(['year_term', 'PEOPLE_CODE_ID', 'admission_status'])\n",
    "           .drop(['index'], axis=1)\n",
    "           .unstack(level=-1)\n",
    "          )\n",
    "\n",
    "print('adm_df2', adm_df2.shape)\n",
    "print('adm_df2')\n",
    "print(adm_df2.dtypes)"
   ]
  },
  {
   "cell_type": "code",
   "execution_count": 28,
   "metadata": {
    "collapsed": false,
    "deletable": true,
    "editable": true
   },
   "outputs": [
    {
     "data": {
      "text/html": [
       "<div>\n",
       "<style scoped>\n",
       "    .dataframe tbody tr th:only-of-type {\n",
       "        vertical-align: middle;\n",
       "    }\n",
       "\n",
       "    .dataframe tbody tr th {\n",
       "        vertical-align: top;\n",
       "    }\n",
       "\n",
       "    .dataframe thead tr th {\n",
       "        text-align: left;\n",
       "    }\n",
       "\n",
       "    .dataframe thead tr:last-of-type th {\n",
       "        text-align: right;\n",
       "    }\n",
       "</style>\n",
       "<table border=\"1\" class=\"dataframe\">\n",
       "  <thead>\n",
       "    <tr>\n",
       "      <th></th>\n",
       "      <th></th>\n",
       "      <th colspan=\"4\" halign=\"left\">Admissions_Week</th>\n",
       "    </tr>\n",
       "    <tr>\n",
       "      <th></th>\n",
       "      <th>admission_status</th>\n",
       "      <th>Accepted</th>\n",
       "      <th>Applied</th>\n",
       "      <th>Canceled</th>\n",
       "      <th>Deposited</th>\n",
       "    </tr>\n",
       "    <tr>\n",
       "      <th>year_term</th>\n",
       "      <th>PEOPLE_CODE_ID</th>\n",
       "      <th></th>\n",
       "      <th></th>\n",
       "      <th></th>\n",
       "      <th></th>\n",
       "    </tr>\n",
       "  </thead>\n",
       "  <tbody>\n",
       "    <tr>\n",
       "      <th rowspan=\"5\" valign=\"top\">2014.Fall</th>\n",
       "      <th>P000010351</th>\n",
       "      <td>NaN</td>\n",
       "      <td>37.0</td>\n",
       "      <td>47.0</td>\n",
       "      <td>NaN</td>\n",
       "    </tr>\n",
       "    <tr>\n",
       "      <th>P000013143</th>\n",
       "      <td>48.0</td>\n",
       "      <td>46.0</td>\n",
       "      <td>53.0</td>\n",
       "      <td>49.0</td>\n",
       "    </tr>\n",
       "    <tr>\n",
       "      <th>P000021911</th>\n",
       "      <td>NaN</td>\n",
       "      <td>22.0</td>\n",
       "      <td>53.0</td>\n",
       "      <td>NaN</td>\n",
       "    </tr>\n",
       "    <tr>\n",
       "      <th>P000026232</th>\n",
       "      <td>22.0</td>\n",
       "      <td>21.0</td>\n",
       "      <td>NaN</td>\n",
       "      <td>36.0</td>\n",
       "    </tr>\n",
       "    <tr>\n",
       "      <th>P000026411</th>\n",
       "      <td>30.0</td>\n",
       "      <td>20.0</td>\n",
       "      <td>NaN</td>\n",
       "      <td>39.0</td>\n",
       "    </tr>\n",
       "  </tbody>\n",
       "</table>\n",
       "</div>"
      ],
      "text/plain": [
       "                         Admissions_Week                           \n",
       "admission_status                Accepted Applied Canceled Deposited\n",
       "year_term PEOPLE_CODE_ID                                           \n",
       "2014.Fall P000010351                 NaN    37.0     47.0       NaN\n",
       "          P000013143                48.0    46.0     53.0      49.0\n",
       "          P000021911                 NaN    22.0     53.0       NaN\n",
       "          P000026232                22.0    21.0      NaN      36.0\n",
       "          P000026411                30.0    20.0      NaN      39.0"
      ]
     },
     "execution_count": 28,
     "metadata": {},
     "output_type": "execute_result"
    }
   ],
   "source": [
    "adm_df2.head()"
   ]
  },
  {
   "cell_type": "code",
   "execution_count": null,
   "metadata": {
    "collapsed": true,
    "deletable": true,
    "editable": true
   },
   "outputs": [],
   "source": []
  }
 ],
 "metadata": {
  "kernelspec": {
   "display_name": "Python 3",
   "language": "python",
   "name": "python3"
  },
  "language_info": {
   "codemirror_mode": {
    "name": "ipython",
    "version": 3
   },
   "file_extension": ".py",
   "mimetype": "text/x-python",
   "name": "python",
   "nbconvert_exporter": "python",
   "pygments_lexer": "ipython3",
   "version": "3.6.5"
  }
 },
 "nbformat": 4,
 "nbformat_minor": 2
}
