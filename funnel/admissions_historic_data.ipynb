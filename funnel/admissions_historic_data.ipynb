{
 "cells": [
  {
   "cell_type": "code",
   "execution_count": 1,
   "metadata": {
    "collapsed": false,
    "deletable": true,
    "editable": true
   },
   "outputs": [
    {
     "name": "stdout",
     "output_type": "stream",
     "text": [
      "IPython - 6.1.0\n",
      "Pandas - 0.22.0\n",
      "Bokeh - 0.12.14\n"
     ]
    }
   ],
   "source": [
    "from IPython import __version__ as ipython_version\n",
    "from pandas import __version__ as pandas_version\n",
    "from bokeh import __version__ as bokeh_version\n",
    "print(f'IPython - {ipython_version}')\n",
    "print(f'Pandas - {pandas_version}')\n",
    "print(f'Bokeh - {bokeh_version}')"
   ]
  },
  {
   "cell_type": "code",
   "execution_count": 2,
   "metadata": {
    "collapsed": true,
    "deletable": true,
    "editable": true
   },
   "outputs": [],
   "source": [
    "import pandas as pd\n",
    "import numpy as np\n",
    "from datetime import datetime, date"
   ]
  },
  {
   "cell_type": "markdown",
   "metadata": {
    "deletable": true,
    "editable": true
   },
   "source": [
    "<H2>Stage Ranking codes</H2>"
   ]
  },
  {
   "cell_type": "code",
   "execution_count": 3,
   "metadata": {
    "collapsed": true,
    "deletable": true,
    "editable": true
   },
   "outputs": [],
   "source": [
    "# read VWSTAGERANKING.csv and drop unused fields\n",
    "stgrnk = pd.read_csv('VWSTAGERANKING.csv')\n",
    "stgrnk.drop(['code_table', 'MEDIUM_DESC',\n",
    "             'Converted/Confirmed/Accepted/Require SepDate'],\n",
    "            inplace=True, axis=1)"
   ]
  },
  {
   "cell_type": "code",
   "execution_count": null,
   "metadata": {
    "collapsed": false,
    "deletable": true,
    "editable": true
   },
   "outputs": [],
   "source": [
    "print('stgrnk', stgrnk.shape)\n",
    "print('stgrnk\\n', stgrnk.dtypes)"
   ]
  },
  {
   "cell_type": "code",
   "execution_count": null,
   "metadata": {
    "collapsed": false,
    "deletable": true,
    "editable": true
   },
   "outputs": [],
   "source": [
    "print(stgrnk.columns)"
   ]
  },
  {
   "cell_type": "code",
   "execution_count": null,
   "metadata": {
    "collapsed": false,
    "deletable": true,
    "editable": true,
    "scrolled": true
   },
   "outputs": [],
   "source": [
    "stgrnk"
   ]
  },
  {
   "cell_type": "markdown",
   "metadata": {
    "deletable": true,
    "editable": true
   },
   "source": [
    "<H2>Stage History data</H2>"
   ]
  },
  {
   "cell_type": "code",
   "execution_count": 4,
   "metadata": {
    "collapsed": true,
    "deletable": true,
    "editable": true
   },
   "outputs": [],
   "source": [
    "# read STAGEHISTORY.csv\n",
    "stg_hist_dtype = {'PEOPLE_CODE_ID': str, 'ACADEMIC_YEAR': str,\n",
    "                  'ACADEMIC_TERM': str, 'ACADEMIC_SESSION': str,\n",
    "                  'FIELD_ID': np.int64}\n",
    "date_cols = ['FIELD_DATE', 'REVISION_DATE', 'REVISION_TIME']\n",
    "stg_hist = pd.read_csv('STAGEHISTORY.csv', dtype=stg_hist_dtype,\n",
    "                       parse_dates=date_cols,\n",
    "                       usecols=['PEOPLE_CODE_ID', 'ACADEMIC_YEAR',\n",
    "                                'ACADEMIC_TERM', 'ACADEMIC_SESSION',\n",
    "                                'FIELD_ID', 'FIELD_DATE', 'REVISION_DATE',\n",
    "                                'REVISION_TIME'])"
   ]
  },
  {
   "cell_type": "code",
   "execution_count": null,
   "metadata": {
    "collapsed": false,
    "deletable": true,
    "editable": true
   },
   "outputs": [],
   "source": [
    "print('stg_hist', stg_hist.shape)\n",
    "print('stg_hist')\n",
    "print(stg_hist.dtypes)"
   ]
  },
  {
   "cell_type": "code",
   "execution_count": null,
   "metadata": {
    "collapsed": true,
    "deletable": true,
    "editable": true
   },
   "outputs": [],
   "source": [
    "# create new fields\n",
    "stg_hist['year_term'] = (stg_hist['ACADEMIC_YEAR'] + '.' +\n",
    "                         stg_hist['ACADEMIC_TERM'].str.title())"
   ]
  },
  {
   "cell_type": "code",
   "execution_count": null,
   "metadata": {
    "collapsed": true,
    "deletable": true,
    "editable": true
   },
   "outputs": [],
   "source": [
    "# create Revision datetime\n",
    "#stg_hist['Revision'] = stg_hist.apply(lambda r: pd.datetime.combine(\n",
    "#                                      r['REVISION_DATE'].date(),\n",
    "#                                      r['REVISION_TIME'].time()), 1)\n",
    "stg_hist['create_date'] = stg_hist['FIELD_DATE']"
   ]
  },
  {
   "cell_type": "code",
   "execution_count": null,
   "metadata": {
    "collapsed": true,
    "deletable": true,
    "editable": true
   },
   "outputs": [],
   "source": [
    "# convert ACADEMIC_YEAR to numeric keep numeric-valued records\n",
    "stg_hist['ACADEMIC_YEAR'] = pd.to_numeric(stg_hist['ACADEMIC_YEAR'],\n",
    "                                          errors='coerce', downcast='integer')\n",
    "stg_hist = stg_hist.loc[pd.to_numeric(stg_hist['ACADEMIC_YEAR'],\n",
    "                                      errors='coerce',\n",
    "                                      downcast='integer'\n",
    "                                      ).notnull()]"
   ]
  },
  {
   "cell_type": "code",
   "execution_count": null,
   "metadata": {
    "collapsed": true,
    "deletable": true,
    "editable": true
   },
   "outputs": [],
   "source": [
    "# drop unused fields\n",
    "stg_hist.drop(['FIELD_DATE', 'REVISION_DATE', 'REVISION_TIME'],\n",
    "              inplace=True, axis=1)"
   ]
  },
  {
   "cell_type": "code",
   "execution_count": null,
   "metadata": {
    "collapsed": true,
    "deletable": true,
    "editable": true
   },
   "outputs": [],
   "source": [
    "# calculate new fields\n",
    "stg_hist['Week_Number'] = stg_hist['create_date'].dt.week\n",
    "stg_hist['Admissions_Week'] = stg_hist.apply(lambda r: (r['Week_Number'] -\n",
    "                                                        (date(int(\n",
    "                                                         r['ACADEMIC_YEAR']),\n",
    "                                                            9, 1\n",
    "                                                        ).isocalendar()[1])\n",
    "                                                        )\n",
    "                                             if (r['Week_Number'] >\n",
    "                                                 (date(int(r['ACADEMIC_YEAR']),\n",
    "                                                       9, 1).isocalendar()[1]))\n",
    "                                             else (53 + r['Week_Number'] -\n",
    "                                                   (date(int(\n",
    "                                                       r['ACADEMIC_YEAR']),\n",
    "                                                    9, 1).isocalendar()[1])),\n",
    "                                             axis=1)"
   ]
  },
  {
   "cell_type": "code",
   "execution_count": null,
   "metadata": {
    "collapsed": true,
    "deletable": true,
    "editable": true
   },
   "outputs": [],
   "source": [
    "stage_data = pd.merge(stg_hist, stgrnk, left_on=['FIELD_ID'],\n",
    "                      right_on=['STAGERANKING_ID'], how='left')"
   ]
  },
  {
   "cell_type": "code",
   "execution_count": null,
   "metadata": {
    "collapsed": false,
    "deletable": true,
    "editable": true
   },
   "outputs": [],
   "source": [
    "print('stage_data', stage_data.shape)\n",
    "print('stage_data')\n",
    "print(stage_data.dtypes)\n",
    "stage_data.head()"
   ]
  },
  {
   "cell_type": "code",
   "execution_count": null,
   "metadata": {
    "collapsed": false,
    "deletable": true,
    "editable": true
   },
   "outputs": [],
   "source": [
    "ad_keep_values = ['300', 'ACC', 'ACXL', 'CANC', 'DEF', 'DEFR', 'DENY', 'DPAC',\n",
    "                  'TRDP', 'TRPD', 'TRNS', 'WAIT']\n",
    "ad_keep_cols = ['PEOPLE_CODE_ID', 'year_term', 'Admissions_Week',\n",
    "                'field_value', 'status']\n",
    "sd1 = stage_data.loc[(stage_data['field_value'].isin(ad_keep_values))]\n",
    "sd1 = sd1[ad_keep_cols]"
   ]
  },
  {
   "cell_type": "code",
   "execution_count": null,
   "metadata": {
    "collapsed": false,
    "deletable": true,
    "editable": true
   },
   "outputs": [],
   "source": [
    "print('sd1', sd1.shape)\n",
    "print('sd1')\n",
    "print(sd1.dtypes)\n",
    "sd1.head()"
   ]
  },
  {
   "cell_type": "code",
   "execution_count": null,
   "metadata": {
    "collapsed": false
   },
   "outputs": [],
   "source": [
    "sd1.info()"
   ]
  },
  {
   "cell_type": "code",
   "execution_count": null,
   "metadata": {
    "collapsed": true
   },
   "outputs": [],
   "source": [
    "admission_status = {'300': 'Applied', 'ACC': 'Accepted', 'ACXL': 'Canceled',\n",
    "                    'CANC': 'Canceled', 'DEF': 'Canceled', 'DEFR': 'Canceled',\n",
    "                    'DENY': 'Canceled', 'DPAC': 'Deposited',\n",
    "                    'TRDP': 'Deposited', 'TRPD': 'Deposited',\n",
    "                    'TRNS': 'Accepted', 'WAIT': 'Accepted'}\n",
    "adm_stat = pd.DataFrame(list(admission_status.items()),\n",
    "                        columns=['field_value', 'admission_status'])"
   ]
  },
  {
   "cell_type": "code",
   "execution_count": null,
   "metadata": {
    "collapsed": false
   },
   "outputs": [],
   "source": [
    "print(adm_stat)"
   ]
  },
  {
   "cell_type": "code",
   "execution_count": null,
   "metadata": {
    "collapsed": false
   },
   "outputs": [],
   "source": [
    "sd1 = (pd.merge(sd1, adm_stat, on=['field_value'], how='left')\n",
    "       .drop(['field_value', 'status'], axis=1)\n",
    "       .drop_duplicates(['PEOPLE_CODE_ID', 'year_term', 'Admissions_Week',\n",
    "                         'admission_status'])\n",
    "       .reset_index()\n",
    "       .set_index(['year_term', 'PEOPLE_CODE_ID', 'admission_status'])\n",
    "       .drop(['index'], axis=1)\n",
    "       )"
   ]
  },
  {
   "cell_type": "code",
   "execution_count": null,
   "metadata": {
    "collapsed": false
   },
   "outputs": [],
   "source": [
    "print('sd1', sd1.shape)\n",
    "print('sd1')\n",
    "print(sd1.dtypes)\n",
    "sd1.head()"
   ]
  },
  {
   "cell_type": "code",
   "execution_count": null,
   "metadata": {
    "collapsed": false
   },
   "outputs": [],
   "source": [
    "sd1.info()"
   ]
  },
  {
   "cell_type": "markdown",
   "metadata": {
    "deletable": true,
    "editable": true
   },
   "source": [
    "<H2>Academic Data</H2>"
   ]
  },
  {
   "cell_type": "code",
   "execution_count": null,
   "metadata": {
    "collapsed": true
   },
   "outputs": [],
   "source": [
    "academic_dtype = {'PEOPLE_CODE_ID': str, 'ACADEMIC_YEAR': str,\n",
    "                  'ACADEMIC_TERM': str, 'ACADEMIC_SESSION': str,\n",
    "                  'APPLICATION_FLAG': str, 'APP_STATUS': str}\n",
    "date_cols = ['APPLICATION_DATE', 'APP_STATUS_DATE', 'APP_DECISION_DATE',\n",
    "             'REVISION_DATE', 'REVISION_TIME']\n",
    "academic = pd.read_csv('ACADEMIC.csv', dtype=academic_dtype,\n",
    "                       parse_dates=date_cols,\n",
    "                       usecols=['PEOPLE_CODE_ID',\n",
    "                                'ACADEMIC_YEAR', 'ACADEMIC_TERM',\n",
    "                                'ACADEMIC_SESSION', 'POPULATION',\n",
    "                                'INQUIRY_FLAG',\n",
    "                                'APPLICATION_FLAG', 'APPLICATION_DATE',\n",
    "                                'APP_STATUS', 'APP_STATUS_DATE',\n",
    "                                'APP_DECISION', 'APP_DECISION_DATE',\n",
    "                                'REVISION_DATE', 'REVISION_TIME'])"
   ]
  },
  {
   "cell_type": "code",
   "execution_count": null,
   "metadata": {
    "collapsed": false,
    "deletable": true,
    "editable": true,
    "scrolled": true
   },
   "outputs": [],
   "source": [
    "print('academic', academic.shape)\n",
    "print('academic')\n",
    "print(academic.dtypes)\n",
    "academic.info()"
   ]
  },
  {
   "cell_type": "code",
   "execution_count": null,
   "metadata": {
    "collapsed": false,
    "deletable": true,
    "editable": true
   },
   "outputs": [],
   "source": [
    "print(academic['POPULATION'].value_counts().sort_index())\n",
    "print(academic['POPULATION'].value_counts().sum())"
   ]
  },
  {
   "cell_type": "code",
   "execution_count": null,
   "metadata": {
    "collapsed": false
   },
   "outputs": [],
   "source": [
    "app_data = (academic.loc[~(academic['POPULATION'].isin(['ADVSTU', 'NOND'])) &\n",
    "                         ((academic['INQUIRY_FLAG'] == 'Y') |\n",
    "                          (academic['APPLICATION_FLAG'] == 'Y'))]\n",
    "            )\n",
    "\n",
    "print('app_data', app_data.shape)\n",
    "print('app_data')\n",
    "print(app_data.dtypes)"
   ]
  },
  {
   "cell_type": "code",
   "execution_count": null,
   "metadata": {
    "collapsed": false
   },
   "outputs": [],
   "source": [
    "app_data.info()"
   ]
  },
  {
   "cell_type": "code",
   "execution_count": null,
   "metadata": {
    "collapsed": true
   },
   "outputs": [],
   "source": [
    "academic_keep_fields = ['PEOPLE_CODE_ID', 'ACADEMIC_YEAR', 'ACADEMIC_TERM',\n",
    "                        'ACADEMIC_SESSION', 'field_name', 'field_value', 'create_date']"
   ]
  },
  {
   "cell_type": "code",
   "execution_count": null,
   "metadata": {
    "collapsed": false
   },
   "outputs": [],
   "source": [
    "applied = (app_data[app_data['APP_STATUS'].notnull()]\n",
    "           .rename(columns={'APP_STATUS': 'field_value'})\n",
    "           .rename(columns={'APP_STATUS_DATE': 'create_date'})\n",
    "           )\n",
    "applied.loc[:, 'field_name'] = 'Application Status'\n",
    "applied = applied.loc[~applied['create_date'].isnull(), academic_keep_fields]\n",
    "\n",
    "print('applied', applied.shape)\n",
    "print('applied')\n",
    "print(applied.dtypes)"
   ]
  },
  {
   "cell_type": "code",
   "execution_count": null,
   "metadata": {
    "collapsed": false
   },
   "outputs": [],
   "source": [
    "applied.info()"
   ]
  },
  {
   "cell_type": "code",
   "execution_count": null,
   "metadata": {
    "collapsed": false,
    "deletable": true,
    "editable": true
   },
   "outputs": [],
   "source": [
    "accepted = (app_data[app_data['APP_DECISION'].notnull()]\n",
    "            .rename(columns={'APP_DECISION': 'field_value'})\n",
    "            .rename(columns={'APP_DECISION_DATE': 'create_date'})\n",
    "            )\n",
    "accepted.loc[:, 'field_name'] = 'Application Decision'\n",
    "accepted = accepted.loc[~accepted['create_date'].isnull(), academic_keep_fields]\n",
    "\n",
    "\n",
    "print('accepted', accepted.shape)\n",
    "print('accepted')\n",
    "print(accepted.dtypes)"
   ]
  },
  {
   "cell_type": "code",
   "execution_count": null,
   "metadata": {
    "collapsed": false
   },
   "outputs": [],
   "source": [
    "accepted.info()"
   ]
  },
  {
   "cell_type": "code",
   "execution_count": null,
   "metadata": {
    "collapsed": false,
    "deletable": true,
    "editable": true
   },
   "outputs": [],
   "source": [
    "# stack Stage History, Academic Applied and Academic Accepted\n",
    "#adm_df = stage_data.append(applied).append(accepted)\n",
    "adm_df = applied.append(accepted)\n",
    "\n",
    "print('adm_df', adm_df.shape)\n",
    "print('adm_df')\n",
    "print(adm_df.dtypes)"
   ]
  },
  {
   "cell_type": "code",
   "execution_count": null,
   "metadata": {
    "collapsed": false
   },
   "outputs": [],
   "source": [
    "# stack Stage History, Academic Applied and Academic Accepted\n",
    "adm_df = stage_data.append(applied).append(accepted)\n",
    "#adm_df = applied.append(accepted)\n",
    "\n",
    "print('adm_df', adm_df.shape)\n",
    "print('adm_df')\n",
    "print(adm_df.dtypes)"
   ]
  },
  {
   "cell_type": "code",
   "execution_count": null,
   "metadata": {
    "collapsed": false,
    "deletable": true,
    "editable": true
   },
   "outputs": [],
   "source": [
    "adm_df.head()"
   ]
  },
  {
   "cell_type": "code",
   "execution_count": null,
   "metadata": {
    "collapsed": false,
    "deletable": true,
    "editable": true
   },
   "outputs": [],
   "source": [
    "adm_df.info()"
   ]
  },
  {
   "cell_type": "code",
   "execution_count": null,
   "metadata": {
    "collapsed": true
   },
   "outputs": [],
   "source": [
    "def revision(df):\n",
    "    return pd.datetime.combine(df['REVISION_DATE'].date(), df['REVISION_TIME'].time())"
   ]
  },
  {
   "cell_type": "code",
   "execution_count": null,
   "metadata": {
    "collapsed": false,
    "deletable": true,
    "editable": true
   },
   "outputs": [],
   "source": [
    "# new columns\n",
    "adm_df['year_term'] = adm_df['ACADEMIC_YEAR'] + '.' + adm_df['ACADEMIC_TERM'].str.title()\n",
    "\n",
    "#adm_df['Revision'] = adm_df.apply(revision,1)\n",
    "adm_df['Week_Number'] = adm_df['create_date'].dt.week\n",
    "\n",
    "adm_df = (adm_df.loc[(adm_df['ACADEMIC_TERM'].isin(['FALL', 'SPRING'])) &\n",
    "                     (adm_df['ACADEMIC_SESSION'] == 'MAIN')]\n",
    "         )\n",
    "\n",
    "print('adm_df', adm_df.shape)\n",
    "print('adm_df')\n",
    "print(adm_df.dtypes)"
   ]
  },
  {
   "cell_type": "code",
   "execution_count": null,
   "metadata": {
    "collapsed": false
   },
   "outputs": [],
   "source": [
    "adm_df.info()"
   ]
  },
  {
   "cell_type": "code",
   "execution_count": null,
   "metadata": {
    "collapsed": false,
    "deletable": true,
    "editable": true
   },
   "outputs": [],
   "source": [
    "adm_df[(adm_df['year_term']=='2014.Fall') & (adm_df['PEOPLE_CODE_ID']=='P000026232')].head(30)"
   ]
  },
  {
   "cell_type": "code",
   "execution_count": null,
   "metadata": {
    "collapsed": false
   },
   "outputs": [],
   "source": [
    "adm_week_number = (lambda r: (r['Week_Number'] - \n",
    "                         (date(int(r['ACADEMIC_YEAR']), 9, 1).isocalendar()[1])\n",
    "                         )\n",
    "                         if (r['Week_Number'] > (date(int(r['ACADEMIC_YEAR']), 9, 1).isocalendar()[1]))\n",
    "                         else (53 + r['Week_Number'] - (date(int(r['ACADEMIC_YEAR']), 9, 1).isocalendar()[1]))\n",
    "              )"
   ]
  },
  {
   "cell_type": "code",
   "execution_count": null,
   "metadata": {
    "collapsed": false,
    "deletable": true,
    "editable": true
   },
   "outputs": [],
   "source": [
    "adm_df = adm_df[pd.to_numeric(adm_df['ACADEMIC_YEAR'], errors='coerce', downcast='integer').notnull()]\n",
    "\n",
    "adm_df['Admissions_Week'] = adm_df.apply(adm_week_number, axis=1)\n",
    "\n",
    "print('adm_df', adm_df.shape)\n",
    "print('adm_df')\n",
    "print(adm_df.dtypes)"
   ]
  },
  {
   "cell_type": "code",
   "execution_count": null,
   "metadata": {
    "collapsed": false,
    "deletable": true,
    "editable": true
   },
   "outputs": [],
   "source": [
    "adm_df.head()"
   ]
  },
  {
   "cell_type": "code",
   "execution_count": null,
   "metadata": {
    "collapsed": false,
    "deletable": true,
    "editable": true
   },
   "outputs": [],
   "source": [
    "adm_df.columns"
   ]
  },
  {
   "cell_type": "code",
   "execution_count": null,
   "metadata": {
    "collapsed": false,
    "deletable": true,
    "editable": true,
    "scrolled": true
   },
   "outputs": [],
   "source": [
    "#adm_df.loc[(adm_df['ACADEMIC_YEAR']==2014 & (adm_df['PEOPLE_CODE_ID']=='P000026232') )]\n",
    "adm_df[(adm_df['year_term']=='2014.Fall') & (adm_df['PEOPLE_CODE_ID']=='P000026232')].head(30)\n"
   ]
  },
  {
   "cell_type": "code",
   "execution_count": null,
   "metadata": {
    "collapsed": false,
    "deletable": true,
    "editable": true
   },
   "outputs": [],
   "source": [
    "print(adm_df['field_value'].value_counts().sort_index())\n",
    "print(adm_df['field_value'].value_counts().sum())"
   ]
  },
  {
   "cell_type": "code",
   "execution_count": null,
   "metadata": {
    "collapsed": false,
    "deletable": true,
    "editable": true
   },
   "outputs": [],
   "source": [
    "adm_keep_values = ['300', 'ACC', 'ACXL', 'CANC', 'DEF', 'DEFR', 'DENY', 'DPAC',\n",
    "                  'TRDP', 'TRPD', 'TRNS', 'WAIT']\n",
    "adm_keep_cols = ['PEOPLE_CODE_ID', 'year_term', 'Admissions_Week',\n",
    "                'field_value']\n",
    "adm_df = adm_df.loc[(adm_df['field_value'].isin(adm_keep_values))]\n",
    "adm_df = adm_df[adm_keep_cols]\n",
    "\n",
    "print('adm_df', adm_df.shape)\n",
    "print('adm_df')\n",
    "print(adm_df.dtypes)"
   ]
  },
  {
   "cell_type": "code",
   "execution_count": null,
   "metadata": {
    "collapsed": false,
    "deletable": true,
    "editable": true
   },
   "outputs": [],
   "source": [
    "adm_df.head()"
   ]
  },
  {
   "cell_type": "code",
   "execution_count": null,
   "metadata": {
    "collapsed": false,
    "deletable": true,
    "editable": true
   },
   "outputs": [],
   "source": [
    "adm_df[(adm_df['year_term']=='2014.Fall') & (adm_df['PEOPLE_CODE_ID']=='P000026232')].head(30)"
   ]
  },
  {
   "cell_type": "code",
   "execution_count": null,
   "metadata": {
    "collapsed": false,
    "deletable": true,
    "editable": true
   },
   "outputs": [],
   "source": [
    "admission_status = {'300' : 'Applied', 'ACC': 'Accepted', 'ACXL': 'Canceled', 'CANC': 'Canceled', 'DEF': 'Canceled', 'DEFR': 'Canceled', 'DENY': 'Canceled', 'DPAC': 'Deposited', 'TRDP': 'Deposited', 'TRPD': 'Deposited', 'TRNS': 'Accepted', 'WAIT': 'Accepted'}\n",
    "adm_stat = pd.DataFrame(list(admission_status.items()), columns=['field_value', 'admission_status'])\n",
    "\n",
    "adm_df1 = (pd.merge(adm_df, adm_stat, on=['field_value'], how='left' )\n",
    "           .drop(['field_value'], axis=1)\n",
    "           .drop_duplicates(['PEOPLE_CODE_ID', 'year_term', 'Admissions_Week', 'admission_status'])\n",
    "          )\n",
    "\n",
    "print('adm_df1', adm_df1.shape)\n",
    "print('adm_df1')\n",
    "print(adm_df1.dtypes)"
   ]
  },
  {
   "cell_type": "code",
   "execution_count": null,
   "metadata": {
    "collapsed": false,
    "deletable": true,
    "editable": true
   },
   "outputs": [],
   "source": [
    "adm_df1[(adm_df1['year_term']=='2014.Fall') & (adm_df1['admission_status']=='Deposited')].head(30)"
   ]
  },
  {
   "cell_type": "code",
   "execution_count": null,
   "metadata": {
    "collapsed": false,
    "deletable": true,
    "editable": true
   },
   "outputs": [],
   "source": [
    "adm_df1.head()"
   ]
  },
  {
   "cell_type": "code",
   "execution_count": null,
   "metadata": {
    "collapsed": false,
    "deletable": true,
    "editable": true
   },
   "outputs": [],
   "source": [
    "adm_df1[(adm_df1['year_term']=='2014.Fall') & (adm_df1['PEOPLE_CODE_ID']=='P000026232')].head(30)"
   ]
  },
  {
   "cell_type": "code",
   "execution_count": null,
   "metadata": {
    "collapsed": false,
    "deletable": true,
    "editable": true
   },
   "outputs": [],
   "source": [
    "adm_df2 = (adm_df1.loc[(adm_df1['year_term'].isin(['2014.Fall', '2015.Fall']))]\n",
    "           .sort_values(['year_term', 'PEOPLE_CODE_ID', 'Admissions_Week'])\n",
    "           .drop_duplicates(['year_term', 'PEOPLE_CODE_ID', 'admission_status'], keep='first')\n",
    "           .reset_index()\n",
    "           .set_index(['year_term', 'PEOPLE_CODE_ID', 'admission_status'])\n",
    "           .drop(['index'], axis=1)\n",
    "           .unstack(level=-1)\n",
    "          )\n",
    "\n",
    "print('adm_df2', adm_df2.shape)\n",
    "print('adm_df2\\n', adm_df2.dtypes)"
   ]
  },
  {
   "cell_type": "code",
   "execution_count": null,
   "metadata": {
    "collapsed": false,
    "deletable": true,
    "editable": true
   },
   "outputs": [],
   "source": [
    "adm_df2.head()"
   ]
  },
  {
   "cell_type": "code",
   "execution_count": null,
   "metadata": {
    "collapsed": true,
    "deletable": true,
    "editable": true
   },
   "outputs": [],
   "source": []
  }
 ],
 "metadata": {
  "kernelspec": {
   "display_name": "Python 3",
   "language": "python",
   "name": "python3"
  },
  "language_info": {
   "codemirror_mode": {
    "name": "ipython",
    "version": 3
   },
   "file_extension": ".py",
   "mimetype": "text/x-python",
   "name": "python",
   "nbconvert_exporter": "python",
   "pygments_lexer": "ipython3",
   "version": "3.6.5"
  }
 },
 "nbformat": 4,
 "nbformat_minor": 2
}
