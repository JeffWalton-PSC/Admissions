{
 "cells": [
  {
   "cell_type": "code",
   "execution_count": 1,
   "metadata": {
    "collapsed": false,
    "deletable": true,
    "editable": true
   },
   "outputs": [
    {
     "name": "stdout",
     "output_type": "stream",
     "text": [
      "IPython - 6.3.1\n",
      "Pandas - 0.22.0\n",
      "Bokeh - 0.12.14\n",
      "PyTables - 3.4.3\n"
     ]
    }
   ],
   "source": [
    "from IPython import __version__ as ipython_version\n",
    "from pandas import __version__ as pandas_version\n",
    "from bokeh import __version__ as bokeh_version\n",
    "from tables import __version__ as tables_version\n",
    "print(f'IPython - {ipython_version}')\n",
    "print(f'Pandas - {pandas_version}')\n",
    "print(f'Bokeh - {bokeh_version}')\n",
    "print(f'PyTables - {tables_version}')"
   ]
  },
  {
   "cell_type": "code",
   "execution_count": 2,
   "metadata": {
    "collapsed": true,
    "deletable": true,
    "editable": true
   },
   "outputs": [],
   "source": [
    "import pandas as pd\n",
    "import numpy as np\n",
    "from datetime import datetime, date"
   ]
  },
  {
   "cell_type": "code",
   "execution_count": 3,
   "metadata": {
    "collapsed": false,
    "deletable": true,
    "editable": true
   },
   "outputs": [],
   "source": [
    "import local_db\n",
    "connection = local_db.connection()"
   ]
  },
  {
   "cell_type": "code",
   "execution_count": 4,
   "metadata": {
    "collapsed": false,
    "deletable": true,
    "editable": true
   },
   "outputs": [
    {
     "name": "stdout",
     "output_type": "stream",
     "text": [
      "20180503\n"
     ]
    }
   ],
   "source": [
    "today = datetime.now().strftime('%Y%m%d')\n",
    "print(today)"
   ]
  },
  {
   "cell_type": "code",
   "execution_count": 5,
   "metadata": {
    "collapsed": true,
    "deletable": true,
    "editable": true
   },
   "outputs": [],
   "source": [
    "begin_year = '2009'"
   ]
  },
  {
   "cell_type": "markdown",
   "metadata": {
    "deletable": true,
    "editable": true
   },
   "source": [
    "<H2>Stage Ranking codes</H2>"
   ]
  },
  {
   "cell_type": "code",
   "execution_count": 6,
   "metadata": {
    "collapsed": false,
    "deletable": true,
    "editable": true
   },
   "outputs": [],
   "source": [
    "sql_str = \"SELECT STAGERANKING_ID, field_name, field_value \" + \\\n",
    "          \"FROM VWSSTAGERANKING WHERE \" + \\\n",
    "          \"status = 'A' \"\n",
    "stgrnk = pd.read_sql_query(sql_str, connection)"
   ]
  },
  {
   "cell_type": "code",
   "execution_count": null,
   "metadata": {
    "collapsed": true,
    "deletable": true,
    "editable": true
   },
   "outputs": [],
   "source": [
    "# read VWSTAGERANKING.csv and drop unused fields\n",
    "#stgrnk = pd.read_csv('VWSTAGERANKING.csv')\n",
    "#stgrnk.drop(['code_table', 'MEDIUM_DESC',\n",
    "#             'Converted/Confirmed/Accepted/Require SepDate'],\n",
    "#            inplace=True, axis=1)"
   ]
  },
  {
   "cell_type": "code",
   "execution_count": null,
   "metadata": {
    "collapsed": false,
    "deletable": true,
    "editable": true
   },
   "outputs": [],
   "source": [
    "print('stgrnk', stgrnk.shape)"
   ]
  },
  {
   "cell_type": "code",
   "execution_count": null,
   "metadata": {
    "collapsed": false,
    "deletable": true,
    "editable": true
   },
   "outputs": [],
   "source": [
    "print('stgrnk\\n', stgrnk.dtypes)"
   ]
  },
  {
   "cell_type": "code",
   "execution_count": null,
   "metadata": {
    "collapsed": false,
    "deletable": true,
    "editable": true
   },
   "outputs": [],
   "source": [
    "print(stgrnk.columns)"
   ]
  },
  {
   "cell_type": "markdown",
   "metadata": {
    "deletable": true,
    "editable": true
   },
   "source": [
    "<H2>Stage History data</H2>"
   ]
  },
  {
   "cell_type": "code",
   "execution_count": 7,
   "metadata": {
    "collapsed": false,
    "deletable": true,
    "editable": true
   },
   "outputs": [],
   "source": [
    "sql_str = \"SELECT PEOPLE_CODE_ID, ACADEMIC_YEAR, ACADEMIC_TERM, \" + \\\n",
    "          \"ACADEMIC_SESSION, FIELD_ID, FIELD_DATE \" + \\\n",
    "          \"FROM STAGEHISTORY WHERE \" + \\\n",
    "          f\"ACADEMIC_YEAR >= '{begin_year}' \"\n",
    "stg_hist = pd.read_sql_query(sql_str, connection)"
   ]
  },
  {
   "cell_type": "code",
   "execution_count": null,
   "metadata": {
    "collapsed": false,
    "deletable": true,
    "editable": true
   },
   "outputs": [],
   "source": [
    "# read STAGEHISTORY.csv\n",
    "#stg_hist_dtype = {'PEOPLE_CODE_ID': str, 'ACADEMIC_YEAR': str,\n",
    "#                  'ACADEMIC_TERM': str, 'ACADEMIC_SESSION': str,\n",
    "#                  'FIELD_ID': np.int64}\n",
    "#date_cols = ['FIELD_DATE']\n",
    "#stg_hist = pd.read_csv('STAGEHISTORY.csv', dtype=stg_hist_dtype,\n",
    "#                       parse_dates=date_cols,\n",
    "#                       usecols=['PEOPLE_CODE_ID', 'ACADEMIC_YEAR',\n",
    "#                                'ACADEMIC_TERM', 'ACADEMIC_SESSION',\n",
    "#                                'FIELD_ID', 'FIELD_DATE'])"
   ]
  },
  {
   "cell_type": "code",
   "execution_count": null,
   "metadata": {
    "collapsed": false,
    "deletable": true,
    "editable": true
   },
   "outputs": [],
   "source": [
    "print('stg_hist', stg_hist.shape)"
   ]
  },
  {
   "cell_type": "code",
   "execution_count": null,
   "metadata": {
    "collapsed": false,
    "deletable": true,
    "editable": true
   },
   "outputs": [],
   "source": [
    "print('stg_hist')\n",
    "print(stg_hist.dtypes)"
   ]
  },
  {
   "cell_type": "code",
   "execution_count": 8,
   "metadata": {
    "collapsed": true,
    "deletable": true,
    "editable": true
   },
   "outputs": [],
   "source": [
    "stg_hist = stg_hist.rename(columns={'FIELD_DATE': 'create_date'})"
   ]
  },
  {
   "cell_type": "code",
   "execution_count": 9,
   "metadata": {
    "collapsed": false,
    "deletable": true,
    "editable": true
   },
   "outputs": [],
   "source": [
    "stage_data = pd.merge(stg_hist, stgrnk, left_on=['FIELD_ID'],\n",
    "                      right_on=['STAGERANKING_ID'], how='left')"
   ]
  },
  {
   "cell_type": "code",
   "execution_count": 10,
   "metadata": {
    "collapsed": true,
    "deletable": true,
    "editable": true
   },
   "outputs": [],
   "source": [
    "keep_fields = ['PEOPLE_CODE_ID', 'ACADEMIC_YEAR', 'ACADEMIC_TERM',\n",
    "               'ACADEMIC_SESSION', 'field_name', 'field_value', 'create_date']\n",
    "stage_data = stage_data.loc[~stage_data['create_date'].isnull(), keep_fields]"
   ]
  },
  {
   "cell_type": "code",
   "execution_count": null,
   "metadata": {
    "collapsed": false,
    "deletable": true,
    "editable": true
   },
   "outputs": [],
   "source": [
    "print('stage_data', stage_data.shape)"
   ]
  },
  {
   "cell_type": "code",
   "execution_count": null,
   "metadata": {
    "collapsed": false,
    "deletable": true,
    "editable": true
   },
   "outputs": [],
   "source": [
    "print('stage_data')\n",
    "print(stage_data.dtypes)\n",
    "stage_data.head()"
   ]
  },
  {
   "cell_type": "markdown",
   "metadata": {
    "deletable": true,
    "editable": true
   },
   "source": [
    "<H2>Academic Data</H2>"
   ]
  },
  {
   "cell_type": "code",
   "execution_count": 11,
   "metadata": {
    "collapsed": false,
    "deletable": true,
    "editable": true
   },
   "outputs": [],
   "source": [
    "sql_str = \"SELECT PEOPLE_CODE_ID, ACADEMIC_YEAR, ACADEMIC_TERM, \" + \\\n",
    "          \"ACADEMIC_SESSION, POPULATION, INQUIRY_FLAG, \" + \\\n",
    "          \"APPLICATION_FLAG, APPLICATION_DATE, \" + \\\n",
    "          \"APP_STATUS, APP_STATUS_DATE, \" +\\\n",
    "          \"APP_DECISION, APP_DECISION_DATE \" + \\\n",
    "          \"FROM ACADEMIC WHERE \" + \\\n",
    "          f\"ACADEMIC_YEAR >= '{begin_year}' \"\n",
    "academic = pd.read_sql_query(sql_str, connection)"
   ]
  },
  {
   "cell_type": "code",
   "execution_count": null,
   "metadata": {
    "collapsed": true,
    "deletable": true,
    "editable": true
   },
   "outputs": [],
   "source": [
    "academic_dtype = {'PEOPLE_CODE_ID': str, 'ACADEMIC_YEAR': str,\n",
    "                  'ACADEMIC_TERM': str, 'ACADEMIC_SESSION': str,\n",
    "                  'APPLICATION_FLAG': str, 'APP_STATUS': str}\n",
    "date_cols = ['APPLICATION_DATE', 'APP_STATUS_DATE', 'APP_DECISION_DATE']\n",
    "academic = pd.read_csv('ACADEMIC.csv', dtype=academic_dtype,\n",
    "                       parse_dates=date_cols,\n",
    "                       usecols=['PEOPLE_CODE_ID',\n",
    "                                'ACADEMIC_YEAR', 'ACADEMIC_TERM',\n",
    "                                'ACADEMIC_SESSION', 'POPULATION',\n",
    "                                'INQUIRY_FLAG',\n",
    "                                'APPLICATION_FLAG', 'APPLICATION_DATE',\n",
    "                                'APP_STATUS', 'APP_STATUS_DATE',\n",
    "                                'APP_DECISION', 'APP_DECISION_DATE'])"
   ]
  },
  {
   "cell_type": "code",
   "execution_count": null,
   "metadata": {
    "collapsed": false,
    "deletable": true,
    "editable": true,
    "scrolled": true
   },
   "outputs": [],
   "source": [
    "print('academic', academic.shape)\n",
    "print('academic')\n",
    "print(academic.dtypes)\n",
    "academic.info()"
   ]
  },
  {
   "cell_type": "code",
   "execution_count": null,
   "metadata": {
    "collapsed": false,
    "deletable": true,
    "editable": true
   },
   "outputs": [],
   "source": [
    "print(academic['POPULATION'].value_counts().sort_index())\n",
    "print()\n",
    "print(academic['POPULATION'].value_counts().sum())"
   ]
  },
  {
   "cell_type": "code",
   "execution_count": 12,
   "metadata": {
    "collapsed": false,
    "deletable": true,
    "editable": true
   },
   "outputs": [
    {
     "name": "stdout",
     "output_type": "stream",
     "text": [
      "app_data (32454, 12)\n",
      "app_data\n",
      "PEOPLE_CODE_ID               object\n",
      "ACADEMIC_YEAR                object\n",
      "ACADEMIC_TERM                object\n",
      "ACADEMIC_SESSION             object\n",
      "POPULATION                   object\n",
      "INQUIRY_FLAG                 object\n",
      "APPLICATION_FLAG             object\n",
      "APPLICATION_DATE             object\n",
      "APP_STATUS                   object\n",
      "APP_STATUS_DATE      datetime64[ns]\n",
      "APP_DECISION                 object\n",
      "APP_DECISION_DATE    datetime64[ns]\n",
      "dtype: object\n"
     ]
    }
   ],
   "source": [
    "app_data = (academic.loc[~(academic['POPULATION'].isin(['ADVSTU', 'NOND'])) &\n",
    "                         ((academic['INQUIRY_FLAG'] == 'Y') |\n",
    "                          (academic['APPLICATION_FLAG'] == 'Y'))]\n",
    "            )\n",
    "\n",
    "print('app_data', app_data.shape)\n",
    "print('app_data')\n",
    "print(app_data.dtypes)"
   ]
  },
  {
   "cell_type": "code",
   "execution_count": null,
   "metadata": {
    "collapsed": false,
    "deletable": true,
    "editable": true
   },
   "outputs": [],
   "source": [
    "app_data.info()"
   ]
  },
  {
   "cell_type": "code",
   "execution_count": 13,
   "metadata": {
    "collapsed": false,
    "deletable": true,
    "editable": true
   },
   "outputs": [
    {
     "name": "stdout",
     "output_type": "stream",
     "text": [
      "applied (13626, 7)\n",
      "applied\n",
      "PEOPLE_CODE_ID              object\n",
      "ACADEMIC_YEAR               object\n",
      "ACADEMIC_TERM               object\n",
      "ACADEMIC_SESSION            object\n",
      "field_name                  object\n",
      "field_value                 object\n",
      "create_date         datetime64[ns]\n",
      "dtype: object\n"
     ]
    }
   ],
   "source": [
    "applied = (app_data[app_data['APP_STATUS'].notnull()]\n",
    "           .rename(columns={'APP_STATUS': 'field_value',\n",
    "                            'APP_STATUS_DATE': 'create_date'})\n",
    "           )\n",
    "applied.loc[:, 'field_name'] = 'Application Status'\n",
    "applied = applied.loc[~applied['create_date'].isnull(), keep_fields]\n",
    "\n",
    "print('applied', applied.shape)\n",
    "print('applied')\n",
    "print(applied.dtypes)"
   ]
  },
  {
   "cell_type": "code",
   "execution_count": null,
   "metadata": {
    "collapsed": false,
    "deletable": true,
    "editable": true
   },
   "outputs": [],
   "source": [
    "print(applied['field_value'].value_counts().sort_index())\n",
    "print(applied['field_value'].value_counts().sum())"
   ]
  },
  {
   "cell_type": "code",
   "execution_count": null,
   "metadata": {
    "collapsed": false,
    "deletable": true,
    "editable": true
   },
   "outputs": [],
   "source": [
    "applied.info()"
   ]
  },
  {
   "cell_type": "code",
   "execution_count": 14,
   "metadata": {
    "collapsed": false,
    "deletable": true,
    "editable": true
   },
   "outputs": [
    {
     "name": "stdout",
     "output_type": "stream",
     "text": [
      "accepted (13616, 7)\n",
      "accepted\n",
      "PEOPLE_CODE_ID              object\n",
      "ACADEMIC_YEAR               object\n",
      "ACADEMIC_TERM               object\n",
      "ACADEMIC_SESSION            object\n",
      "field_name                  object\n",
      "field_value                 object\n",
      "create_date         datetime64[ns]\n",
      "dtype: object\n"
     ]
    }
   ],
   "source": [
    "accepted = (app_data[app_data['APP_DECISION'].notnull()]\n",
    "            .rename(columns={'APP_DECISION': 'field_value',\n",
    "                             'APP_DECISION_DATE': 'create_date'})\n",
    "            )\n",
    "accepted.loc[:, 'field_name'] = 'Application Decision'\n",
    "accepted = accepted.loc[~accepted['create_date'].isnull(), keep_fields]\n",
    "\n",
    "\n",
    "print('accepted', accepted.shape)\n",
    "print('accepted')\n",
    "print(accepted.dtypes)"
   ]
  },
  {
   "cell_type": "code",
   "execution_count": null,
   "metadata": {
    "collapsed": false,
    "deletable": true,
    "editable": true
   },
   "outputs": [],
   "source": [
    "print(accepted['field_value'].value_counts().sort_index())\n",
    "print(accepted['field_value'].value_counts().sum())"
   ]
  },
  {
   "cell_type": "code",
   "execution_count": null,
   "metadata": {
    "collapsed": false,
    "deletable": true,
    "editable": true
   },
   "outputs": [],
   "source": [
    "accepted.info()"
   ]
  },
  {
   "cell_type": "code",
   "execution_count": 15,
   "metadata": {
    "collapsed": false,
    "deletable": true,
    "editable": true
   },
   "outputs": [
    {
     "name": "stdout",
     "output_type": "stream",
     "text": [
      "adm_df (185700, 7)\n",
      "adm_df\n",
      "PEOPLE_CODE_ID              object\n",
      "ACADEMIC_YEAR               object\n",
      "ACADEMIC_TERM               object\n",
      "ACADEMIC_SESSION            object\n",
      "field_name                  object\n",
      "field_value                 object\n",
      "create_date         datetime64[ns]\n",
      "dtype: object\n"
     ]
    }
   ],
   "source": [
    "# stack Stage History, Academic Applied and Academic Accepted\n",
    "adm_df = stage_data.append(applied).append(accepted)\n",
    "\n",
    "print('adm_df', adm_df.shape)\n",
    "print('adm_df')\n",
    "print(adm_df.dtypes)"
   ]
  },
  {
   "cell_type": "code",
   "execution_count": null,
   "metadata": {
    "collapsed": false,
    "deletable": true,
    "editable": true
   },
   "outputs": [],
   "source": [
    "adm_df.head()"
   ]
  },
  {
   "cell_type": "code",
   "execution_count": null,
   "metadata": {
    "collapsed": false,
    "deletable": true,
    "editable": true
   },
   "outputs": [],
   "source": [
    "adm_df.info()"
   ]
  },
  {
   "cell_type": "code",
   "execution_count": 16,
   "metadata": {
    "collapsed": false,
    "deletable": true,
    "editable": true
   },
   "outputs": [
    {
     "name": "stdout",
     "output_type": "stream",
     "text": [
      "adm_df (123414, 7)\n",
      "adm_df\n",
      "PEOPLE_CODE_ID              object\n",
      "ACADEMIC_YEAR               object\n",
      "ACADEMIC_TERM               object\n",
      "ACADEMIC_SESSION            object\n",
      "field_name                  object\n",
      "field_value                 object\n",
      "create_date         datetime64[ns]\n",
      "dtype: object\n"
     ]
    }
   ],
   "source": [
    "adm_df = (adm_df.loc[((adm_df['ACADEMIC_TERM'].isin(['FALL', 'SPRING'])) &\n",
    "                      (adm_df['ACADEMIC_SESSION'] == 'MAIN') &\n",
    "                      (adm_df['ACADEMIC_YEAR'] >= '2009')\n",
    "                      )\n",
    "                     ]\n",
    "          )\n",
    "\n",
    "print('adm_df', adm_df.shape)\n",
    "print('adm_df')\n",
    "print(adm_df.dtypes)"
   ]
  },
  {
   "cell_type": "code",
   "execution_count": 18,
   "metadata": {
    "collapsed": true,
    "deletable": true,
    "editable": true
   },
   "outputs": [],
   "source": [
    "# create new fields\n",
    "adm_df['year_term'] = (adm_df['ACADEMIC_YEAR'] + '.' +\n",
    "                       adm_df['ACADEMIC_TERM'].str.title())"
   ]
  },
  {
   "cell_type": "code",
   "execution_count": 17,
   "metadata": {
    "collapsed": false,
    "deletable": true,
    "editable": true
   },
   "outputs": [],
   "source": [
    "week_number = (lambda r: (r['create_date'].date().isocalendar()[1])\n",
    "               if (r['create_date'].date() >= \n",
    "                   date((int(r['ACADEMIC_YEAR'])-1), 9, 1))\n",
    "               else (date((int(r['ACADEMIC_YEAR'])-1), 9, 1)\n",
    "                     .isocalendar()[1])\n",
    "               )\n",
    "adm_df['Week_Number'] = adm_df.apply(week_number, axis=1)"
   ]
  },
  {
   "cell_type": "code",
   "execution_count": null,
   "metadata": {
    "collapsed": false,
    "deletable": true,
    "editable": true
   },
   "outputs": [],
   "source": [
    "adm_df[(adm_df['year_term'] == '2018.Fall') & (adm_df['PEOPLE_CODE_ID'] == 'P000054428')]"
   ]
  },
  {
   "cell_type": "code",
   "execution_count": 19,
   "metadata": {
    "collapsed": false,
    "deletable": true,
    "editable": true
   },
   "outputs": [],
   "source": [
    "# convert ACADEMIC_YEAR to numeric keep numeric-valued records\n",
    "adm_df['ACADEMIC_YEAR'] = pd.to_numeric(adm_df['ACADEMIC_YEAR'],\n",
    "                                        errors='coerce', downcast='integer')\n",
    "adm_df = adm_df.loc[adm_df['ACADEMIC_YEAR'].notnull()]"
   ]
  },
  {
   "cell_type": "code",
   "execution_count": 20,
   "metadata": {
    "collapsed": false,
    "deletable": true,
    "editable": true
   },
   "outputs": [],
   "source": [
    "adm_week_number = (lambda r: (r['Week_Number'] -\n",
    "                              (date((int(r['ACADEMIC_YEAR'])-1), 9, 1)\n",
    "                              .isocalendar()[1])\n",
    "                              )\n",
    "                   if (r['Week_Number'] >= (date((int(r['ACADEMIC_YEAR'])-1), 9, 1)\n",
    "                                           .isocalendar()[1]))\n",
    "                   else (53 + r['Week_Number'] -\n",
    "                         (date((int(r['ACADEMIC_YEAR'])-1), 9, 1)\n",
    "                         .isocalendar()[1])\n",
    "                         )\n",
    "                   )\n"
   ]
  },
  {
   "cell_type": "code",
   "execution_count": 21,
   "metadata": {
    "collapsed": false,
    "deletable": true,
    "editable": true
   },
   "outputs": [
    {
     "name": "stdout",
     "output_type": "stream",
     "text": [
      "adm_df (123414, 10)\n",
      "adm_df\n",
      "PEOPLE_CODE_ID              object\n",
      "ACADEMIC_YEAR                int16\n",
      "ACADEMIC_TERM               object\n",
      "ACADEMIC_SESSION            object\n",
      "field_name                  object\n",
      "field_value                 object\n",
      "create_date         datetime64[ns]\n",
      "Week_Number                  int64\n",
      "year_term                   object\n",
      "Admissions_Week              int64\n",
      "dtype: object\n"
     ]
    }
   ],
   "source": [
    "adm_df['Admissions_Week'] = adm_df.apply(adm_week_number, axis=1)\n",
    "\n",
    "print('adm_df', adm_df.shape)\n",
    "print('adm_df')\n",
    "print(adm_df.dtypes)"
   ]
  },
  {
   "cell_type": "code",
   "execution_count": null,
   "metadata": {
    "collapsed": false,
    "deletable": true,
    "editable": true
   },
   "outputs": [],
   "source": [
    "adm_df[(adm_df['year_term'] == '2018.Fall') & (adm_df['PEOPLE_CODE_ID'] == 'P000054428')]"
   ]
  },
  {
   "cell_type": "code",
   "execution_count": null,
   "metadata": {
    "collapsed": false,
    "deletable": true,
    "editable": true
   },
   "outputs": [],
   "source": [
    "adm_df.info()"
   ]
  },
  {
   "cell_type": "code",
   "execution_count": null,
   "metadata": {
    "collapsed": false,
    "deletable": true,
    "editable": true
   },
   "outputs": [],
   "source": [
    "adm_df.head()"
   ]
  },
  {
   "cell_type": "code",
   "execution_count": null,
   "metadata": {
    "collapsed": false,
    "deletable": true,
    "editable": true
   },
   "outputs": [],
   "source": [
    "adm_df.columns"
   ]
  },
  {
   "cell_type": "code",
   "execution_count": null,
   "metadata": {
    "collapsed": false,
    "deletable": true,
    "editable": true
   },
   "outputs": [],
   "source": [
    "adm_df[(adm_df['year_term']=='2014.Fall') & (adm_df['PEOPLE_CODE_ID']=='P000026232')].head(30)"
   ]
  },
  {
   "cell_type": "code",
   "execution_count": null,
   "metadata": {
    "collapsed": false,
    "deletable": true,
    "editable": true,
    "scrolled": true
   },
   "outputs": [],
   "source": [
    "print(adm_df['field_value'].value_counts().sort_index())\n",
    "print(adm_df['field_value'].value_counts().sum())"
   ]
  },
  {
   "cell_type": "code",
   "execution_count": 22,
   "metadata": {
    "collapsed": false,
    "deletable": true,
    "editable": true
   },
   "outputs": [
    {
     "name": "stdout",
     "output_type": "stream",
     "text": [
      "adm_df (58796, 4)\n",
      "adm_df\n",
      "PEOPLE_CODE_ID     object\n",
      "year_term          object\n",
      "Admissions_Week     int64\n",
      "field_value        object\n",
      "dtype: object\n"
     ]
    }
   ],
   "source": [
    "adm_keep_values = ['300', 'ACC', 'ACXL', 'CANC', 'DEF', 'DEFR', 'DENY', 'DPAC',\n",
    "                   'TRDP', 'TRPD', 'TRNS', 'WAIT', '500', 'PEND', 'COMP']\n",
    "adm_keep_cols = ['PEOPLE_CODE_ID', 'year_term', 'Admissions_Week',\n",
    "                 'field_value']\n",
    "adm_df = adm_df.loc[(adm_df['field_value'].isin(adm_keep_values)),\n",
    "                    adm_keep_cols]\n",
    "\n",
    "print('adm_df', adm_df.shape)\n",
    "print('adm_df')\n",
    "print(adm_df.dtypes)"
   ]
  },
  {
   "cell_type": "code",
   "execution_count": null,
   "metadata": {
    "collapsed": false,
    "deletable": true,
    "editable": true,
    "scrolled": true
   },
   "outputs": [],
   "source": [
    "adm_df.head()"
   ]
  },
  {
   "cell_type": "code",
   "execution_count": null,
   "metadata": {
    "collapsed": false,
    "deletable": true,
    "editable": true
   },
   "outputs": [],
   "source": [
    "adm_df[(adm_df['year_term']=='2014.Fall') & (adm_df['PEOPLE_CODE_ID']=='P000026232')].head(30)"
   ]
  },
  {
   "cell_type": "code",
   "execution_count": 23,
   "metadata": {
    "collapsed": true,
    "deletable": true,
    "editable": true
   },
   "outputs": [],
   "source": [
    "# admissions status table\n",
    "admission_status = {'300': 'Applied', 'ACC': 'Accepted', 'ACXL': 'Canceled',\n",
    "                    'CANC': 'Canceled', 'DEF': 'Canceled', 'DEFR': 'Canceled',\n",
    "                    'DENY': 'Canceled', 'DPAC': 'Deposited',\n",
    "                    'TRDP': 'Deposited', 'TRPD': 'Deposited',\n",
    "                    'TRNS': 'Accepted', 'WAIT': 'Accepted',\n",
    "                    '500': 'Deposited', 'PEND': 'Applied',\n",
    "                    'COMP': 'Applied',\n",
    "                    }\n",
    "adm_stat = pd.DataFrame(list(admission_status.items()),\n",
    "                        columns=['field_value', 'admission_status'])"
   ]
  },
  {
   "cell_type": "code",
   "execution_count": 24,
   "metadata": {
    "collapsed": false,
    "deletable": true,
    "editable": true
   },
   "outputs": [
    {
     "name": "stdout",
     "output_type": "stream",
     "text": [
      "adm_df1 (29676, 4)\n",
      "adm_df1\n",
      "PEOPLE_CODE_ID      object\n",
      "year_term           object\n",
      "Admissions_Week      int64\n",
      "admission_status    object\n",
      "dtype: object\n"
     ]
    }
   ],
   "source": [
    "adm_df1 = (pd.merge(adm_df, adm_stat, on=['field_value'], how='left')\n",
    "           .drop(['field_value'], axis=1)\n",
    "           .drop_duplicates(['PEOPLE_CODE_ID', 'year_term', 'Admissions_Week',\n",
    "                             'admission_status'])\n",
    "           )\n",
    "\n",
    "print('adm_df1', adm_df1.shape)\n",
    "print('adm_df1')\n",
    "print(adm_df1.dtypes)"
   ]
  },
  {
   "cell_type": "code",
   "execution_count": null,
   "metadata": {
    "collapsed": false,
    "deletable": true,
    "editable": true,
    "scrolled": true
   },
   "outputs": [],
   "source": [
    "adm_df1.head()"
   ]
  },
  {
   "cell_type": "code",
   "execution_count": null,
   "metadata": {
    "collapsed": false,
    "deletable": true,
    "editable": true,
    "scrolled": true
   },
   "outputs": [],
   "source": [
    "adm_df1[(adm_df1['year_term']=='2014.Fall') & (adm_df1['admission_status']=='Deposited')].head(30)"
   ]
  },
  {
   "cell_type": "code",
   "execution_count": null,
   "metadata": {
    "collapsed": false,
    "deletable": true,
    "editable": true
   },
   "outputs": [],
   "source": [
    "adm_df1[(adm_df1['year_term']=='2014.Fall') & (adm_df1['PEOPLE_CODE_ID']=='P000026232')].head(30)"
   ]
  },
  {
   "cell_type": "code",
   "execution_count": 25,
   "metadata": {
    "collapsed": true,
    "deletable": true,
    "editable": true
   },
   "outputs": [],
   "source": [
    "adm_df1 = (adm_df1.sort_values(['year_term', 'PEOPLE_CODE_ID',\n",
    "                                'admission_status', 'Admissions_Week'])\n",
    "           .drop_duplicates(['year_term', 'PEOPLE_CODE_ID',\n",
    "                             'admission_status'],\n",
    "                            keep='first')\n",
    "           )"
   ]
  },
  {
   "cell_type": "code",
   "execution_count": null,
   "metadata": {
    "collapsed": false,
    "deletable": true,
    "editable": true
   },
   "outputs": [],
   "source": [
    "print('adm_df1', adm_df1.shape)"
   ]
  },
  {
   "cell_type": "code",
   "execution_count": null,
   "metadata": {
    "collapsed": false,
    "deletable": true,
    "editable": true,
    "scrolled": true
   },
   "outputs": [],
   "source": [
    "adm_df1[(adm_df1['year_term']=='2014.Fall') & (adm_df1['admission_status']=='Deposited')].head(30)"
   ]
  },
  {
   "cell_type": "code",
   "execution_count": null,
   "metadata": {
    "collapsed": false,
    "deletable": true,
    "editable": true
   },
   "outputs": [],
   "source": [
    "adm_df1[(adm_df1['year_term']=='2014.Fall') & (adm_df1['PEOPLE_CODE_ID']=='P000026232')].head(30)"
   ]
  },
  {
   "cell_type": "code",
   "execution_count": null,
   "metadata": {
    "collapsed": false,
    "deletable": true,
    "editable": true
   },
   "outputs": [],
   "source": [
    "adm_df2 = (adm_df1.loc[(adm_df1['year_term'].isin(['2014.Fall', '2015.Fall']))]\n",
    "           .reset_index()\n",
    "           .set_index(['year_term', 'PEOPLE_CODE_ID', 'admission_status'])\n",
    "           .drop(['index'], axis=1)\n",
    "           .unstack(level=-1)\n",
    "          )\n",
    "\n",
    "print('adm_df2', adm_df2.shape)\n",
    "print('adm_df2')\n",
    "print(adm_df2.dtypes)"
   ]
  },
  {
   "cell_type": "code",
   "execution_count": null,
   "metadata": {
    "collapsed": false,
    "deletable": true,
    "editable": true
   },
   "outputs": [],
   "source": [
    "adm_df2.head()"
   ]
  },
  {
   "cell_type": "code",
   "execution_count": null,
   "metadata": {
    "collapsed": true,
    "deletable": true,
    "editable": true
   },
   "outputs": [],
   "source": []
  },
  {
   "cell_type": "code",
   "execution_count": null,
   "metadata": {
    "collapsed": true,
    "deletable": true,
    "editable": true
   },
   "outputs": [],
   "source": []
  },
  {
   "cell_type": "code",
   "execution_count": null,
   "metadata": {
    "collapsed": false,
    "deletable": true,
    "editable": true
   },
   "outputs": [],
   "source": [
    "#q = adm_df1.loc[(adm_df1['year_term']=='2014.Fall'), ['PEOPLE_CODE_ID', 'Admissions_Week', 'admission_status']]\n",
    "q = adm_df1.loc[((adm_df1['year_term']=='2014.Fall') | (adm_df1['year_term']=='2015.Fall')), ['year_term', 'PEOPLE_CODE_ID', 'Admissions_Week', 'admission_status']]"
   ]
  },
  {
   "cell_type": "code",
   "execution_count": null,
   "metadata": {
    "collapsed": false,
    "deletable": true,
    "editable": true
   },
   "outputs": [],
   "source": [
    "print(q.shape)\n",
    "q.head()"
   ]
  },
  {
   "cell_type": "code",
   "execution_count": null,
   "metadata": {
    "collapsed": true,
    "deletable": true,
    "editable": true
   },
   "outputs": [],
   "source": [
    "w = q.set_index(['year_term', 'PEOPLE_CODE_ID'])"
   ]
  },
  {
   "cell_type": "code",
   "execution_count": null,
   "metadata": {
    "collapsed": false,
    "deletable": true,
    "editable": true,
    "scrolled": true
   },
   "outputs": [],
   "source": [
    "print(w.shape)\n",
    "w.head(30)"
   ]
  },
  {
   "cell_type": "code",
   "execution_count": null,
   "metadata": {
    "collapsed": true,
    "deletable": true,
    "editable": true
   },
   "outputs": [],
   "source": [
    "# just 2018.Fall for testing\n",
    "adm_df1 = adm_df1.loc[(adm_df1['year_term']=='2018.Fall') , ['year_term', 'PEOPLE_CODE_ID', 'Admissions_Week', 'admission_status']]"
   ]
  },
  {
   "cell_type": "code",
   "execution_count": 26,
   "metadata": {
    "collapsed": false,
    "deletable": true,
    "editable": true,
    "scrolled": true
   },
   "outputs": [
    {
     "name": "stdout",
     "output_type": "stream",
     "text": [
      "(11525, 4)\n"
     ]
    },
    {
     "data": {
      "text/html": [
       "<div>\n",
       "<style scoped>\n",
       "    .dataframe tbody tr th:only-of-type {\n",
       "        vertical-align: middle;\n",
       "    }\n",
       "\n",
       "    .dataframe tbody tr th {\n",
       "        vertical-align: top;\n",
       "    }\n",
       "\n",
       "    .dataframe thead tr th {\n",
       "        text-align: left;\n",
       "    }\n",
       "\n",
       "    .dataframe thead tr:last-of-type th {\n",
       "        text-align: right;\n",
       "    }\n",
       "</style>\n",
       "<table border=\"1\" class=\"dataframe\">\n",
       "  <thead>\n",
       "    <tr>\n",
       "      <th></th>\n",
       "      <th></th>\n",
       "      <th colspan=\"4\" halign=\"left\">Admissions_Week</th>\n",
       "    </tr>\n",
       "    <tr>\n",
       "      <th></th>\n",
       "      <th>admission_status</th>\n",
       "      <th>Accepted</th>\n",
       "      <th>Applied</th>\n",
       "      <th>Canceled</th>\n",
       "      <th>Deposited</th>\n",
       "    </tr>\n",
       "    <tr>\n",
       "      <th>year_term</th>\n",
       "      <th>PEOPLE_CODE_ID</th>\n",
       "      <th></th>\n",
       "      <th></th>\n",
       "      <th></th>\n",
       "      <th></th>\n",
       "    </tr>\n",
       "  </thead>\n",
       "  <tbody>\n",
       "    <tr>\n",
       "      <th rowspan=\"30\" valign=\"top\">2009.Fall</th>\n",
       "      <th>P000000564</th>\n",
       "      <td>25.0</td>\n",
       "      <td>54.0</td>\n",
       "      <td>54.0</td>\n",
       "      <td>25.0</td>\n",
       "    </tr>\n",
       "    <tr>\n",
       "      <th>P000006539</th>\n",
       "      <td>37.0</td>\n",
       "      <td>54.0</td>\n",
       "      <td>54.0</td>\n",
       "      <td>37.0</td>\n",
       "    </tr>\n",
       "    <tr>\n",
       "      <th>P000022053</th>\n",
       "      <td>29.0</td>\n",
       "      <td>54.0</td>\n",
       "      <td>54.0</td>\n",
       "      <td>29.0</td>\n",
       "    </tr>\n",
       "    <tr>\n",
       "      <th>P000022130</th>\n",
       "      <td>28.0</td>\n",
       "      <td>54.0</td>\n",
       "      <td>54.0</td>\n",
       "      <td>28.0</td>\n",
       "    </tr>\n",
       "    <tr>\n",
       "      <th>P000022259</th>\n",
       "      <td>0.0</td>\n",
       "      <td>54.0</td>\n",
       "      <td>54.0</td>\n",
       "      <td>0.0</td>\n",
       "    </tr>\n",
       "    <tr>\n",
       "      <th>P000022701</th>\n",
       "      <td>50.0</td>\n",
       "      <td>50.0</td>\n",
       "      <td>54.0</td>\n",
       "      <td>50.0</td>\n",
       "    </tr>\n",
       "    <tr>\n",
       "      <th>P000022722</th>\n",
       "      <td>3.0</td>\n",
       "      <td>3.0</td>\n",
       "      <td>54.0</td>\n",
       "      <td>43.0</td>\n",
       "    </tr>\n",
       "    <tr>\n",
       "      <th>P000022725</th>\n",
       "      <td>54.0</td>\n",
       "      <td>49.0</td>\n",
       "      <td>49.0</td>\n",
       "      <td>54.0</td>\n",
       "    </tr>\n",
       "    <tr>\n",
       "      <th>P000022727</th>\n",
       "      <td>5.0</td>\n",
       "      <td>54.0</td>\n",
       "      <td>54.0</td>\n",
       "      <td>5.0</td>\n",
       "    </tr>\n",
       "    <tr>\n",
       "      <th>P000022729</th>\n",
       "      <td>6.0</td>\n",
       "      <td>54.0</td>\n",
       "      <td>54.0</td>\n",
       "      <td>6.0</td>\n",
       "    </tr>\n",
       "    <tr>\n",
       "      <th>P000022730</th>\n",
       "      <td>6.0</td>\n",
       "      <td>54.0</td>\n",
       "      <td>54.0</td>\n",
       "      <td>6.0</td>\n",
       "    </tr>\n",
       "    <tr>\n",
       "      <th>P000022734</th>\n",
       "      <td>7.0</td>\n",
       "      <td>54.0</td>\n",
       "      <td>54.0</td>\n",
       "      <td>7.0</td>\n",
       "    </tr>\n",
       "    <tr>\n",
       "      <th>P000022736</th>\n",
       "      <td>7.0</td>\n",
       "      <td>54.0</td>\n",
       "      <td>54.0</td>\n",
       "      <td>7.0</td>\n",
       "    </tr>\n",
       "    <tr>\n",
       "      <th>P000022758</th>\n",
       "      <td>9.0</td>\n",
       "      <td>54.0</td>\n",
       "      <td>54.0</td>\n",
       "      <td>9.0</td>\n",
       "    </tr>\n",
       "    <tr>\n",
       "      <th>P000022759</th>\n",
       "      <td>9.0</td>\n",
       "      <td>54.0</td>\n",
       "      <td>54.0</td>\n",
       "      <td>9.0</td>\n",
       "    </tr>\n",
       "    <tr>\n",
       "      <th>P000022761</th>\n",
       "      <td>9.0</td>\n",
       "      <td>54.0</td>\n",
       "      <td>54.0</td>\n",
       "      <td>9.0</td>\n",
       "    </tr>\n",
       "    <tr>\n",
       "      <th>P000022762</th>\n",
       "      <td>9.0</td>\n",
       "      <td>54.0</td>\n",
       "      <td>54.0</td>\n",
       "      <td>9.0</td>\n",
       "    </tr>\n",
       "    <tr>\n",
       "      <th>P000022768</th>\n",
       "      <td>10.0</td>\n",
       "      <td>54.0</td>\n",
       "      <td>54.0</td>\n",
       "      <td>10.0</td>\n",
       "    </tr>\n",
       "    <tr>\n",
       "      <th>P000022769</th>\n",
       "      <td>10.0</td>\n",
       "      <td>54.0</td>\n",
       "      <td>54.0</td>\n",
       "      <td>10.0</td>\n",
       "    </tr>\n",
       "    <tr>\n",
       "      <th>P000022774</th>\n",
       "      <td>11.0</td>\n",
       "      <td>54.0</td>\n",
       "      <td>41.0</td>\n",
       "      <td>11.0</td>\n",
       "    </tr>\n",
       "    <tr>\n",
       "      <th>P000022776</th>\n",
       "      <td>11.0</td>\n",
       "      <td>54.0</td>\n",
       "      <td>54.0</td>\n",
       "      <td>11.0</td>\n",
       "    </tr>\n",
       "    <tr>\n",
       "      <th>P000022782</th>\n",
       "      <td>11.0</td>\n",
       "      <td>54.0</td>\n",
       "      <td>54.0</td>\n",
       "      <td>11.0</td>\n",
       "    </tr>\n",
       "    <tr>\n",
       "      <th>P000022783</th>\n",
       "      <td>11.0</td>\n",
       "      <td>54.0</td>\n",
       "      <td>54.0</td>\n",
       "      <td>11.0</td>\n",
       "    </tr>\n",
       "    <tr>\n",
       "      <th>P000022785</th>\n",
       "      <td>11.0</td>\n",
       "      <td>54.0</td>\n",
       "      <td>54.0</td>\n",
       "      <td>11.0</td>\n",
       "    </tr>\n",
       "    <tr>\n",
       "      <th>P000022787</th>\n",
       "      <td>12.0</td>\n",
       "      <td>54.0</td>\n",
       "      <td>54.0</td>\n",
       "      <td>12.0</td>\n",
       "    </tr>\n",
       "    <tr>\n",
       "      <th>P000022788</th>\n",
       "      <td>12.0</td>\n",
       "      <td>54.0</td>\n",
       "      <td>54.0</td>\n",
       "      <td>12.0</td>\n",
       "    </tr>\n",
       "    <tr>\n",
       "      <th>P000022796</th>\n",
       "      <td>13.0</td>\n",
       "      <td>54.0</td>\n",
       "      <td>54.0</td>\n",
       "      <td>13.0</td>\n",
       "    </tr>\n",
       "    <tr>\n",
       "      <th>P000022797</th>\n",
       "      <td>13.0</td>\n",
       "      <td>54.0</td>\n",
       "      <td>54.0</td>\n",
       "      <td>13.0</td>\n",
       "    </tr>\n",
       "    <tr>\n",
       "      <th>P000022798</th>\n",
       "      <td>13.0</td>\n",
       "      <td>54.0</td>\n",
       "      <td>54.0</td>\n",
       "      <td>13.0</td>\n",
       "    </tr>\n",
       "    <tr>\n",
       "      <th>P000022799</th>\n",
       "      <td>13.0</td>\n",
       "      <td>54.0</td>\n",
       "      <td>54.0</td>\n",
       "      <td>13.0</td>\n",
       "    </tr>\n",
       "  </tbody>\n",
       "</table>\n",
       "</div>"
      ],
      "text/plain": [
       "                         Admissions_Week                           \n",
       "admission_status                Accepted Applied Canceled Deposited\n",
       "year_term PEOPLE_CODE_ID                                           \n",
       "2009.Fall P000000564                25.0    54.0     54.0      25.0\n",
       "          P000006539                37.0    54.0     54.0      37.0\n",
       "          P000022053                29.0    54.0     54.0      29.0\n",
       "          P000022130                28.0    54.0     54.0      28.0\n",
       "          P000022259                 0.0    54.0     54.0       0.0\n",
       "          P000022701                50.0    50.0     54.0      50.0\n",
       "          P000022722                 3.0     3.0     54.0      43.0\n",
       "          P000022725                54.0    49.0     49.0      54.0\n",
       "          P000022727                 5.0    54.0     54.0       5.0\n",
       "          P000022729                 6.0    54.0     54.0       6.0\n",
       "          P000022730                 6.0    54.0     54.0       6.0\n",
       "          P000022734                 7.0    54.0     54.0       7.0\n",
       "          P000022736                 7.0    54.0     54.0       7.0\n",
       "          P000022758                 9.0    54.0     54.0       9.0\n",
       "          P000022759                 9.0    54.0     54.0       9.0\n",
       "          P000022761                 9.0    54.0     54.0       9.0\n",
       "          P000022762                 9.0    54.0     54.0       9.0\n",
       "          P000022768                10.0    54.0     54.0      10.0\n",
       "          P000022769                10.0    54.0     54.0      10.0\n",
       "          P000022774                11.0    54.0     41.0      11.0\n",
       "          P000022776                11.0    54.0     54.0      11.0\n",
       "          P000022782                11.0    54.0     54.0      11.0\n",
       "          P000022783                11.0    54.0     54.0      11.0\n",
       "          P000022785                11.0    54.0     54.0      11.0\n",
       "          P000022787                12.0    54.0     54.0      12.0\n",
       "          P000022788                12.0    54.0     54.0      12.0\n",
       "          P000022796                13.0    54.0     54.0      13.0\n",
       "          P000022797                13.0    54.0     54.0      13.0\n",
       "          P000022798                13.0    54.0     54.0      13.0\n",
       "          P000022799                13.0    54.0     54.0      13.0"
      ]
     },
     "execution_count": 26,
     "metadata": {},
     "output_type": "execute_result"
    }
   ],
   "source": [
    "e = adm_df1.pivot_table(index=['year_term', 'PEOPLE_CODE_ID'],\n",
    "                        columns=['admission_status'],\n",
    "                        values=['Admissions_Week']\n",
    "                        )\n",
    "e = e.fillna(54)\n",
    "print(e.shape)\n",
    "e.head(30)"
   ]
  },
  {
   "cell_type": "code",
   "execution_count": null,
   "metadata": {
    "collapsed": true,
    "deletable": true,
    "editable": true
   },
   "outputs": [],
   "source": [
    "e.to_csv('2018_Fall_pivot.csv')"
   ]
  },
  {
   "cell_type": "code",
   "execution_count": 27,
   "metadata": {
    "collapsed": true,
    "deletable": true,
    "editable": true
   },
   "outputs": [],
   "source": [
    "# function returns status for week\n",
    "def f_status(field, data_frame, n):\n",
    "    f_week = (lambda df: 1\n",
    "              if ((df[('Admissions_Week', field)] <= n) &\n",
    "                  (df[('Admissions_Week', 'Canceled')] > n))\n",
    "              else 0\n",
    "              )\n",
    "    return data_frame.apply(f_week, axis=1)"
   ]
  },
  {
   "cell_type": "code",
   "execution_count": null,
   "metadata": {
    "collapsed": false,
    "deletable": true,
    "editable": true,
    "scrolled": true
   },
   "outputs": [],
   "source": [
    "e[('Admissions_Week', 'Canceled')]"
   ]
  },
  {
   "cell_type": "code",
   "execution_count": null,
   "metadata": {
    "collapsed": false,
    "deletable": true,
    "editable": true
   },
   "outputs": [],
   "source": [
    "f_status('Applied', e, 1).to_csv('2018_Fall_w1.csv')"
   ]
  },
  {
   "cell_type": "code",
   "execution_count": 28,
   "metadata": {
    "collapsed": false,
    "deletable": true,
    "editable": true,
    "scrolled": true
   },
   "outputs": [],
   "source": [
    "# function returns DataFrame of 53 week status values\n",
    "def fill_weeks(field, data_frame):\n",
    "    weeks = range(0, 54)\n",
    "    r = pd.DataFrame(np.zeros((data_frame.shape[0], 54)),\n",
    "                     index=data_frame.index,\n",
    "                     columns=[f'{w:02d}' for w in weeks])\n",
    "    for w in weeks:\n",
    "        f = f'{w:02d}'\n",
    "        r.loc[:, f] = f_status(field, data_frame, w)\n",
    "        r.loc[:, 'stage'] = field\n",
    "\n",
    "    r = r.reset_index().set_index(['year_term', 'stage', 'PEOPLE_CODE_ID'])\n",
    "   \n",
    "    return r"
   ]
  },
  {
   "cell_type": "code",
   "execution_count": 29,
   "metadata": {
    "collapsed": false,
    "deletable": true,
    "editable": true
   },
   "outputs": [],
   "source": [
    "stage_list = ['Applied', 'Accepted', 'Deposited']\n",
    "w = pd.DataFrame()\n",
    "for stg in stage_list:\n",
    "    w = pd.concat([w, fill_weeks(stg, e)])\n"
   ]
  },
  {
   "cell_type": "code",
   "execution_count": null,
   "metadata": {
    "collapsed": true,
    "deletable": true,
    "editable": true
   },
   "outputs": [],
   "source": [
    "w.to_csv('2018_Fall_stages.csv')"
   ]
  },
  {
   "cell_type": "code",
   "execution_count": null,
   "metadata": {
    "collapsed": false,
    "deletable": true,
    "editable": true
   },
   "outputs": [],
   "source": [
    "w.head()\n"
   ]
  },
  {
   "cell_type": "code",
   "execution_count": null,
   "metadata": {
    "collapsed": false,
    "deletable": true,
    "editable": true,
    "scrolled": true
   },
   "outputs": [],
   "source": [
    "\n",
    "print(w.shape)\n",
    "w.head(30)"
   ]
  },
  {
   "cell_type": "code",
   "execution_count": null,
   "metadata": {
    "collapsed": false,
    "deletable": true,
    "editable": true,
    "scrolled": true
   },
   "outputs": [],
   "source": [
    "w"
   ]
  },
  {
   "cell_type": "code",
   "execution_count": null,
   "metadata": {
    "collapsed": false,
    "deletable": true,
    "editable": true,
    "scrolled": true
   },
   "outputs": [],
   "source": [
    "w.info()"
   ]
  },
  {
   "cell_type": "code",
   "execution_count": 30,
   "metadata": {
    "collapsed": false,
    "deletable": true,
    "editable": true
   },
   "outputs": [],
   "source": [
    "# add CURRICULUM field\n",
    "sql_str = \"SELECT PEOPLE_CODE_ID, ACADEMIC_YEAR, ACADEMIC_TERM, \" + \\\n",
    "          \"ACADEMIC_SESSION, CURRICULUM, PRIMARY_FLAG \" + \\\n",
    "          \"FROM ACADEMIC WHERE \" + \\\n",
    "          \"PRIMARY_FLAG = 'Y' AND \" + \\\n",
    "          f\"ACADEMIC_YEAR >= '{begin_year}' \"\n",
    "curriculum_df = pd.read_sql_query(sql_str, connection)"
   ]
  },
  {
   "cell_type": "code",
   "execution_count": null,
   "metadata": {
    "collapsed": false,
    "deletable": true,
    "editable": true
   },
   "outputs": [],
   "source": [
    "print(curriculum_df.shape)\n",
    "print(curriculum_df.head())"
   ]
  },
  {
   "cell_type": "code",
   "execution_count": 31,
   "metadata": {
    "collapsed": false,
    "deletable": true,
    "editable": true
   },
   "outputs": [],
   "source": [
    "curriculum_df['year_term'] = (curriculum_df['ACADEMIC_YEAR'] + '.' +\n",
    "                              curriculum_df['ACADEMIC_TERM'].str.title())\n",
    "curriculum_df = curriculum_df.rename(columns={'CURRICULUM': 'curriculum'})\n"
   ]
  },
  {
   "cell_type": "code",
   "execution_count": null,
   "metadata": {
    "collapsed": false,
    "deletable": true,
    "editable": true
   },
   "outputs": [],
   "source": [
    "print(curriculum_df.shape)\n",
    "print(curriculum_df.head())"
   ]
  },
  {
   "cell_type": "code",
   "execution_count": 32,
   "metadata": {
    "collapsed": true,
    "deletable": true,
    "editable": true
   },
   "outputs": [],
   "source": [
    "curr_flds = ['PEOPLE_CODE_ID', 'year_term', 'curriculum']\n",
    "curriculum_df = curriculum_df[curr_flds]\n",
    "curriculum_df = curriculum_df.drop_duplicates(curr_flds)"
   ]
  },
  {
   "cell_type": "code",
   "execution_count": null,
   "metadata": {
    "collapsed": false,
    "deletable": true,
    "editable": true
   },
   "outputs": [],
   "source": [
    "print(curriculum_df.shape)\n",
    "print(curriculum_df.head())"
   ]
  },
  {
   "cell_type": "code",
   "execution_count": null,
   "metadata": {
    "collapsed": false,
    "deletable": true,
    "editable": true
   },
   "outputs": [],
   "source": [
    "print(w.head())"
   ]
  },
  {
   "cell_type": "code",
   "execution_count": 33,
   "metadata": {
    "collapsed": false,
    "deletable": true,
    "editable": true
   },
   "outputs": [],
   "source": [
    "y = pd.merge(w.reset_index(), curriculum_df,\n",
    "             on=['year_term', 'PEOPLE_CODE_ID'], how='left')"
   ]
  },
  {
   "cell_type": "code",
   "execution_count": null,
   "metadata": {
    "collapsed": false,
    "deletable": true,
    "editable": true
   },
   "outputs": [],
   "source": [
    "print(y.shape)"
   ]
  },
  {
   "cell_type": "code",
   "execution_count": null,
   "metadata": {
    "collapsed": false,
    "deletable": true,
    "editable": true
   },
   "outputs": [],
   "source": [
    "print(y.head())"
   ]
  },
  {
   "cell_type": "code",
   "execution_count": null,
   "metadata": {
    "collapsed": false,
    "deletable": true,
    "editable": true
   },
   "outputs": [],
   "source": [
    "y.head()"
   ]
  },
  {
   "cell_type": "code",
   "execution_count": 34,
   "metadata": {
    "collapsed": false,
    "deletable": true,
    "editable": true
   },
   "outputs": [
    {
     "name": "stderr",
     "output_type": "stream",
     "text": [
      "C:\\Anaconda3\\envs\\py36\\lib\\site-packages\\pandas\\core\\generic.py:1471: PerformanceWarning: \n",
      "your performance may suffer as PyTables will pickle object types that it cannot\n",
      "map directly to c-types [inferred_type->mixed,key->block1_values] [items->['year_term', 'stage', 'PEOPLE_CODE_ID', 'curriculum']]\n",
      "\n",
      "  return pytables.to_hdf(path_or_buf, key, self, **kwargs)\n"
     ]
    }
   ],
   "source": [
    "y.to_hdf('data/stage_data', key='weekly', mode='w', data_columns=True, complevel=0)"
   ]
  },
  {
   "cell_type": "code",
   "execution_count": 35,
   "metadata": {
    "collapsed": true,
    "deletable": true,
    "editable": true
   },
   "outputs": [],
   "source": [
    "df = pd.read_hdf('data/stage_data', key='weekly')"
   ]
  },
  {
   "cell_type": "code",
   "execution_count": 36,
   "metadata": {
    "collapsed": false,
    "deletable": true,
    "editable": true
   },
   "outputs": [],
   "source": [
    "summ = df.groupby(['year_term', 'stage']).sum()\n"
   ]
  },
  {
   "cell_type": "code",
   "execution_count": null,
   "metadata": {
    "collapsed": false,
    "deletable": true,
    "editable": true
   },
   "outputs": [],
   "source": [
    "summ.loc[('2018.Fall', )]"
   ]
  },
  {
   "cell_type": "code",
   "execution_count": null,
   "metadata": {
    "collapsed": false,
    "deletable": true,
    "editable": true
   },
   "outputs": [],
   "source": [
    "(summ.loc[('2013.Fall', )].transpose()).to_csv('2013.Fall.csv')\n",
    "(summ.loc[('2014.Fall', )].transpose()).to_csv('2014.Fall.csv')\n",
    "(summ.loc[('2015.Fall', )].transpose()).to_csv('2015.Fall.csv')\n",
    "(summ.loc[('2016.Fall', )].transpose()).to_csv('2016.Fall.csv')"
   ]
  },
  {
   "cell_type": "code",
   "execution_count": 57,
   "metadata": {
    "collapsed": true,
    "deletable": true,
    "editable": true
   },
   "outputs": [],
   "source": [
    "(summ.loc[('2018.Fall', )].transpose()).to_csv('2018.Fall.csv')\n"
   ]
  },
  {
   "cell_type": "code",
   "execution_count": null,
   "metadata": {
    "collapsed": true,
    "deletable": true,
    "editable": true
   },
   "outputs": [],
   "source": [
    "writer = pd.ExcelWriter(f'admissions_historic_data_{today}.xlsx')\n",
    "terms = ['2010.Fall', '2011.Fall', '2012.Fall', '2013.Fall', '2014.Fall', '2015.Fall', '2016.Fall', '2017.Fall', '2018.Fall', ]\n",
    "#terms = ['2018.Fall', ]\n",
    "for t in terms:\n",
    "    (summ.loc[(t, )].transpose()).to_excel(writer, t)\n",
    "writer.save()"
   ]
  },
  {
   "cell_type": "code",
   "execution_count": 37,
   "metadata": {
    "collapsed": false,
    "deletable": true,
    "editable": true,
    "scrolled": true
   },
   "outputs": [
    {
     "data": {
      "text/html": [
       "<div>\n",
       "<style scoped>\n",
       "    .dataframe tbody tr th:only-of-type {\n",
       "        vertical-align: middle;\n",
       "    }\n",
       "\n",
       "    .dataframe tbody tr th {\n",
       "        vertical-align: top;\n",
       "    }\n",
       "\n",
       "    .dataframe thead tr th {\n",
       "        text-align: left;\n",
       "    }\n",
       "</style>\n",
       "<table border=\"1\" class=\"dataframe\">\n",
       "  <thead>\n",
       "    <tr>\n",
       "      <th>year_term</th>\n",
       "      <th colspan=\"3\" halign=\"left\">2009.Fall</th>\n",
       "      <th colspan=\"3\" halign=\"left\">2009.Spring</th>\n",
       "      <th colspan=\"3\" halign=\"left\">2010.Fall</th>\n",
       "      <th>2010.Spring</th>\n",
       "      <th>...</th>\n",
       "      <th>2017.Fall</th>\n",
       "      <th colspan=\"3\" halign=\"left\">2017.Spring</th>\n",
       "      <th colspan=\"3\" halign=\"left\">2018.Fall</th>\n",
       "      <th colspan=\"3\" halign=\"left\">2018.Spring</th>\n",
       "    </tr>\n",
       "    <tr>\n",
       "      <th>stage</th>\n",
       "      <th>Accepted</th>\n",
       "      <th>Applied</th>\n",
       "      <th>Deposited</th>\n",
       "      <th>Accepted</th>\n",
       "      <th>Applied</th>\n",
       "      <th>Deposited</th>\n",
       "      <th>Accepted</th>\n",
       "      <th>Applied</th>\n",
       "      <th>Deposited</th>\n",
       "      <th>Accepted</th>\n",
       "      <th>...</th>\n",
       "      <th>Deposited</th>\n",
       "      <th>Accepted</th>\n",
       "      <th>Applied</th>\n",
       "      <th>Deposited</th>\n",
       "      <th>Accepted</th>\n",
       "      <th>Applied</th>\n",
       "      <th>Deposited</th>\n",
       "      <th>Accepted</th>\n",
       "      <th>Applied</th>\n",
       "      <th>Deposited</th>\n",
       "    </tr>\n",
       "  </thead>\n",
       "  <tbody>\n",
       "    <tr>\n",
       "      <th>00</th>\n",
       "      <td>2</td>\n",
       "      <td>0</td>\n",
       "      <td>2</td>\n",
       "      <td>0</td>\n",
       "      <td>0</td>\n",
       "      <td>0</td>\n",
       "      <td>3</td>\n",
       "      <td>0</td>\n",
       "      <td>3</td>\n",
       "      <td>2</td>\n",
       "      <td>...</td>\n",
       "      <td>10</td>\n",
       "      <td>8</td>\n",
       "      <td>12</td>\n",
       "      <td>4</td>\n",
       "      <td>7</td>\n",
       "      <td>26</td>\n",
       "      <td>3</td>\n",
       "      <td>2</td>\n",
       "      <td>4</td>\n",
       "      <td>3</td>\n",
       "    </tr>\n",
       "    <tr>\n",
       "      <th>01</th>\n",
       "      <td>2</td>\n",
       "      <td>0</td>\n",
       "      <td>2</td>\n",
       "      <td>0</td>\n",
       "      <td>0</td>\n",
       "      <td>0</td>\n",
       "      <td>4</td>\n",
       "      <td>0</td>\n",
       "      <td>4</td>\n",
       "      <td>2</td>\n",
       "      <td>...</td>\n",
       "      <td>10</td>\n",
       "      <td>8</td>\n",
       "      <td>12</td>\n",
       "      <td>4</td>\n",
       "      <td>8</td>\n",
       "      <td>32</td>\n",
       "      <td>3</td>\n",
       "      <td>2</td>\n",
       "      <td>4</td>\n",
       "      <td>3</td>\n",
       "    </tr>\n",
       "    <tr>\n",
       "      <th>02</th>\n",
       "      <td>2</td>\n",
       "      <td>0</td>\n",
       "      <td>2</td>\n",
       "      <td>0</td>\n",
       "      <td>0</td>\n",
       "      <td>0</td>\n",
       "      <td>6</td>\n",
       "      <td>0</td>\n",
       "      <td>6</td>\n",
       "      <td>2</td>\n",
       "      <td>...</td>\n",
       "      <td>11</td>\n",
       "      <td>8</td>\n",
       "      <td>12</td>\n",
       "      <td>4</td>\n",
       "      <td>8</td>\n",
       "      <td>34</td>\n",
       "      <td>3</td>\n",
       "      <td>2</td>\n",
       "      <td>5</td>\n",
       "      <td>3</td>\n",
       "    </tr>\n",
       "    <tr>\n",
       "      <th>03</th>\n",
       "      <td>3</td>\n",
       "      <td>4</td>\n",
       "      <td>2</td>\n",
       "      <td>1</td>\n",
       "      <td>0</td>\n",
       "      <td>1</td>\n",
       "      <td>7</td>\n",
       "      <td>0</td>\n",
       "      <td>7</td>\n",
       "      <td>2</td>\n",
       "      <td>...</td>\n",
       "      <td>11</td>\n",
       "      <td>8</td>\n",
       "      <td>13</td>\n",
       "      <td>4</td>\n",
       "      <td>8</td>\n",
       "      <td>42</td>\n",
       "      <td>3</td>\n",
       "      <td>2</td>\n",
       "      <td>6</td>\n",
       "      <td>3</td>\n",
       "    </tr>\n",
       "    <tr>\n",
       "      <th>04</th>\n",
       "      <td>3</td>\n",
       "      <td>4</td>\n",
       "      <td>2</td>\n",
       "      <td>1</td>\n",
       "      <td>0</td>\n",
       "      <td>1</td>\n",
       "      <td>8</td>\n",
       "      <td>0</td>\n",
       "      <td>8</td>\n",
       "      <td>2</td>\n",
       "      <td>...</td>\n",
       "      <td>11</td>\n",
       "      <td>10</td>\n",
       "      <td>14</td>\n",
       "      <td>4</td>\n",
       "      <td>8</td>\n",
       "      <td>50</td>\n",
       "      <td>3</td>\n",
       "      <td>2</td>\n",
       "      <td>8</td>\n",
       "      <td>3</td>\n",
       "    </tr>\n",
       "  </tbody>\n",
       "</table>\n",
       "<p>5 rows × 60 columns</p>\n",
       "</div>"
      ],
      "text/plain": [
       "year_term 2009.Fall                   2009.Spring                   2010.Fall  \\\n",
       "stage      Accepted Applied Deposited    Accepted Applied Deposited  Accepted   \n",
       "00                2       0         2           0       0         0         3   \n",
       "01                2       0         2           0       0         0         4   \n",
       "02                2       0         2           0       0         0         6   \n",
       "03                3       4         2           1       0         1         7   \n",
       "04                3       4         2           1       0         1         8   \n",
       "\n",
       "year_term                   2010.Spring    ...    2017.Fall 2017.Spring  \\\n",
       "stage     Applied Deposited    Accepted    ...    Deposited    Accepted   \n",
       "00              0         3           2    ...           10           8   \n",
       "01              0         4           2    ...           10           8   \n",
       "02              0         6           2    ...           11           8   \n",
       "03              0         7           2    ...           11           8   \n",
       "04              0         8           2    ...           11          10   \n",
       "\n",
       "year_term                   2018.Fall                   2018.Spring          \\\n",
       "stage     Applied Deposited  Accepted Applied Deposited    Accepted Applied   \n",
       "00             12         4         7      26         3           2       4   \n",
       "01             12         4         8      32         3           2       4   \n",
       "02             12         4         8      34         3           2       5   \n",
       "03             13         4         8      42         3           2       6   \n",
       "04             14         4         8      50         3           2       8   \n",
       "\n",
       "year_term            \n",
       "stage     Deposited  \n",
       "00                3  \n",
       "01                3  \n",
       "02                3  \n",
       "03                3  \n",
       "04                3  \n",
       "\n",
       "[5 rows x 60 columns]"
      ]
     },
     "execution_count": 37,
     "metadata": {},
     "output_type": "execute_result"
    }
   ],
   "source": [
    "summ_t = summ.transpose()\n",
    "summ_t.head()"
   ]
  },
  {
   "cell_type": "code",
   "execution_count": null,
   "metadata": {
    "collapsed": false,
    "deletable": true,
    "editable": true
   },
   "outputs": [],
   "source": [
    "summ_t.index"
   ]
  },
  {
   "cell_type": "code",
   "execution_count": null,
   "metadata": {
    "collapsed": false,
    "deletable": true,
    "editable": true,
    "scrolled": true
   },
   "outputs": [],
   "source": [
    "summ_t[('2018.Fall', 'Deposited')]"
   ]
  },
  {
   "cell_type": "code",
   "execution_count": 38,
   "metadata": {
    "collapsed": false,
    "deletable": true,
    "editable": true
   },
   "outputs": [],
   "source": [
    "terms = ['2010.Fall', '2011.Fall', '2012.Fall', '2013.Fall', '2014.Fall', '2015.Fall', '2016.Fall', '2017.Fall', '2018.Fall', ]\n",
    "this_term = '2018.Fall'\n",
    "#print(terms)\n",
    "#print(this_term)\n",
    "terms.remove(this_term)\n",
    "\n",
    "#print(terms)"
   ]
  },
  {
   "cell_type": "code",
   "execution_count": 40,
   "metadata": {
    "collapsed": false,
    "deletable": true,
    "editable": true
   },
   "outputs": [],
   "source": [
    "from bokeh.plotting import figure, output_file, show\n",
    "from bokeh.palettes import Blues8\n",
    "\n",
    "#df = \n",
    "\n",
    "p = figure(plot_width=800, plot_height=600, title=\"Weekly Deposits\",\n",
    "           x_axis_label=\"Week Number\", y_axis_label=\"Deposits\",\n",
    "           tools=\"pan,wheel_zoom,box_zoom,save,reset\",\n",
    "          )\n",
    "\n",
    "c=7\n",
    "for t in terms:\n",
    "    p.line(summ_t.index, summ_t[(t, 'Deposited')], color=Blues8[c], legend=t)\n",
    "    c -= 1\n",
    "\n",
    "p.line(summ_t.index, summ_t[(this_term, 'Deposited')], color='red', legend=this_term)\n",
    "\n",
    "p.legend.location = \"top_left\"\n",
    "\n",
    "output_file(\"weekly_deposits.html\")\n",
    "\n",
    "show(p)"
   ]
  },
  {
   "cell_type": "code",
   "execution_count": null,
   "metadata": {
    "collapsed": true,
    "deletable": true,
    "editable": true
   },
   "outputs": [],
   "source": []
  },
  {
   "cell_type": "code",
   "execution_count": 1,
   "metadata": {
    "collapsed": true,
    "deletable": true,
    "editable": true
   },
   "outputs": [],
   "source": [
    "import pandas as pd\n",
    "from datetime import date\n",
    "\n",
    "from bokeh.layouts import widgetbox, row\n",
    "from bokeh.models.widgets import RadioGroup\n",
    "#from bokeh.plotting import figure, output_file, show\n",
    "from bokeh.plotting import figure, curdoc\n",
    "from bokeh.palettes import Blues8"
   ]
  },
  {
   "cell_type": "code",
   "execution_count": 2,
   "metadata": {
    "collapsed": true,
    "deletable": true,
    "editable": true
   },
   "outputs": [],
   "source": [
    "today = date.today()\n",
    "today_str = today.strftime('%Y%m%d')"
   ]
  },
  {
   "cell_type": "code",
   "execution_count": 3,
   "metadata": {
    "collapsed": false,
    "deletable": true,
    "editable": true
   },
   "outputs": [],
   "source": [
    "def adm_week(d):\n",
    "    \"\"\"\n",
    "    returns calendar week number and Admissions Week Number for a given date, d\n",
    "    \"\"\"\n",
    "    year = d.year\n",
    "    if d >= date(year, 9, 1):\n",
    "        adm_year_start = year\n",
    "    else:\n",
    "        adm_year_start = year - 1\n",
    "    \n",
    "    week_number = d.isocalendar()[1]\n",
    "    adm_start_week = date(adm_year_start, 9, 1).isocalendar()[1]\n",
    "\n",
    "    if week_number >= adm_start_week:\n",
    "        adm_week_number = week_number - adm_start_week\n",
    "    else:\n",
    "        adm_week_number = 53 + (week_number - adm_start_week)\n",
    "    \n",
    "    return (week_number, adm_week_number)\n"
   ]
  },
  {
   "cell_type": "code",
   "execution_count": 4,
   "metadata": {
    "collapsed": false,
    "deletable": true,
    "editable": true
   },
   "outputs": [
    {
     "name": "stdout",
     "output_type": "stream",
     "text": [
      "(34575, 58)\n",
      "   year_term    stage PEOPLE_CODE_ID  00  01  02  03  04  05  06     ...      \\\n",
      "0  2009.Fall  Applied     P000000564   0   0   0   0   0   0   0     ...       \n",
      "1  2009.Fall  Applied     P000006539   0   0   0   0   0   0   0     ...       \n",
      "2  2009.Fall  Applied     P000022053   0   0   0   0   0   0   0     ...       \n",
      "3  2009.Fall  Applied     P000022130   0   0   0   0   0   0   0     ...       \n",
      "4  2009.Fall  Applied     P000022259   0   0   0   0   0   0   0     ...       \n",
      "\n",
      "   45  46  47  48  49  50  51  52  53  curriculum  \n",
      "0   0   0   0   0   0   0   0   0   0        FIFO  \n",
      "1   0   0   0   0   0   0   0   0   0        NRMP  \n",
      "2   0   0   0   0   0   0   0   0   0        FWSW  \n",
      "3   0   0   0   0   0   0   0   0   0        FIFO  \n",
      "4   0   0   0   0   0   0   0   0   0        FWSW  \n",
      "\n",
      "[5 rows x 58 columns]\n"
     ]
    }
   ],
   "source": [
    "df = pd.read_hdf('data/stage_data', key='weekly')\n",
    "\n",
    "print(df.shape)\n",
    "print(df.head())"
   ]
  },
  {
   "cell_type": "code",
   "execution_count": 8,
   "metadata": {
    "collapsed": false
   },
   "outputs": [],
   "source": [
    "all_terms = sorted(list(df['year_term'].dropna().unique()))\n",
    "all_terms = [l for l in all_terms if 'Fall' in l]"
   ]
  },
  {
   "cell_type": "code",
   "execution_count": 9,
   "metadata": {
    "collapsed": false
   },
   "outputs": [
    {
     "name": "stdout",
     "output_type": "stream",
     "text": [
      "['2009.Fall', '2010.Fall', '2011.Fall', '2012.Fall', '2013.Fall', '2014.Fall', '2015.Fall', '2016.Fall', '2017.Fall', '2018.Fall']\n"
     ]
    }
   ],
   "source": [
    "print(all_terms)"
   ]
  },
  {
   "cell_type": "code",
   "execution_count": 45,
   "metadata": {
    "collapsed": true,
    "deletable": true,
    "editable": true
   },
   "outputs": [],
   "source": [
    "terms = ['2010.Fall', '2011.Fall', '2012.Fall', '2013.Fall', '2014.Fall', '2015.Fall', '2016.Fall', '2017.Fall', '2018.Fall', ]\n",
    "this_term = '2018.Fall'\n",
    "terms.remove(this_term)\n"
   ]
  },
  {
   "cell_type": "code",
   "execution_count": 46,
   "metadata": {
    "collapsed": false,
    "deletable": true,
    "editable": true
   },
   "outputs": [
    {
     "data": {
      "text/plain": [
       "'2018.Spring'"
      ]
     },
     "execution_count": 46,
     "metadata": {},
     "output_type": "execute_result"
    }
   ],
   "source": [
    "all_terms[-1]"
   ]
  },
  {
   "cell_type": "code",
   "execution_count": 146,
   "metadata": {
    "collapsed": true,
    "deletable": true,
    "editable": true
   },
   "outputs": [],
   "source": [
    "summ = df.groupby(['year_term', 'stage']).sum()\n",
    "summ_t = summ.transpose()\n"
   ]
  },
  {
   "cell_type": "code",
   "execution_count": 147,
   "metadata": {
    "collapsed": false,
    "deletable": true,
    "editable": true
   },
   "outputs": [],
   "source": [
    "week_number, adm_week_number = adm_week(today)"
   ]
  },
  {
   "cell_type": "code",
   "execution_count": 148,
   "metadata": {
    "collapsed": false,
    "deletable": true,
    "editable": true
   },
   "outputs": [
    {
     "name": "stdout",
     "output_type": "stream",
     "text": [
      "<class 'list'>\n",
      "['AALM', 'BAKA', 'BASM', 'BIOG', 'BMES', 'CASM', 'COMM', 'CULA', 'CULB', 'CULO', 'EBSB', 'ECOR', 'ENST', 'ENVS', 'FBIO', 'FEFM', 'FFOP', 'FIFO', 'FORT', 'FRRM', 'FSBM', 'FVEG', 'FWSF', 'FWSW', 'GISC', 'HRMT', 'HRTM', 'INAS', 'INST', 'LAGS', 'NRCM', 'NRMP', 'NRSS', 'PACM', 'PRFM', 'PSYCH', 'RATE', 'RECR', 'SCWL', 'SURV', 'UNDM']\n"
     ]
    }
   ],
   "source": [
    "curr_list = sorted(list(df['curriculum'].dropna().unique()))\n",
    "print(type(curr_list))\n",
    "print(curr_list)"
   ]
  },
  {
   "cell_type": "code",
   "execution_count": 149,
   "metadata": {
    "collapsed": false,
    "deletable": true,
    "editable": true
   },
   "outputs": [
    {
     "name": "stdout",
     "output_type": "stream",
     "text": [
      "Admissions Weekly Summary - Week 36 (20180501)\n"
     ]
    }
   ],
   "source": [
    "title = f\"Admissions Weekly Summary - Week {adm_week_number} ({today_str})\"\n",
    "print(title)"
   ]
  },
  {
   "cell_type": "code",
   "execution_count": 155,
   "metadata": {
    "collapsed": true,
    "deletable": true,
    "editable": true
   },
   "outputs": [],
   "source": [
    "def create_figure():\n",
    "    stage = stage_list[stage_n.active]\n",
    "    p = figure(plot_width=800, plot_height=600, title=title,\n",
    "           x_axis_label=\"Week Number\", y_axis_label=stage,\n",
    "           tools=\"pan,wheel_zoom,box_zoom,save,reset\",\n",
    "          )\n",
    "    c=7\n",
    "    \n",
    "    for t in terms:\n",
    "        p.line(df.index, summ_t[(t, stage)], color=Blues8[c], legend=t)\n",
    "        c -= 1\n",
    "\n",
    "    p.line(summ_t.index, summ_t[(this_term, stage)], color='red', legend=this_term)\n",
    "\n",
    "    p.legend.location = \"top_left\"\n",
    "    \n",
    "    return p\n",
    "\n",
    "\n",
    "    "
   ]
  },
  {
   "cell_type": "code",
   "execution_count": 156,
   "metadata": {
    "collapsed": true,
    "deletable": true,
    "editable": true
   },
   "outputs": [],
   "source": [
    "def update(attr, old, new):\n",
    "    layout.children[1] = create_figure()"
   ]
  },
  {
   "cell_type": "code",
   "execution_count": 157,
   "metadata": {
    "collapsed": false,
    "deletable": true,
    "editable": true
   },
   "outputs": [],
   "source": [
    "stage_list = ['Applied', 'Accepted', 'Deposited']\n",
    "stage_n = RadioGroup(labels=stage_list, active=2)\n",
    "stage_n.on_change('active', update)"
   ]
  },
  {
   "cell_type": "code",
   "execution_count": 158,
   "metadata": {
    "collapsed": false,
    "deletable": true,
    "editable": true,
    "scrolled": true
   },
   "outputs": [
    {
     "name": "stderr",
     "output_type": "stream",
     "text": [
      "C:\\Anaconda3\\envs\\py36\\lib\\site-packages\\bokeh\\models\\sources.py:138: BokehUserWarning: ColumnDataSource's columns must be of the same length. Current lengths: ('x', 34575), ('y', 54)\n",
      "  \"Current lengths: %s\" % \", \".join(sorted(str((k, len(v))) for k, v in data.items())), BokehUserWarning))\n",
      "C:\\Anaconda3\\envs\\py36\\lib\\site-packages\\bokeh\\models\\sources.py:138: BokehUserWarning: ColumnDataSource's columns must be of the same length. Current lengths: ('x', 34575), ('y', 54)\n",
      "  \"Current lengths: %s\" % \", \".join(sorted(str((k, len(v))) for k, v in data.items())), BokehUserWarning))\n",
      "C:\\Anaconda3\\envs\\py36\\lib\\site-packages\\bokeh\\models\\sources.py:138: BokehUserWarning: ColumnDataSource's columns must be of the same length. Current lengths: ('x', 34575), ('y', 54)\n",
      "  \"Current lengths: %s\" % \", \".join(sorted(str((k, len(v))) for k, v in data.items())), BokehUserWarning))\n",
      "C:\\Anaconda3\\envs\\py36\\lib\\site-packages\\bokeh\\models\\sources.py:138: BokehUserWarning: ColumnDataSource's columns must be of the same length. Current lengths: ('x', 34575), ('y', 54)\n",
      "  \"Current lengths: %s\" % \", \".join(sorted(str((k, len(v))) for k, v in data.items())), BokehUserWarning))\n",
      "C:\\Anaconda3\\envs\\py36\\lib\\site-packages\\bokeh\\models\\sources.py:138: BokehUserWarning: ColumnDataSource's columns must be of the same length. Current lengths: ('x', 34575), ('y', 54)\n",
      "  \"Current lengths: %s\" % \", \".join(sorted(str((k, len(v))) for k, v in data.items())), BokehUserWarning))\n",
      "C:\\Anaconda3\\envs\\py36\\lib\\site-packages\\bokeh\\models\\sources.py:138: BokehUserWarning: ColumnDataSource's columns must be of the same length. Current lengths: ('x', 34575), ('y', 54)\n",
      "  \"Current lengths: %s\" % \", \".join(sorted(str((k, len(v))) for k, v in data.items())), BokehUserWarning))\n",
      "C:\\Anaconda3\\envs\\py36\\lib\\site-packages\\bokeh\\models\\sources.py:138: BokehUserWarning: ColumnDataSource's columns must be of the same length. Current lengths: ('x', 34575), ('y', 54)\n",
      "  \"Current lengths: %s\" % \", \".join(sorted(str((k, len(v))) for k, v in data.items())), BokehUserWarning))\n",
      "C:\\Anaconda3\\envs\\py36\\lib\\site-packages\\bokeh\\models\\sources.py:138: BokehUserWarning: ColumnDataSource's columns must be of the same length. Current lengths: ('x', 34575), ('y', 54)\n",
      "  \"Current lengths: %s\" % \", \".join(sorted(str((k, len(v))) for k, v in data.items())), BokehUserWarning))\n"
     ]
    }
   ],
   "source": [
    "controls = widgetbox([stage_n])\n",
    "layout = row(controls, create_figure())\n"
   ]
  },
  {
   "cell_type": "code",
   "execution_count": 159,
   "metadata": {
    "collapsed": true,
    "deletable": true,
    "editable": true
   },
   "outputs": [],
   "source": [
    "curdoc().add_root(layout)\n",
    "curdoc().title = \"Admissions Weekly Report\""
   ]
  },
  {
   "cell_type": "code",
   "execution_count": 161,
   "metadata": {
    "collapsed": false,
    "deletable": true,
    "editable": true
   },
   "outputs": [
    {
     "ename": "NameError",
     "evalue": "name 'p' is not defined",
     "output_type": "error",
     "traceback": [
      "\u001b[1;31m---------------------------------------------------------------------------\u001b[0m",
      "\u001b[1;31mNameError\u001b[0m                                 Traceback (most recent call last)",
      "\u001b[1;32m<ipython-input-161-309bc1fe1bea>\u001b[0m in \u001b[0;36m<module>\u001b[1;34m()\u001b[0m\n\u001b[1;32m----> 1\u001b[1;33m \u001b[0mshow\u001b[0m\u001b[1;33m(\u001b[0m\u001b[0mp\u001b[0m\u001b[1;33m)\u001b[0m\u001b[1;33m\u001b[0m\u001b[0m\n\u001b[0m",
      "\u001b[1;31mNameError\u001b[0m: name 'p' is not defined"
     ]
    }
   ],
   "source": [
    "show(p)"
   ]
  },
  {
   "cell_type": "code",
   "execution_count": null,
   "metadata": {
    "collapsed": true,
    "deletable": true,
    "editable": true
   },
   "outputs": [],
   "source": [
    "output_file(\"weekly_admissions.html\")\n",
    "\n",
    "show(p)"
   ]
  }
 ],
 "metadata": {
  "kernelspec": {
   "display_name": "Python 3",
   "language": "python",
   "name": "python3"
  },
  "language_info": {
   "codemirror_mode": {
    "name": "ipython",
    "version": 3
   },
   "file_extension": ".py",
   "mimetype": "text/x-python",
   "name": "python",
   "nbconvert_exporter": "python",
   "pygments_lexer": "ipython3",
   "version": "3.6.5"
  }
 },
 "nbformat": 4,
 "nbformat_minor": 2
}
