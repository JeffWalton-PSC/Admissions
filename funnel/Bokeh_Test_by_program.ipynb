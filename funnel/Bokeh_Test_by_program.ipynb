{
 "cells": [
  {
   "cell_type": "code",
   "execution_count": 1,
   "metadata": {},
   "outputs": [],
   "source": [
    "import numpy as np\n",
    "import pandas as pd\n",
    "from datetime import date\n",
    "\n",
    "from bokeh.layouts import widgetbox, row\n",
    "from bokeh.models.widgets import MultiSelect, RadioGroup, Select\n",
    "from bokeh.plotting import figure, curdoc\n",
    "from bokeh.palettes import Set1_9\n"
   ]
  },
  {
   "cell_type": "code",
   "execution_count": 2,
   "metadata": {},
   "outputs": [],
   "source": [
    "start_term = \"2014.Spring\"\n"
   ]
  },
  {
   "cell_type": "code",
   "execution_count": 3,
   "metadata": {},
   "outputs": [],
   "source": [
    "def date_diff_weeks(start, end):\n",
    "    \"\"\"\n",
    "    returns the difference between two dates in integer weeks\n",
    "    \"\"\"\n",
    "    diff = (pd.to_datetime(end) - pd.to_datetime(start))\n",
    "    return int( diff / np.timedelta64(1,'W'))\n",
    "\n",
    "\n",
    "def adm_week(d):\n",
    "    \"\"\"\n",
    "    returns calendar week number and Admissions Week Number for a given date, d\n",
    "    \"\"\"\n",
    "    year = d.year\n",
    "    week_number = d.isocalendar()[1]\n",
    "\n",
    "    if d >= date(year, 9, 1):\n",
    "        adm_start = date(year, 9, 1)\n",
    "    else:\n",
    "        adm_start = date(year - 1, 9, 1)\n",
    "\n",
    "    adm_week_number = min(date_diff_weeks(adm_start, d), 53)\n",
    "\n",
    "    return week_number, adm_week_number\n",
    "\n"
   ]
  },
  {
   "cell_type": "code",
   "execution_count": 39,
   "metadata": {},
   "outputs": [],
   "source": [
    "def create_figure(df):\n",
    "    stage = stage_list[stage_rg.active]\n",
    "\n",
    "    prog = program.value\n",
    "\n",
    "    title = (\n",
    "        f\"{prog} - Admissions Weekly Summary - Week {adm_week_number:d} ({today_str})\"\n",
    "    )\n",
    "\n",
    "    term = select_term.value\n",
    "\n",
    "    term_list = list(terms.value)\n",
    "    term_list.reverse()\n",
    "\n",
    "    print(term, stage, prog)\n",
    "    y_max = df[(term, stage, prog)].max()\n",
    "    for t in term_list:\n",
    "        print(t, stage, prog)\n",
    "        if (t, stage, prog) in df.index.values:\n",
    "            ym = df[(t, stage, prog)].max()\n",
    "            if ym > y_max:\n",
    "                y_max = ym\n",
    "\n",
    "    TOOLS = \"pan,wheel_zoom,box_zoom,save,reset\"\n",
    "    # TOOLS=\"crosshair,pan,wheel_zoom,box_zoom,save,reset\"\n",
    "\n",
    "    p = figure(\n",
    "        plot_width=800,\n",
    "        plot_height=600,\n",
    "        title=title,\n",
    "        x_axis_label=\"Admissions Week Number (year starts Sept 1)\",\n",
    "        y_axis_label=stage,\n",
    "        tools=TOOLS,\n",
    "        x_range=(0, 54),\n",
    "        y_range=(0, y_max * 1.05),\n",
    "    )\n",
    "\n",
    "    p.line(df.index, df[(term, stage, prog)], color=\"red\", line_width=2, legend_label=term)\n",
    "\n",
    "    c = 1\n",
    "    for t in term_list:\n",
    "        p.line(df.index, df[(t, stage)], color=Set1_9[c], legend_label=t)\n",
    "        if c <= 8:\n",
    "            c += 1\n",
    "        else:\n",
    "            c = 1\n",
    "\n",
    "    # week_number line\n",
    "    p.line(\n",
    "        (adm_week_number, adm_week_number),\n",
    "        (-1000, 5000),\n",
    "        color=\"green\",\n",
    "        line_width=0.8,\n",
    "        line_dash=\"dashed\",\n",
    "        legend_label=f\"Week {adm_week_number:d}\",\n",
    "        alpha=0.8,\n",
    "    )\n",
    "\n",
    "    p.legend.location = \"top_left\"\n",
    "\n",
    "    p.yaxis.minor_tick_line_color = None\n",
    "\n",
    "    return p\n",
    "\n",
    "\n",
    "def update(attr, old, new):\n",
    "    layout.children[1] = create_figure(summ_t)\n",
    "\n",
    "\n",
    "def update_prog(attr, old, new):\n",
    "    terms_opt = sorted(\n",
    "        list(\n",
    "            pt.loc[\n",
    "                (\n",
    "                    (pt[\"curriculum\"] == program.value)\n",
    "                    & (pt[\"stage\"] == stage_list[stage_rg.active])\n",
    "                ),\n",
    "                \"year_term\",\n",
    "            ]\n",
    "            .dropna()\n",
    "            .unique()\n",
    "        )\n",
    "    )\n",
    "    terms_opt = [l for l in terms_opt if \"Fall\" in l]\n",
    "    if len(terms_opt) > 1:\n",
    "        terms_opt.remove(select_term.value)\n",
    "    terms.options = terms_opt\n",
    "    terms.value = [terms_opt[-1]]\n",
    "    layout.children[1] = create_figure(summ_t)\n",
    "\n",
    "\n",
    "def update_term(attr, old, new):\n",
    "    terms_opt = sorted(\n",
    "        list(\n",
    "            pt.loc[\n",
    "                (\n",
    "                    (pt[\"curriculum\"] == program.value)\n",
    "                    & (pt[\"stage\"] == stage_list[stage_rg.active])\n",
    "                ),\n",
    "                \"year_term\",\n",
    "            ]\n",
    "            .dropna()\n",
    "            .unique()\n",
    "        )\n",
    "    )\n",
    "    terms_opt = [l for l in terms_opt if \"Fall\" in l]\n",
    "    terms_opt.remove(select_term.value)\n",
    "    terms.options = terms_opt\n",
    "    terms.value = terms_opt\n",
    "    layout.children[1] = create_figure(summ_t)\n",
    "    program_list = sorted(\n",
    "        list(\n",
    "            pt.loc[\n",
    "                (\n",
    "                    (pt[\"year_term\"] == select_term.value)\n",
    "                    & (pt[\"stage\"] == stage_list[stage_rg.active])\n",
    "                ),\n",
    "                \"curriculum\",\n",
    "            ]\n",
    "            .dropna()\n",
    "            .unique()\n",
    "        )\n",
    "    )\n",
    "    prog = program_list.index(program.value)\n",
    "    program.options = program_list\n",
    "    program.value = program_list[prog]\n"
   ]
  },
  {
   "cell_type": "code",
   "execution_count": 5,
   "metadata": {},
   "outputs": [],
   "source": [
    "today = date.today()\n",
    "today_str = today.strftime(\"%Y%m%d\")\n"
   ]
  },
  {
   "cell_type": "code",
   "execution_count": 8,
   "metadata": {},
   "outputs": [
    {
     "name": "stdout",
     "output_type": "stream",
     "text": [
      "(25998, 58)\n"
     ]
    }
   ],
   "source": [
    "df = pd.read_hdf(\"data/stage_data\", key=\"weekly\")\n",
    "df = df[(df[\"year_term\"] > start_term )]\n",
    "week_number, adm_week_number = adm_week(today)\n",
    "\n",
    "# curr_list = sorted(list(df['curriculum'].dropna().unique()))\n",
    "\n",
    "print(df.shape)"
   ]
  },
  {
   "cell_type": "code",
   "execution_count": 9,
   "metadata": {},
   "outputs": [],
   "source": [
    "summ = df.groupby([\"year_term\", \"stage\", \"curriculum\"]).sum()\n",
    "summ_t = summ.transpose()\n"
   ]
  },
  {
   "cell_type": "code",
   "execution_count": 10,
   "metadata": {},
   "outputs": [],
   "source": [
    "pt = (\n",
    "    df.loc[:, [\"year_term\", \"stage\", \"curriculum\"]]\n",
    "    .dropna()\n",
    "    .drop_duplicates([\"year_term\", \"stage\", \"curriculum\"])\n",
    ")\n"
   ]
  },
  {
   "cell_type": "code",
   "execution_count": 11,
   "metadata": {},
   "outputs": [],
   "source": [
    "# widgets\n",
    "stage_list = [\"Applied\", \"Accepted\", \"Deposited\"]\n",
    "stage_rg = RadioGroup(name=\"Stage:\", labels=stage_list, active=2)\n",
    "stage_rg.on_change(\"active\", update)\n"
   ]
  },
  {
   "cell_type": "code",
   "execution_count": 12,
   "metadata": {},
   "outputs": [],
   "source": [
    "all_terms = sorted(list(df[\"year_term\"].dropna().unique()))\n",
    "all_terms = [l for l in all_terms if \"Fall\" in l]\n",
    "select_term = Select(title=\"Selected Term:\", value=all_terms[-1], options=all_terms)\n",
    "select_term.on_change(\"value\", update_term)\n"
   ]
  },
  {
   "cell_type": "code",
   "execution_count": 13,
   "metadata": {},
   "outputs": [],
   "source": [
    "program_list = sorted(\n",
    "    list(\n",
    "        pt.loc[\n",
    "            (\n",
    "                (pt[\"year_term\"] == select_term.value)\n",
    "                & (pt[\"stage\"] == stage_list[stage_rg.active])\n",
    "            ),\n",
    "            \"curriculum\",\n",
    "        ]\n",
    "        .dropna()\n",
    "        .unique()\n",
    "    )\n",
    ")\n",
    "program = Select(\n",
    "    title=\"Selected Academic Program:\", value=program_list[0], options=program_list\n",
    ")\n",
    "program.on_change(\"value\", update_prog)\n"
   ]
  },
  {
   "cell_type": "code",
   "execution_count": 14,
   "metadata": {},
   "outputs": [],
   "source": [
    "terms_opt = all_terms.copy()\n",
    "terms_opt.remove(select_term.value)\n",
    "terms = MultiSelect(\n",
    "    title=\"Other Displayed Terms: (ctrl-click to select/de-select)\",\n",
    "    options=terms_opt,\n",
    "    size=5,\n",
    "    value=[terms_opt[-1]],\n",
    ")\n",
    "terms.on_change(\"value\", update)\n"
   ]
  },
  {
   "cell_type": "code",
   "execution_count": 40,
   "metadata": {},
   "outputs": [
    {
     "name": "stdout",
     "output_type": "stream",
     "text": [
      "2021.Fall Deposited BAKA\n",
      "2020.Fall Deposited BAKA\n"
     ]
    },
    {
     "name": "stderr",
     "output_type": "stream",
     "text": [
      "<ipython-input-39-12e7cb190726>:19: FutureWarning: elementwise comparison failed; returning scalar instead, but in the future will perform elementwise comparison\n",
      "  if (t, stage, prog) in df.index.values:\n",
      "BokehDeprecationWarning: 'legend' keyword is deprecated, use explicit 'legend_label', 'legend_field', or 'legend_group' keywords instead\n"
     ]
    }
   ],
   "source": [
    "# layout\n",
    "controls = widgetbox([stage_rg, select_term, program, terms])\n",
    "layout = row(controls, create_figure(summ_t))\n",
    "\n",
    "curdoc().add_root(layout)\n",
    "curdoc().title = \"Admissions Weekly Report\"\n"
   ]
  },
  {
   "cell_type": "code",
   "execution_count": null,
   "metadata": {},
   "outputs": [],
   "source": []
  },
  {
   "cell_type": "code",
   "execution_count": 16,
   "metadata": {},
   "outputs": [
    {
     "name": "stdout",
     "output_type": "stream",
     "text": [
      "Select(id='1003', ...)\n"
     ]
    }
   ],
   "source": [
    "print(program.options)"
   ]
  },
  {
   "cell_type": "code",
   "execution_count": 17,
   "metadata": {},
   "outputs": [
    {
     "name": "stdout",
     "output_type": "stream",
     "text": [
      "BAKA\n"
     ]
    }
   ],
   "source": [
    "print(program.value)"
   ]
  },
  {
   "cell_type": "code",
   "execution_count": 25,
   "metadata": {},
   "outputs": [
    {
     "name": "stdout",
     "output_type": "stream",
     "text": [
      "1\n"
     ]
    }
   ],
   "source": [
    "y_max = summ_t[('2021.Fall', 'Deposited', 'BAKA')].max()\n",
    "print(y_max)"
   ]
  },
  {
   "cell_type": "code",
   "execution_count": 24,
   "metadata": {},
   "outputs": [
    {
     "ename": "KeyError",
     "evalue": "3010",
     "output_type": "error",
     "traceback": [
      "\u001b[1;31m---------------------------------------------------------------------------\u001b[0m",
      "\u001b[1;31mKeyError\u001b[0m                                  Traceback (most recent call last)",
      "\u001b[1;32m<ipython-input-24-f9663c3c0941>\u001b[0m in \u001b[0;36m<module>\u001b[1;34m\u001b[0m\n\u001b[1;32m----> 1\u001b[1;33m \u001b[0my_max\u001b[0m \u001b[1;33m=\u001b[0m \u001b[0msumm_t\u001b[0m\u001b[1;33m[\u001b[0m\u001b[1;33m(\u001b[0m\u001b[1;34m'2020.Fall'\u001b[0m\u001b[1;33m,\u001b[0m \u001b[1;34m'Deposited'\u001b[0m\u001b[1;33m,\u001b[0m \u001b[1;34m'BAKA'\u001b[0m\u001b[1;33m,\u001b[0m\u001b[1;33m)\u001b[0m\u001b[1;33m]\u001b[0m\u001b[1;33m.\u001b[0m\u001b[0mmax\u001b[0m\u001b[1;33m(\u001b[0m\u001b[1;33m)\u001b[0m\u001b[1;33m\u001b[0m\u001b[1;33m\u001b[0m\u001b[0m\n\u001b[0m\u001b[0;32m      2\u001b[0m \u001b[0mprint\u001b[0m\u001b[1;33m(\u001b[0m\u001b[0my_max\u001b[0m\u001b[1;33m)\u001b[0m\u001b[1;33m\u001b[0m\u001b[1;33m\u001b[0m\u001b[0m\n",
      "\u001b[1;32m~\\.conda\\envs\\py38jl\\lib\\site-packages\\pandas\\core\\frame.py\u001b[0m in \u001b[0;36m__getitem__\u001b[1;34m(self, key)\u001b[0m\n\u001b[0;32m   2899\u001b[0m         \u001b[1;32mif\u001b[0m \u001b[0mis_single_key\u001b[0m\u001b[1;33m:\u001b[0m\u001b[1;33m\u001b[0m\u001b[1;33m\u001b[0m\u001b[0m\n\u001b[0;32m   2900\u001b[0m             \u001b[1;32mif\u001b[0m \u001b[0mself\u001b[0m\u001b[1;33m.\u001b[0m\u001b[0mcolumns\u001b[0m\u001b[1;33m.\u001b[0m\u001b[0mnlevels\u001b[0m \u001b[1;33m>\u001b[0m \u001b[1;36m1\u001b[0m\u001b[1;33m:\u001b[0m\u001b[1;33m\u001b[0m\u001b[1;33m\u001b[0m\u001b[0m\n\u001b[1;32m-> 2901\u001b[1;33m                 \u001b[1;32mreturn\u001b[0m \u001b[0mself\u001b[0m\u001b[1;33m.\u001b[0m\u001b[0m_getitem_multilevel\u001b[0m\u001b[1;33m(\u001b[0m\u001b[0mkey\u001b[0m\u001b[1;33m)\u001b[0m\u001b[1;33m\u001b[0m\u001b[1;33m\u001b[0m\u001b[0m\n\u001b[0m\u001b[0;32m   2902\u001b[0m             \u001b[0mindexer\u001b[0m \u001b[1;33m=\u001b[0m \u001b[0mself\u001b[0m\u001b[1;33m.\u001b[0m\u001b[0mcolumns\u001b[0m\u001b[1;33m.\u001b[0m\u001b[0mget_loc\u001b[0m\u001b[1;33m(\u001b[0m\u001b[0mkey\u001b[0m\u001b[1;33m)\u001b[0m\u001b[1;33m\u001b[0m\u001b[1;33m\u001b[0m\u001b[0m\n\u001b[0;32m   2903\u001b[0m             \u001b[1;32mif\u001b[0m \u001b[0mis_integer\u001b[0m\u001b[1;33m(\u001b[0m\u001b[0mindexer\u001b[0m\u001b[1;33m)\u001b[0m\u001b[1;33m:\u001b[0m\u001b[1;33m\u001b[0m\u001b[1;33m\u001b[0m\u001b[0m\n",
      "\u001b[1;32m~\\.conda\\envs\\py38jl\\lib\\site-packages\\pandas\\core\\frame.py\u001b[0m in \u001b[0;36m_getitem_multilevel\u001b[1;34m(self, key)\u001b[0m\n\u001b[0;32m   2949\u001b[0m     \u001b[1;32mdef\u001b[0m \u001b[0m_getitem_multilevel\u001b[0m\u001b[1;33m(\u001b[0m\u001b[0mself\u001b[0m\u001b[1;33m,\u001b[0m \u001b[0mkey\u001b[0m\u001b[1;33m)\u001b[0m\u001b[1;33m:\u001b[0m\u001b[1;33m\u001b[0m\u001b[1;33m\u001b[0m\u001b[0m\n\u001b[0;32m   2950\u001b[0m         \u001b[1;31m# self.columns is a MultiIndex\u001b[0m\u001b[1;33m\u001b[0m\u001b[1;33m\u001b[0m\u001b[1;33m\u001b[0m\u001b[0m\n\u001b[1;32m-> 2951\u001b[1;33m         \u001b[0mloc\u001b[0m \u001b[1;33m=\u001b[0m \u001b[0mself\u001b[0m\u001b[1;33m.\u001b[0m\u001b[0mcolumns\u001b[0m\u001b[1;33m.\u001b[0m\u001b[0mget_loc\u001b[0m\u001b[1;33m(\u001b[0m\u001b[0mkey\u001b[0m\u001b[1;33m)\u001b[0m\u001b[1;33m\u001b[0m\u001b[1;33m\u001b[0m\u001b[0m\n\u001b[0m\u001b[0;32m   2952\u001b[0m         \u001b[1;32mif\u001b[0m \u001b[0misinstance\u001b[0m\u001b[1;33m(\u001b[0m\u001b[0mloc\u001b[0m\u001b[1;33m,\u001b[0m \u001b[1;33m(\u001b[0m\u001b[0mslice\u001b[0m\u001b[1;33m,\u001b[0m \u001b[0mnp\u001b[0m\u001b[1;33m.\u001b[0m\u001b[0mndarray\u001b[0m\u001b[1;33m)\u001b[0m\u001b[1;33m)\u001b[0m\u001b[1;33m:\u001b[0m\u001b[1;33m\u001b[0m\u001b[1;33m\u001b[0m\u001b[0m\n\u001b[0;32m   2953\u001b[0m             \u001b[0mnew_columns\u001b[0m \u001b[1;33m=\u001b[0m \u001b[0mself\u001b[0m\u001b[1;33m.\u001b[0m\u001b[0mcolumns\u001b[0m\u001b[1;33m[\u001b[0m\u001b[0mloc\u001b[0m\u001b[1;33m]\u001b[0m\u001b[1;33m\u001b[0m\u001b[1;33m\u001b[0m\u001b[0m\n",
      "\u001b[1;32m~\\.conda\\envs\\py38jl\\lib\\site-packages\\pandas\\core\\indexes\\multi.py\u001b[0m in \u001b[0;36mget_loc\u001b[1;34m(self, key, method)\u001b[0m\n\u001b[0;32m   2708\u001b[0m \u001b[1;33m\u001b[0m\u001b[0m\n\u001b[0;32m   2709\u001b[0m         \u001b[1;32mif\u001b[0m \u001b[0mkeylen\u001b[0m \u001b[1;33m==\u001b[0m \u001b[0mself\u001b[0m\u001b[1;33m.\u001b[0m\u001b[0mnlevels\u001b[0m \u001b[1;32mand\u001b[0m \u001b[0mself\u001b[0m\u001b[1;33m.\u001b[0m\u001b[0mis_unique\u001b[0m\u001b[1;33m:\u001b[0m\u001b[1;33m\u001b[0m\u001b[1;33m\u001b[0m\u001b[0m\n\u001b[1;32m-> 2710\u001b[1;33m             \u001b[1;32mreturn\u001b[0m \u001b[0mself\u001b[0m\u001b[1;33m.\u001b[0m\u001b[0m_engine\u001b[0m\u001b[1;33m.\u001b[0m\u001b[0mget_loc\u001b[0m\u001b[1;33m(\u001b[0m\u001b[0mkey\u001b[0m\u001b[1;33m)\u001b[0m\u001b[1;33m\u001b[0m\u001b[1;33m\u001b[0m\u001b[0m\n\u001b[0m\u001b[0;32m   2711\u001b[0m \u001b[1;33m\u001b[0m\u001b[0m\n\u001b[0;32m   2712\u001b[0m         \u001b[1;31m# -- partial selection or non-unique index\u001b[0m\u001b[1;33m\u001b[0m\u001b[1;33m\u001b[0m\u001b[1;33m\u001b[0m\u001b[0m\n",
      "\u001b[1;32mpandas\\_libs\\index.pyx\u001b[0m in \u001b[0;36mpandas._libs.index.BaseMultiIndexCodesEngine.get_loc\u001b[1;34m()\u001b[0m\n",
      "\u001b[1;32mpandas\\_libs\\index.pyx\u001b[0m in \u001b[0;36mpandas._libs.index.IndexEngine.get_loc\u001b[1;34m()\u001b[0m\n",
      "\u001b[1;32mpandas\\_libs\\index.pyx\u001b[0m in \u001b[0;36mpandas._libs.index.IndexEngine.get_loc\u001b[1;34m()\u001b[0m\n",
      "\u001b[1;32mpandas\\_libs\\hashtable_class_helper.pxi\u001b[0m in \u001b[0;36mpandas._libs.hashtable.UInt64HashTable.get_item\u001b[1;34m()\u001b[0m\n",
      "\u001b[1;32mpandas\\_libs\\hashtable_class_helper.pxi\u001b[0m in \u001b[0;36mpandas._libs.hashtable.UInt64HashTable.get_item\u001b[1;34m()\u001b[0m\n",
      "\u001b[1;31mKeyError\u001b[0m: 3010"
     ]
    }
   ],
   "source": [
    "y_max = summ_t[('2020.Fall', 'Deposited', 'BAKA')].max()\n",
    "print(y_max)"
   ]
  },
  {
   "cell_type": "code",
   "execution_count": 27,
   "metadata": {},
   "outputs": [
    {
     "data": {
      "text/html": [
       "<div>\n",
       "<style scoped>\n",
       "    .dataframe tbody tr th:only-of-type {\n",
       "        vertical-align: middle;\n",
       "    }\n",
       "\n",
       "    .dataframe tbody tr th {\n",
       "        vertical-align: top;\n",
       "    }\n",
       "\n",
       "    .dataframe thead tr th {\n",
       "        text-align: left;\n",
       "    }\n",
       "</style>\n",
       "<table border=\"1\" class=\"dataframe\">\n",
       "  <thead>\n",
       "    <tr>\n",
       "      <th>year_term</th>\n",
       "      <th colspan=\"10\" halign=\"left\">2015.Fall</th>\n",
       "      <th>...</th>\n",
       "      <th colspan=\"10\" halign=\"left\">2021.Spring</th>\n",
       "    </tr>\n",
       "    <tr>\n",
       "      <th>stage</th>\n",
       "      <th colspan=\"10\" halign=\"left\">Accepted</th>\n",
       "      <th>...</th>\n",
       "      <th colspan=\"10\" halign=\"left\">Deposited</th>\n",
       "    </tr>\n",
       "    <tr>\n",
       "      <th>curriculum</th>\n",
       "      <th>AALM</th>\n",
       "      <th>BAKA</th>\n",
       "      <th>BASM</th>\n",
       "      <th>BIOG</th>\n",
       "      <th>CASM</th>\n",
       "      <th>COMM</th>\n",
       "      <th>CULA</th>\n",
       "      <th>EBSB</th>\n",
       "      <th>ECOR</th>\n",
       "      <th>ENST</th>\n",
       "      <th>...</th>\n",
       "      <th>INST</th>\n",
       "      <th>MNGTS</th>\n",
       "      <th>MSNRCA</th>\n",
       "      <th>MSNRCF</th>\n",
       "      <th>MSNRCS</th>\n",
       "      <th>NRCM</th>\n",
       "      <th>PACM</th>\n",
       "      <th>PSYCH</th>\n",
       "      <th>RECR</th>\n",
       "      <th>UNDM</th>\n",
       "    </tr>\n",
       "  </thead>\n",
       "  <tbody>\n",
       "    <tr>\n",
       "      <th>00</th>\n",
       "      <td>0</td>\n",
       "      <td>0</td>\n",
       "      <td>0</td>\n",
       "      <td>0</td>\n",
       "      <td>0</td>\n",
       "      <td>0</td>\n",
       "      <td>0</td>\n",
       "      <td>0</td>\n",
       "      <td>0</td>\n",
       "      <td>0</td>\n",
       "      <td>...</td>\n",
       "      <td>0</td>\n",
       "      <td>0</td>\n",
       "      <td>0</td>\n",
       "      <td>0</td>\n",
       "      <td>0</td>\n",
       "      <td>0</td>\n",
       "      <td>0</td>\n",
       "      <td>0</td>\n",
       "      <td>0</td>\n",
       "      <td>0</td>\n",
       "    </tr>\n",
       "    <tr>\n",
       "      <th>01</th>\n",
       "      <td>0</td>\n",
       "      <td>0</td>\n",
       "      <td>0</td>\n",
       "      <td>0</td>\n",
       "      <td>1</td>\n",
       "      <td>0</td>\n",
       "      <td>0</td>\n",
       "      <td>0</td>\n",
       "      <td>0</td>\n",
       "      <td>0</td>\n",
       "      <td>...</td>\n",
       "      <td>0</td>\n",
       "      <td>0</td>\n",
       "      <td>0</td>\n",
       "      <td>0</td>\n",
       "      <td>0</td>\n",
       "      <td>2</td>\n",
       "      <td>0</td>\n",
       "      <td>0</td>\n",
       "      <td>0</td>\n",
       "      <td>0</td>\n",
       "    </tr>\n",
       "    <tr>\n",
       "      <th>02</th>\n",
       "      <td>0</td>\n",
       "      <td>0</td>\n",
       "      <td>0</td>\n",
       "      <td>0</td>\n",
       "      <td>1</td>\n",
       "      <td>0</td>\n",
       "      <td>0</td>\n",
       "      <td>0</td>\n",
       "      <td>0</td>\n",
       "      <td>0</td>\n",
       "      <td>...</td>\n",
       "      <td>0</td>\n",
       "      <td>0</td>\n",
       "      <td>0</td>\n",
       "      <td>0</td>\n",
       "      <td>0</td>\n",
       "      <td>2</td>\n",
       "      <td>0</td>\n",
       "      <td>0</td>\n",
       "      <td>0</td>\n",
       "      <td>0</td>\n",
       "    </tr>\n",
       "    <tr>\n",
       "      <th>03</th>\n",
       "      <td>0</td>\n",
       "      <td>0</td>\n",
       "      <td>0</td>\n",
       "      <td>0</td>\n",
       "      <td>1</td>\n",
       "      <td>0</td>\n",
       "      <td>0</td>\n",
       "      <td>0</td>\n",
       "      <td>0</td>\n",
       "      <td>0</td>\n",
       "      <td>...</td>\n",
       "      <td>0</td>\n",
       "      <td>0</td>\n",
       "      <td>0</td>\n",
       "      <td>0</td>\n",
       "      <td>0</td>\n",
       "      <td>2</td>\n",
       "      <td>0</td>\n",
       "      <td>0</td>\n",
       "      <td>0</td>\n",
       "      <td>0</td>\n",
       "    </tr>\n",
       "    <tr>\n",
       "      <th>04</th>\n",
       "      <td>0</td>\n",
       "      <td>1</td>\n",
       "      <td>0</td>\n",
       "      <td>1</td>\n",
       "      <td>1</td>\n",
       "      <td>0</td>\n",
       "      <td>1</td>\n",
       "      <td>0</td>\n",
       "      <td>0</td>\n",
       "      <td>0</td>\n",
       "      <td>...</td>\n",
       "      <td>0</td>\n",
       "      <td>0</td>\n",
       "      <td>0</td>\n",
       "      <td>0</td>\n",
       "      <td>0</td>\n",
       "      <td>2</td>\n",
       "      <td>0</td>\n",
       "      <td>0</td>\n",
       "      <td>1</td>\n",
       "      <td>0</td>\n",
       "    </tr>\n",
       "  </tbody>\n",
       "</table>\n",
       "<p>5 rows × 819 columns</p>\n",
       "</div>"
      ],
      "text/plain": [
       "year_term  2015.Fall                                               ...  \\\n",
       "stage       Accepted                                               ...   \n",
       "curriculum      AALM BAKA BASM BIOG CASM COMM CULA EBSB ECOR ENST  ...   \n",
       "00                 0    0    0    0    0    0    0    0    0    0  ...   \n",
       "01                 0    0    0    0    1    0    0    0    0    0  ...   \n",
       "02                 0    0    0    0    1    0    0    0    0    0  ...   \n",
       "03                 0    0    0    0    1    0    0    0    0    0  ...   \n",
       "04                 0    1    0    1    1    0    1    0    0    0  ...   \n",
       "\n",
       "year_term  2021.Spring                                                       \n",
       "stage        Deposited                                                       \n",
       "curriculum        INST MNGTS MSNRCA MSNRCF MSNRCS NRCM PACM PSYCH RECR UNDM  \n",
       "00                   0     0      0      0      0    0    0     0    0    0  \n",
       "01                   0     0      0      0      0    2    0     0    0    0  \n",
       "02                   0     0      0      0      0    2    0     0    0    0  \n",
       "03                   0     0      0      0      0    2    0     0    0    0  \n",
       "04                   0     0      0      0      0    2    0     0    1    0  \n",
       "\n",
       "[5 rows x 819 columns]"
      ]
     },
     "execution_count": 27,
     "metadata": {},
     "output_type": "execute_result"
    }
   ],
   "source": [
    "summ_t.head()"
   ]
  },
  {
   "cell_type": "code",
   "execution_count": 31,
   "metadata": {},
   "outputs": [
    {
     "data": {
      "text/plain": [
       "00    0\n",
       "01    1\n",
       "02    1\n",
       "03    1\n",
       "04    1\n",
       "05    1\n",
       "06    1\n",
       "07    1\n",
       "08    1\n",
       "09    1\n",
       "10    1\n",
       "11    1\n",
       "12    1\n",
       "13    1\n",
       "14    1\n",
       "15    1\n",
       "16    1\n",
       "17    1\n",
       "18    1\n",
       "19    1\n",
       "20    1\n",
       "21    1\n",
       "22    2\n",
       "23    2\n",
       "24    2\n",
       "25    2\n",
       "26    2\n",
       "27    2\n",
       "28    2\n",
       "29    2\n",
       "30    2\n",
       "31    2\n",
       "32    3\n",
       "33    3\n",
       "34    3\n",
       "35    3\n",
       "36    3\n",
       "37    3\n",
       "38    3\n",
       "39    3\n",
       "40    3\n",
       "41    3\n",
       "42    3\n",
       "43    3\n",
       "44    3\n",
       "45    3\n",
       "46    3\n",
       "47    3\n",
       "48    3\n",
       "49    3\n",
       "50    3\n",
       "51    3\n",
       "52    3\n",
       "53    3\n",
       "Name: (2018.Fall, Deposited, BAKA), dtype: int64"
      ]
     },
     "execution_count": 31,
     "metadata": {},
     "output_type": "execute_result"
    }
   ],
   "source": [
    "summ_t[('2018.Fall', 'Deposited', 'BAKA')]"
   ]
  },
  {
   "cell_type": "code",
   "execution_count": null,
   "metadata": {},
   "outputs": [],
   "source": []
  }
 ],
 "metadata": {
  "kernelspec": {
   "display_name": "Python 3",
   "language": "python",
   "name": "python3"
  },
  "language_info": {
   "codemirror_mode": {
    "name": "ipython",
    "version": 3
   },
   "file_extension": ".py",
   "mimetype": "text/x-python",
   "name": "python",
   "nbconvert_exporter": "python",
   "pygments_lexer": "ipython3",
   "version": "3.8.1"
  }
 },
 "nbformat": 4,
 "nbformat_minor": 4
}
